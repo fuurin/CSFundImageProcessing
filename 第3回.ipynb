{
 "cells": [
  {
   "cell_type": "code",
   "execution_count": 1,
   "metadata": {},
   "outputs": [],
   "source": [
    "from lesson3Code.pokemonTournament.pokemonDef import Monster,superEffective,notEffective,noEffect\n",
    "import lesson3Code.pokemonTournament.pokemonFunctions as pf\n",
    "import sys, random, time, math, pickle\n",
    "import numpy as np\n",
    "\n",
    "import matplotlib.pyplot as plt\n",
    "%matplotlib inline"
   ]
  },
  {
   "cell_type": "markdown",
   "metadata": {},
   "source": [
    "Modelling\n",
    "- first hour\n",
    "    - experimentral alg\n",
    "    - pipeline\n",
    "    - examples\n",
    "    - homework\n",
    "- second hour\n",
    "    - pokemon\n",
    "    - intro I.P"
   ]
  },
  {
   "cell_type": "markdown",
   "metadata": {},
   "source": [
    "ゴール： 現実的な問題をコンピュータの能力内で解く  \n",
    "JEA SEAなどのコミュニティサイトがある.  \n",
    "論文をまとめてあるサイト？gatech?なども使える．  \n",
    "アルゴリズムを論文に乗せるのに大事なこと，実験に大事なこと？  \n",
    "コードを見せることではなく，問題がなんなのか，その解法の長所と短所はなんなのか，にたいする洞察を示すことが大事である．  "
   ]
  },
  {
   "cell_type": "markdown",
   "metadata": {},
   "source": [
    "# EA pipeline Step  \n",
    "<br>\n",
    "<div style=\"text-align:center\">problem(client) -> formalization -> algorithm design -> implementation -> experimentation</div>\n",
    "<br>\n",
    "この一連のステップそれぞれからPractical Insightを導き，さらにFeedbackを付け加える  \n",
    "homeworkはexperimentationの辺りから何か出される"
   ]
  },
  {
   "cell_type": "markdown",
   "metadata": {},
   "source": [
    "## Formalization\n",
    "needs storong mathematical foundations  \n",
    "理論上重要なことが実践では重要ではないことがある．  \n",
    "Bias filtering vs Approximation algorithm"
   ]
  },
  {
   "cell_type": "markdown",
   "metadata": {},
   "source": [
    "## Algorithm design\n",
    "どんな点でBest solutionなのか?(最適解を出せるのか，早いのか)  \n",
    "実装時に発生する問題を考慮してデザインすることが大事"
   ]
  },
  {
   "cell_type": "markdown",
   "metadata": {},
   "source": [
    "## Implementation\n",
    "Programming language, team, task distribution...  \n",
    "専門知識なしで，誰が実装しても良いようにしたい．  \n",
    "実装時間 vs 実行時間"
   ]
  },
  {
   "cell_type": "markdown",
   "metadata": {},
   "source": [
    "## Experiments\n",
    "実験の設計(何をどうやって測定するのか)を定める  \n",
    "実験時の「バイアス」に注意する  \n",
    "- 認証バイアス(confirmation bias)世の中で正しいとされているもの，正しいと自分が信じているものを正しいとしてしまうこと\n",
    "- 文化バイアス(culture bias)メディアなど？"
   ]
  },
  {
   "cell_type": "markdown",
   "metadata": {},
   "source": [
    "## Insight\n",
    "- 洞察の種類(問題，アプローチ)\n",
    "    - 結果の解釈\n",
    "    - 仮説検証\n",
    "- SOFT skills"
   ]
  },
  {
   "cell_type": "markdown",
   "metadata": {},
   "source": [
    "# Practical Examples\n",
    "- road network matching\n",
    "- medical image analysis\n",
    "- 3D point set residues"
   ]
  },
  {
   "cell_type": "markdown",
   "metadata": {},
   "source": [
    "## Road network matching\n",
    "地図の一部がどこのものであるかを調べる  \n",
    "交差点と交差点への彩色問題によって，$O(n^4 n'^{3} \\log n')$で解ける. YAGO先生の論文より"
   ]
  },
  {
   "cell_type": "markdown",
   "metadata": {},
   "source": [
    "## Medical Image Analysis"
   ]
  },
  {
   "cell_type": "markdown",
   "metadata": {},
   "source": [
    "## 3D Point Cloud Matching\n",
    "複数の角度から撮ったうさぎの3Dモデルができるって話  \n",
    "最低3つの同じ位置にある点を見つける必要がある．  $O(n^6)$  \n",
    "最新では$O(n^2)$くらい？\n",
    "最悪計算量のオーダが多くても，現実のデータで例えば全てのなんらかの対象となるピクセルがある領域に固まっていることはないなどの仮定を置けば有用なアルゴリズムとなる．"
   ]
  },
  {
   "cell_type": "markdown",
   "metadata": {},
   "source": []
  },
  {
   "cell_type": "markdown",
   "metadata": {},
   "source": [
    "# Toy Problem\n",
    "which is the strongest Pokemon?\n",
    "Formalization\n",
    "- how many pokemon are there?\n",
    "    251? FIRST GENERATION Pokemons.\n",
    "- what does \"strong\" mean?\n",
    "    winners of Combats\n",
    "- read bibliograohy\n",
    "    - 参考：https://hubpages.com/entertainment/Top-10-Strongest-First-Generation-Pokemons"
   ]
  },
  {
   "cell_type": "markdown",
   "metadata": {},
   "source": [
    "Algorithm design\n",
    "- combat system はユーザのコマンドを必要とする\n",
    "- タイプシステム\n",
    "- Moves can be developed using points during the game\n",
    "- Official codeを入手することはできない"
   ]
  },
  {
   "cell_type": "markdown",
   "metadata": {},
   "source": [
    "## Implementation\n",
    "easy to implement  \n",
    "no money  \n",
    "python  "
   ]
  },
  {
   "cell_type": "markdown",
   "metadata": {},
   "source": [
    "Home work\n",
    "1. review the python code, feel free to improve it.\n",
    "2. design experiment(s) to find out the stronger pokemon and pokemon team\n",
    "    team: 6 pokemon, 1匹ずつ戦い，勝ったほうが次のポケモンと戦う\n",
    "3. Report\n",
    "    - results/comments insight!\n",
    "    - Given the restrictions, how would you improve the process(Formalization, design, implementation)\n",
    "    - restrictionsがなければどうやってimproveするか？\n",
    "    - 結果は予想どうりのものか？そうでなければ何が問題だったのか\n",
    "    - もうなんかよくわかんないので，最強のポケモンとポケモンチームを得るために何をやったのかまとめて，あと最後にちょっとした考察を付け加えることにする"
   ]
  },
  {
   "cell_type": "markdown",
   "metadata": {},
   "source": [
    "とりあえず思いつくのは総当たり戦をして，勝った回数が一番多いやつが強い  \n",
    "より早くしたいならランダムリーグ戦をやらせる．これは近似解になる．(タイプシステムがあるので最強とは限らない)"
   ]
  },
  {
   "cell_type": "code",
   "execution_count": 2,
   "metadata": {},
   "outputs": [],
   "source": [
    "listOfNamesAndTypes=pf.readPokemonTypesFromFile(\"lesson3Code/pokemonTournament/listOfPokemon1.txt\")\n",
    "pokeList=pf.readPokemonListFromFile(\"lesson3Code/pokemonTournament/listOfPokemon2.txt\")\n",
    "\n",
    "pokedex={}\n",
    "for monster in pokeList:\n",
    "    pokedex[monster.name]=monster\n",
    "\n",
    "for name,listOfTypes in listOfNamesAndTypes:\n",
    "    for t in listOfTypes:\n",
    "        pokedex[name].variety.append(t)"
   ]
  },
  {
   "cell_type": "code",
   "execution_count": 3,
   "metadata": {},
   "outputs": [],
   "source": [
    "def SingleRoundRobinExperiment(p, enemy_list=pokeList, k=1, battle=pf.battle, skip_same=False, verbose=False):\n",
    "    win_times = np.zeros(len(enemy_list), dtype='i')\n",
    "    for idx, enemy in enumerate(enemy_list):\n",
    "        if skip_same and p.name == enemy.name: continue\n",
    "        for i in range(k):\n",
    "            result = battle(p, enemy)\n",
    "            if result == 0: win_times[idx] += 1\n",
    "    return win_times"
   ]
  },
  {
   "cell_type": "code",
   "execution_count": 5,
   "metadata": {},
   "outputs": [],
   "source": [
    "def RoundRobinExperiment(k=1, battle=pf.battle, verbose=False):\n",
    "    get_win_time = lambda p: sum(SingleRoundRobinExperiment(p, k=k, battle=battle, verbose=verbose))\n",
    "    win_times = np.array([get_win_time(p) for p in pokeList])\n",
    "\n",
    "    if verbose:\n",
    "        strongest = win_times.argmax()\n",
    "        print(\"The strongest pokemon is\", pokeList[strongest].name, \"id:\", strongest)\n",
    "        print(\"The strongest pokemon parameter\", pokeList[strongest])\n",
    "        print(\"Strongest Pokemon Top 10\")\n",
    "        for i in win_times.argsort()[::-1][:10]:\n",
    "            print(pokeList[i])\n",
    "    \n",
    "    return win_times"
   ]
  },
  {
   "cell_type": "markdown",
   "metadata": {},
   "source": [
    "総当たり: $O(n^2)$  \n",
    "$K$回の総当たり: $O(Kn^2)$  \n",
    "この場合は，「あるポケモンが自分より弱いポケモンが何種類いるか」が強さの基準になっている．  \n",
    "- 長所\n",
    "    - ポケモンの能力値がわからなくても強さを測定できる．\n",
    "    - 実装が簡単である\n",
    "- 短所\n",
    "    - 時間がかかる\n",
    "    - Combat Systemに乱数(一様分布)が利用されているため,実験の度に結果が変わる\n",
    "        - 何回繰り返したところで最強とは限らない"
   ]
  },
  {
   "cell_type": "markdown",
   "metadata": {},
   "source": [
    "仮説\n",
    "- 同じタイプの場合，攻撃力，防御力，HPで力関係の期待値がわかる\n",
    "    - 毎ターンそれぞれが対決\n",
    "    - 攻撃力と防御力の変動値は同じタイプであれば一様分布で決まる"
   ]
  },
  {
   "cell_type": "code",
   "execution_count": 6,
   "metadata": {},
   "outputs": [],
   "source": [
    "def SpeedBattle(p1, p2, resetHP=True, verbose=False):\n",
    "    effectiveness = 0.3\n",
    "    max_rounds = 1000\n",
    "    \n",
    "    if resetHP:\n",
    "        pf.ResetHP(p1)\n",
    "        pf.ResetHP(p2)\n",
    "    \n",
    "    if noEffect(p1, p2) and noEffect(p2, p1): return 2\n",
    "    elif noEffect(p1, p2): return 1\n",
    "    elif noEffect(p2, p1): return 0\n",
    "    \n",
    "    attackCenter1=1\n",
    "    if superEffective(p1, p2): attackCenter1+=effectiveness\n",
    "    elif notEffective(p1, p2): attackCenter1-=effectiveness\n",
    "\n",
    "    attackCenter2=1\n",
    "    if superEffective(p2, p1): attackCenter2+=effectiveness\n",
    "    elif notEffective(p2, p1): attackCenter2-=effectiveness\n",
    "    \n",
    "    get_damage1 = max(0, (round(p2.attack * attackCenter2) - round(p1.defense * 0.9)))\n",
    "    survive_rounds1 = (p1.hitpoint[1] / get_damage1) if get_damage1 > 0 else max_rounds\n",
    "        \n",
    "    get_damage2 = max(0, (round(p1.attack * attackCenter1) - round(p2.defense * 0.9)))\n",
    "    survive_rounds2 = (p2.hitpoint[1] / get_damage2) if get_damage2 > 0 else max_rounds\n",
    "        \n",
    "    if survive_rounds1 == survive_rounds2: \n",
    "        if survive_rounds1 == max_rounds: return 2\n",
    "        if p1.speed == p2.speed: return 2\n",
    "        return 0 if p1.speed > p2.speed else 1\n",
    "    \n",
    "    return 0 if survive_rounds1 > survive_rounds2 else 1"
   ]
  },
  {
   "cell_type": "markdown",
   "metadata": {},
   "source": [
    "保存版最強リスト(K=100)  \n",
    "The strongest pokemon is Cloyster id:  90  \n",
    "The strongest pokemon parameter Monster(name='Cloyster', index=90, attack=95, defense=180, speed=85, hitpoint=[50, 50], variety=['Water', 'Ice'])  \n",
    "Strongest Pokemon Top 10  \n",
    "Monster(name='Cloyster', index=90, attack=95, defense=180, speed=85, hitpoint=[50, 50], variety=['Water', 'Ice'])  \n",
    "Monster(name='Kingler', index=98, attack=130, defense=115, speed=50, hitpoint=[55, 55], variety=['Water'])  \n",
    "Monster(name='Gyarados', index=129, attack=125, defense=79, speed=100, hitpoint=[95, -25], variety=['Water', 'Flying'])  \n",
    "Monster(name='Mewtwo', index=149, attack=110, defense=90, speed=154, hitpoint=[106, 36], variety=['Psychic'])  \n",
    "Monster(name='Dragonite', index=148, attack=134, defense=95, speed=100, hitpoint=[91, 71], variety=['Dragon', 'Flying'])  \n",
    "Monster(name='Mew', index=150, attack=100, defense=100, speed=100, hitpoint=[100, -1], variety=['Psychic'])  \n",
    "Monster(name='Kabutops', index=140, attack=115, defense=105, speed=70, hitpoint=[60, -8], variety=['Rock', 'Water'])  \n",
    "Monster(name='Pinsir', index=126, attack=125, defense=100, speed=55, hitpoint=[65, -1], variety=['Bug'])  \n",
    "Monster(name='Rhydon', index=111, attack=130, defense=120, speed=45, hitpoint=[105, 105], variety=['Ground', 'Rock'])  \n",
    "Monster(name='Machamp', index=67, attack=130, defense=80, speed=65, hitpoint=[90, -5], variety=['Fighting'])  \n",
    "====================== Speed Battle =========================  \n",
    "The strongest pokemon is Kingler id:  98  \n",
    "The strongest pokemon parameter Monster(name='Kingler', index=98, attack=130, defense=115, speed=50, hitpoint=[55, 55], variety=['Water'])  \n",
    "Strongest Pokemon Top 10  \n",
    "Monster(name='Kingler', index=98, attack=130, defense=115, speed=50, hitpoint=[55, 55], variety=['Water'])  \n",
    "Monster(name='Gyarados', index=129, attack=125, defense=79, speed=100, hitpoint=[95, 95], variety=['Water', 'Flying'])  \n",
    "Monster(name='Dragonite', index=148, attack=134, defense=95, speed=100, hitpoint=[91, 91], variety=['Dragon', 'Flying'])  \n",
    "Monster(name='Cloyster', index=90, attack=95, defense=180, speed=85, hitpoint=[50, 50], variety=['Water', 'Ice'])  \n",
    "Monster(name='Machamp', index=67, attack=130, defense=80, speed=65, hitpoint=[90, 90], variety=['Fighting'])  \n",
    "Monster(name='Mewtwo', index=149, attack=110, defense=90, speed=154, hitpoint=[106, 106], variety=['Psychic'])  \n",
    "Monster(name='Pinsir', index=126, attack=125, defense=100, speed=55, hitpoint=[65, 65], variety=['Bug'])  \n",
    "Monster(name='Mew', index=150, attack=100, defense=100, speed=100, hitpoint=[100, 100], variety=['Psychic'])  \n",
    "Monster(name='Rhydon', index=111, attack=130, defense=120, speed=45, hitpoint=[105, 105], variety=['Ground', 'Rock'])  \n",
    "Monster(name='Kabutops', index=140, attack=115, defense=105, speed=70, hitpoint=[60, 60], variety=['Rock', 'Water'])  "
   ]
  },
  {
   "cell_type": "code",
   "execution_count": 7,
   "metadata": {},
   "outputs": [
    {
     "name": "stdout",
     "output_type": "stream",
     "text": [
      "normal ranking is loaded from the pickle file\n"
     ]
    }
   ],
   "source": [
    "K = 100\n",
    "\n",
    "try:\n",
    "    with open('normal_ranking.pkl', 'rb') as f:\n",
    "        normal_ranking = pickle.load(f)\n",
    "        print('normal ranking is loaded from the pickle file')\n",
    "except:\n",
    "    normal_result = RoundRobinExperiment(K, verbose=True)\n",
    "    normal_ranking = [pokeList[p] for p in normal_result.argsort()[::-1]]\n",
    "\n",
    "    with open('normal_ranking.pkl', mode='wb') as f:\n",
    "        pickle.dump(normal_ranking, f)"
   ]
  },
  {
   "cell_type": "code",
   "execution_count": 8,
   "metadata": {
    "scrolled": false
   },
   "outputs": [
    {
     "name": "stdout",
     "output_type": "stream",
     "text": [
      "====================== Speed Battle =========================\n",
      "The strongest pokemon is Kingler id: 98\n",
      "The strongest pokemon parameter Monster(name='Kingler', index=98, attack=130, defense=115, speed=50, hitpoint=[55, 55], variety=['Water'])\n",
      "Strongest Pokemon Top 10\n",
      "Monster(name='Kingler', index=98, attack=130, defense=115, speed=50, hitpoint=[55, 55], variety=['Water'])\n",
      "Monster(name='Gyarados', index=129, attack=125, defense=79, speed=100, hitpoint=[95, 95], variety=['Water', 'Flying'])\n",
      "Monster(name='Dragonite', index=148, attack=134, defense=95, speed=100, hitpoint=[91, 91], variety=['Dragon', 'Flying'])\n",
      "Monster(name='Cloyster', index=90, attack=95, defense=180, speed=85, hitpoint=[50, 50], variety=['Water', 'Ice'])\n",
      "Monster(name='Machamp', index=67, attack=130, defense=80, speed=65, hitpoint=[90, 90], variety=['Fighting'])\n",
      "Monster(name='Mewtwo', index=149, attack=110, defense=90, speed=154, hitpoint=[106, 106], variety=['Psychic'])\n",
      "Monster(name='Pinsir', index=126, attack=125, defense=100, speed=55, hitpoint=[65, 65], variety=['Bug'])\n",
      "Monster(name='Mew', index=150, attack=100, defense=100, speed=100, hitpoint=[100, 100], variety=['Psychic'])\n",
      "Monster(name='Rhydon', index=111, attack=130, defense=120, speed=45, hitpoint=[105, 105], variety=['Ground', 'Rock'])\n",
      "Monster(name='Kabutops', index=140, attack=115, defense=105, speed=70, hitpoint=[60, 60], variety=['Rock', 'Water'])\n"
     ]
    }
   ],
   "source": [
    "print(\"====================== Speed Battle =========================\")\n",
    "speed_result = RoundRobinExperiment(battle=SpeedBattle, verbose=True)\n",
    "speed_ranking = [pokeList[p] for p in speed_result.argsort()[::-1]]"
   ]
  },
  {
   "cell_type": "code",
   "execution_count": 9,
   "metadata": {
    "scrolled": true
   },
   "outputs": [
    {
     "name": "stdout",
     "output_type": "stream",
     "text": [
      "same places: 9 / 151\n"
     ]
    }
   ],
   "source": [
    "normal_ranking_id = np.array([p.index for p in normal_ranking]) \n",
    "speed_ranking_id = np.array([p.index for p in speed_ranking])\n",
    "same_places = normal_ranking_id == speed_ranking_id\n",
    "print(f\"same places: {sum(same_places)} / {len(same_places)}\")"
   ]
  },
  {
   "cell_type": "markdown",
   "metadata": {},
   "source": [
    "順位が同じ，という基準では少し厳しい気がするので，レーベンシュタイン距離を基準にする"
   ]
  },
  {
   "cell_type": "code",
   "execution_count": 19,
   "metadata": {},
   "outputs": [],
   "source": [
    "# Levenstein Distance by Dynamic Programming\n",
    "def LevensteinDistance(l1, l2):\n",
    "    len1 = len(l1) + 1\n",
    "    len2 = len(l2) + 1\n",
    "    \n",
    "    dp = np.zeros((len1, len2), dtype='i')\n",
    "    for row in range(len1): dp[row][0] = row\n",
    "    for col in range(len2): dp[0][col] = col\n",
    "        \n",
    "    for row in range(1, len1):\n",
    "        for col in range(1, len2):\n",
    "            c = 0 if l1[row-1] == l2[col-1] else 1\n",
    "            dp[row][col] = min(dp[row-1][col]+1, dp[row][col-1]+1, dp[row-1][col-1] + c)\n",
    "\n",
    "    return dp[-1][-1]"
   ]
  },
  {
   "cell_type": "code",
   "execution_count": 20,
   "metadata": {},
   "outputs": [
    {
     "data": {
      "text/plain": [
       "122"
      ]
     },
     "execution_count": 20,
     "metadata": {},
     "output_type": "execute_result"
    }
   ],
   "source": [
    "LevensteinDistance(normal_ranking_id, speed_ranking_id)"
   ]
  },
  {
   "cell_type": "markdown",
   "metadata": {},
   "source": [
    "よって，あんまり変わらない"
   ]
  },
  {
   "cell_type": "code",
   "execution_count": 22,
   "metadata": {},
   "outputs": [
    {
     "name": "stdout",
     "output_type": "stream",
     "text": [
      "Normal Battle Elapsed Time: 6.675189971923828\n",
      "Speed Battle Elapsed Time: 0.28022241592407227\n"
     ]
    }
   ],
   "source": [
    "startNormal = time.time()\n",
    "RoundRobinExperiment()\n",
    "endNormal = time.time()\n",
    "print(\"Normal Battle Elapsed Time:\", endNormal - startNormal)\n",
    "\n",
    "startSpeed = time.time()\n",
    "RoundRobinExperiment(battle=SpeedBattle)\n",
    "endSpeed = time.time()\n",
    "print(\"Speed Battle Elapsed Time:\", endSpeed - startSpeed)"
   ]
  },
  {
   "cell_type": "code",
   "execution_count": 23,
   "metadata": {},
   "outputs": [
    {
     "name": "stdout",
     "output_type": "stream",
     "text": [
      "Monster(name='Cloyster', index=90, attack=95, defense=180, speed=85, hitpoint=[50, 50], variety=['Water', 'Ice'])\n",
      "Enemy of Cloyster at leaste needs to be SuperEffective variety, because max_attack * 1.2 =  160.79999999999998 < 180\n"
     ]
    }
   ],
   "source": [
    "strongest = normal_ranking[0]\n",
    "print(strongest)\n",
    "\n",
    "max_attack = max([p.attack for p in pokeList])\n",
    "\n",
    "print(\"Enemy of Cloyster at leaste needs to be SuperEffective variety, because max_attack * 1.2 = \", max_attack * 1.2, \"<\", strongest.defense)"
   ]
  },
  {
   "cell_type": "code",
   "execution_count": 24,
   "metadata": {},
   "outputs": [
    {
     "name": "stdout",
     "output_type": "stream",
     "text": [
      "Pokemon Defense Ranking\n",
      "Monster(name='Cloyster', index=90, attack=95, defense=180, speed=85, hitpoint=[50, 50], variety=['Water', 'Ice'])\n",
      "Monster(name='Onix', index=94, attack=45, defense=160, speed=30, hitpoint=[35, 35], variety=['Rock', 'Ground'])\n",
      "Monster(name='Golem', index=75, attack=110, defense=130, speed=55, hitpoint=[80, 80], variety=['Rock', 'Ground', 'Electric'])\n",
      "Monster(name='Omastar', index=138, attack=60, defense=125, speed=115, hitpoint=[70, 70], variety=['Rock', 'Water'])\n",
      "Monster(name='Weezing', index=109, attack=90, defense=120, speed=85, hitpoint=[65, 65], variety=['Poison'])\n",
      "Monster(name='Rhydon', index=111, attack=130, defense=120, speed=45, hitpoint=[105, 105], variety=['Ground', 'Rock'])\n",
      "Monster(name='Graveler', index=74, attack=95, defense=115, speed=45, hitpoint=[55, 55], variety=['Rock', 'Ground', 'Electric'])\n",
      "Monster(name='Kingler', index=98, attack=130, defense=115, speed=50, hitpoint=[55, 55], variety=['Water'])\n",
      "Monster(name='Tangela', index=113, attack=55, defense=115, speed=100, hitpoint=[65, 65], variety=['Grass'])\n",
      "Monster(name='Sandslash', index=27, attack=100, defense=110, speed=55, hitpoint=[75, 75], variety=['Ground', 'Steel'])\n"
     ]
    }
   ],
   "source": [
    "print(\"Pokemon Defense Ranking\")\n",
    "defense_ranking = np.argsort([p.defense for p in pokeList])[::-1]\n",
    "for p in defense_ranking[:10]:\n",
    "    print(pokeList[p])"
   ]
  },
  {
   "cell_type": "code",
   "execution_count": 25,
   "metadata": {
    "scrolled": true
   },
   "outputs": [
    {
     "name": "stdout",
     "output_type": "stream",
     "text": [
      "Pokemon Attack Ranking\n",
      "Monster(name='Dragonite', index=148, attack=134, defense=95, speed=100, hitpoint=[91, 91], variety=['Dragon', 'Flying'])\n",
      "Monster(name='Rhydon', index=111, attack=130, defense=120, speed=45, hitpoint=[105, 105], variety=['Ground', 'Rock'])\n",
      "Monster(name='Kingler', index=98, attack=130, defense=115, speed=50, hitpoint=[55, 55], variety=['Water'])\n",
      "Monster(name='Machamp', index=67, attack=130, defense=80, speed=65, hitpoint=[90, 90], variety=['Fighting'])\n",
      "Monster(name='Flareon', index=135, attack=130, defense=60, speed=110, hitpoint=[65, 65], variety=['Fire'])\n",
      "Monster(name='Pinsir', index=126, attack=125, defense=100, speed=55, hitpoint=[65, 65], variety=['Bug'])\n",
      "Monster(name='Gyarados', index=129, attack=125, defense=79, speed=100, hitpoint=[95, 95], variety=['Water', 'Flying'])\n",
      "Monster(name='Hitmonlee', index=105, attack=120, defense=53, speed=35, hitpoint=[50, 50], variety=['Fighting'])\n",
      "Monster(name='Kabutops', index=140, attack=115, defense=105, speed=70, hitpoint=[60, 60], variety=['Rock', 'Water'])\n",
      "Monster(name='Golem', index=75, attack=110, defense=130, speed=55, hitpoint=[80, 80], variety=['Rock', 'Ground', 'Electric'])\n"
     ]
    }
   ],
   "source": [
    "print(\"Pokemon Attack Ranking\")\n",
    "attack_ranking = np.argsort([p.attack for p in pokeList])[::-1]\n",
    "for p in attack_ranking[:10]:\n",
    "    print(pokeList[p])"
   ]
  },
  {
   "cell_type": "code",
   "execution_count": 26,
   "metadata": {},
   "outputs": [
    {
     "data": {
      "text/plain": [
       "126"
      ]
     },
     "execution_count": 26,
     "metadata": {},
     "output_type": "execute_result"
    }
   ],
   "source": [
    "round(180 * 0.7)"
   ]
  },
  {
   "cell_type": "markdown",
   "metadata": {},
   "source": [
    "Effective pokemons should have attack > 126  \n",
    "Or who have varieties against Water and Ice are...\n",
    "- Grass\n",
    "- Electric\n",
    "- Fighting\n",
    "- Rock\n",
    "- Steel\n",
    "\n",
    "and have enough attack"
   ]
  },
  {
   "cell_type": "code",
   "execution_count": 27,
   "metadata": {},
   "outputs": [
    {
     "name": "stdout",
     "output_type": "stream",
     "text": [
      "# of Pokemons who can fight Cloyster: 49 / 151\n",
      "\n",
      "# of Pokemons who can give a damage to Cloyster: 24 / 151\n",
      "Monster(name='Venusaur', index=2, attack=82, defense=83, speed=100, hitpoint=[80, 80], variety=['Grass', 'Poison'])\n",
      "Monster(name='Raichu', index=25, attack=90, defense=55, speed=90, hitpoint=[60, 60], variety=['Electric', 'Psychic'])\n",
      "Monster(name='Sandslash', index=27, attack=100, defense=110, speed=55, hitpoint=[75, 75], variety=['Ground', 'Steel'])\n",
      "Monster(name='Parasect', index=46, attack=95, defense=80, speed=80, hitpoint=[60, 60], variety=['Bug', 'Grass'])\n",
      "Monster(name='Primeape', index=56, attack=105, defense=60, speed=60, hitpoint=[65, 65], variety=['Fighting'])\n",
      "Monster(name='Poliwrath', index=61, attack=85, defense=95, speed=70, hitpoint=[90, 90], variety=['Water', 'Fighting'])\n",
      "Monster(name='Machoke', index=66, attack=100, defense=70, speed=50, hitpoint=[80, 80], variety=['Fighting'])\n",
      "Monster(name='Machamp', index=67, attack=130, defense=80, speed=65, hitpoint=[90, 90], variety=['Fighting'])\n",
      "Monster(name='Weepinbell', index=69, attack=90, defense=50, speed=85, hitpoint=[65, 65], variety=['Grass', 'Poison'])\n",
      "Monster(name='Victreebel', index=70, attack=105, defense=65, speed=100, hitpoint=[80, 80], variety=['Grass', 'Poison'])\n",
      "Monster(name='Graveler', index=74, attack=95, defense=115, speed=45, hitpoint=[55, 55], variety=['Rock', 'Ground', 'Electric'])\n",
      "Monster(name='Golem', index=75, attack=110, defense=130, speed=55, hitpoint=[80, 80], variety=['Rock', 'Ground', 'Electric'])\n",
      "Monster(name='Kingler', index=98, attack=130, defense=115, speed=50, hitpoint=[55, 55], variety=['Water'])\n",
      "Monster(name='Exeggutor', index=102, attack=95, defense=85, speed=125, hitpoint=[95, 95], variety=['Grass', 'Psychic', 'Dragon'])\n",
      "Monster(name='Hitmonlee', index=105, attack=120, defense=53, speed=35, hitpoint=[50, 50], variety=['Fighting'])\n",
      "Monster(name='Hitmonchan', index=106, attack=105, defense=79, speed=35, hitpoint=[50, 50], variety=['Fighting'])\n",
      "Monster(name='Rhyhorn', index=110, attack=85, defense=95, speed=30, hitpoint=[80, 80], variety=['Ground', 'Rock'])\n",
      "Monster(name='Rhydon', index=111, attack=130, defense=120, speed=45, hitpoint=[105, 105], variety=['Ground', 'Rock'])\n",
      "Monster(name='Electabuzz', index=124, attack=83, defense=57, speed=85, hitpoint=[65, 65], variety=['Electric'])\n",
      "Monster(name='Flareon', index=135, attack=130, defense=60, speed=110, hitpoint=[65, 65], variety=['Fire'])\n",
      "Monster(name='Kabutops', index=140, attack=115, defense=105, speed=70, hitpoint=[60, 60], variety=['Rock', 'Water'])\n",
      "Monster(name='Aerodactyl', index=141, attack=105, defense=65, speed=60, hitpoint=[80, 80], variety=['Rock', 'Flying'])\n",
      "Monster(name='Zapdos', index=144, attack=90, defense=85, speed=125, hitpoint=[90, 90], variety=['Electric', 'Flying'])\n",
      "Monster(name='Dragonite', index=148, attack=134, defense=95, speed=100, hitpoint=[91, 91], variety=['Dragon', 'Flying'])\n"
     ]
    }
   ],
   "source": [
    "effective_varieties = ['Grass', 'Electric', 'Fighting', 'Rock', 'Steel']\n",
    "effective_pokeList = [p for p in pokeList if np.any([v in p.variety for v in effective_varieties]) or p.attack > 126]\n",
    "print(\"# of Pokemons who can fight Cloyster:\", len(effective_pokeList), \"/\", len(pokeList))\n",
    "\n",
    "winnable_pokeList = [p for p in effective_pokeList if p.attack * 1.3 * 1.2 > 180 * 0.7]\n",
    "print(\"\\n# of Pokemons who can give a damage to Cloyster:\", len(winnable_pokeList), \"/\", len(pokeList))\n",
    "\n",
    "for p in winnable_pokeList:\n",
    "    print(p)"
   ]
  },
  {
   "cell_type": "code",
   "execution_count": 28,
   "metadata": {},
   "outputs": [
    {
     "name": "stdout",
     "output_type": "stream",
     "text": [
      "Challenger Rhydon Win Rate: 730/1000\n",
      "Challenger Machamp Win Rate: 467/1000\n",
      "Challenger Golem Win Rate: 102/1000\n",
      "Challenger Dragonite Win Rate: 42/1000\n",
      "Challenger Hitmonlee Win Rate: 2/1000\n",
      "Challenger Flareon Win Rate: 0/1000\n",
      "Challenger Weepinbell Win Rate: 0/1000\n",
      "Challenger Raichu Win Rate: 0/1000\n",
      "Challenger Sandslash Win Rate: 0/1000\n",
      "Challenger Parasect Win Rate: 0/1000\n",
      "Challenger Primeape Win Rate: 0/1000\n",
      "Challenger Poliwrath Win Rate: 0/1000\n",
      "Challenger Machoke Win Rate: 0/1000\n",
      "Challenger Aerodactyl Win Rate: 0/1000\n",
      "Challenger Victreebel Win Rate: 0/1000\n",
      "Challenger Electabuzz Win Rate: 0/1000\n",
      "Challenger Graveler Win Rate: 0/1000\n",
      "Challenger Zapdos Win Rate: 0/1000\n",
      "Challenger Kingler Win Rate: 0/1000\n",
      "Challenger Exeggutor Win Rate: 0/1000\n",
      "Challenger Hitmonchan Win Rate: 0/1000\n",
      "Challenger Rhyhorn Win Rate: 0/1000\n",
      "Challenger Kabutops Win Rate: 0/1000\n",
      "Challenger Venusaur Win Rate: 0/1000\n"
     ]
    }
   ],
   "source": [
    "K = 1000\n",
    "cloyster = pokedex[\"Cloyster\"]\n",
    "challengers = winnable_pokeList\n",
    "\n",
    "win_rates = []\n",
    "for challenger in challengers:\n",
    "    beat = 0\n",
    "    for i in range(K):\n",
    "        result = pf.battle(cloyster, challenger)\n",
    "        if result == 1: beat += 1\n",
    "    win_rates.append([challenger, beat])\n",
    "win_rates = np.array(win_rates)\n",
    "    \n",
    "ranking = win_rates[np.argsort(np.array(win_rates)[:, 1])][::-1]\n",
    "for challenger, beat in ranking:\n",
    "    print(f\"Challenger {challenger.name} Win Rate: {beat}/{K}\")"
   ]
  },
  {
   "cell_type": "markdown",
   "metadata": {},
   "source": [
    "この結果からわかるように，パルシェンにはサイドンをぶつけるのが有効である．  \n",
    "ちなみにSpeedBattleのようにパラメータで勝負させるとみんな負ける．"
   ]
  },
  {
   "cell_type": "markdown",
   "metadata": {},
   "source": [
    "## 相手のポケモンが分かっているとき\n",
    "一番勝率の高いポケモンをぶつける"
   ]
  },
  {
   "cell_type": "code",
   "execution_count": 10,
   "metadata": {},
   "outputs": [],
   "source": [
    "def natural_enemy(p, enemy_list=pokeList, k=10, ranking=normal_ranking, battle=pf.battle, top=10, verbose=False):\n",
    "    win_times = SingleRoundRobinExperiment(p, k=k, enemy_list=enemy_list, battle=battle, verbose=verbose)\n",
    "\n",
    "    strongest_natural_enemy_ids = np.arange(len(enemy_list))[win_times == win_times.min()]\n",
    "    \n",
    "    if ranking is not None:\n",
    "        id_ranking = [p.index for p in ranking]\n",
    "        strongest = strongest_natural_enemy_ids[0]\n",
    "        for enemy_id in strongest_natural_enemy_ids:\n",
    "            if id_ranking.index(enemy_id) < id_ranking.index(strongest):\n",
    "                strongest = enemy_id\n",
    "    else:\n",
    "        strongest = strongest_natural_enemy_ids[0]\n",
    "    \n",
    "    if verbose:\n",
    "        print(f\"{pokeList[strongest].name} is defined as the natural enemy to {p.name}\")\n",
    "\n",
    "    return pokeList[strongest]\n",
    "\n",
    "def natural_enemy_list(plist=pokeList, enemy_list=pokeList, k=10, ranking=normal_ranking, battle=pf.battle, verbose=False):\n",
    "    return [natural_enemy(p, enemy_list=enemy_list, k=k, ranking=ranking, battle=battle, verbose=verbose) for p in plist]"
   ]
  },
  {
   "cell_type": "code",
   "execution_count": 11,
   "metadata": {
    "scrolled": true
   },
   "outputs": [
    {
     "name": "stdout",
     "output_type": "stream",
     "text": [
      "Cloyster is defined as the natural enemy to Bulbasaur\n",
      "Cloyster is defined as the natural enemy to Ivysaur\n",
      "Cloyster is defined as the natural enemy to Venusaur\n",
      "Cloyster is defined as the natural enemy to Charmander\n",
      "Cloyster is defined as the natural enemy to Charmeleon\n",
      "Cloyster is defined as the natural enemy to Charizard\n",
      "Cloyster is defined as the natural enemy to Squirtle\n",
      "Cloyster is defined as the natural enemy to Wartortle\n",
      "Cloyster is defined as the natural enemy to Blastoise\n",
      "Cloyster is defined as the natural enemy to Caterpie\n",
      "Cloyster is defined as the natural enemy to Metapod\n",
      "Cloyster is defined as the natural enemy to Butterfree\n",
      "Cloyster is defined as the natural enemy to Weedle\n",
      "Cloyster is defined as the natural enemy to Kakuna\n",
      "Cloyster is defined as the natural enemy to Beedrill\n",
      "Cloyster is defined as the natural enemy to Pidgey\n",
      "Cloyster is defined as the natural enemy to Pidgeotto\n",
      "Cloyster is defined as the natural enemy to Pidgeot\n",
      "Cloyster is defined as the natural enemy to Rattata\n",
      "Cloyster is defined as the natural enemy to Raticate\n",
      "Cloyster is defined as the natural enemy to Spearow\n",
      "Cloyster is defined as the natural enemy to Fearow\n",
      "Cloyster is defined as the natural enemy to Ekans\n",
      "Cloyster is defined as the natural enemy to Arbok\n",
      "Cloyster is defined as the natural enemy to Pikachu\n",
      "Cloyster is defined as the natural enemy to Raichu\n",
      "Cloyster is defined as the natural enemy to Sandshrew\n",
      "Cloyster is defined as the natural enemy to Sandslash\n",
      "Cloyster is defined as the natural enemy to Nidorankun\n",
      "Cloyster is defined as the natural enemy to Nidorina\n",
      "Cloyster is defined as the natural enemy to Nidoqueen\n",
      "Cloyster is defined as the natural enemy to Nidoran\n",
      "Cloyster is defined as the natural enemy to Nidorino\n",
      "Cloyster is defined as the natural enemy to Nidoking\n",
      "Cloyster is defined as the natural enemy to Clefairy\n",
      "Cloyster is defined as the natural enemy to Clefable\n",
      "Cloyster is defined as the natural enemy to Vulpix\n",
      "Cloyster is defined as the natural enemy to Ninetales\n",
      "Cloyster is defined as the natural enemy to Jigglypuff\n",
      "Cloyster is defined as the natural enemy to Wigglytuff\n",
      "Cloyster is defined as the natural enemy to Zubat\n",
      "Cloyster is defined as the natural enemy to Golbat\n",
      "Cloyster is defined as the natural enemy to Oddish\n",
      "Cloyster is defined as the natural enemy to Gloom\n",
      "Cloyster is defined as the natural enemy to Vileplume\n",
      "Cloyster is defined as the natural enemy to Paras\n",
      "Cloyster is defined as the natural enemy to Parasect\n",
      "Cloyster is defined as the natural enemy to Venonat\n",
      "Cloyster is defined as the natural enemy to Venomoth\n",
      "Cloyster is defined as the natural enemy to Diglett\n",
      "Cloyster is defined as the natural enemy to Dugtrio\n",
      "Cloyster is defined as the natural enemy to Meowth\n",
      "Cloyster is defined as the natural enemy to Persian\n",
      "Cloyster is defined as the natural enemy to Psyduck\n",
      "Cloyster is defined as the natural enemy to Golduck\n",
      "Cloyster is defined as the natural enemy to Mankey\n",
      "Cloyster is defined as the natural enemy to Primeape\n",
      "Cloyster is defined as the natural enemy to Growlithe\n",
      "Cloyster is defined as the natural enemy to Arcanine\n",
      "Cloyster is defined as the natural enemy to Poliwag\n",
      "Cloyster is defined as the natural enemy to Poliwhirl\n",
      "Cloyster is defined as the natural enemy to Poliwrath\n",
      "Cloyster is defined as the natural enemy to Abra\n",
      "Cloyster is defined as the natural enemy to Kadabra\n",
      "Cloyster is defined as the natural enemy to Alakazam\n",
      "Cloyster is defined as the natural enemy to Machop\n",
      "Cloyster is defined as the natural enemy to Machoke\n",
      "Gyarados is defined as the natural enemy to Machamp\n",
      "Cloyster is defined as the natural enemy to Bellsprout\n",
      "Cloyster is defined as the natural enemy to Weepinbell\n",
      "Mewtwo is defined as the natural enemy to Victreebel\n",
      "Cloyster is defined as the natural enemy to Tentacool\n",
      "Cloyster is defined as the natural enemy to Tentacruel\n",
      "Cloyster is defined as the natural enemy to Geodude\n",
      "Cloyster is defined as the natural enemy to Graveler\n",
      "Gyarados is defined as the natural enemy to Golem\n",
      "Cloyster is defined as the natural enemy to Ponyta\n",
      "Cloyster is defined as the natural enemy to Rapidash\n",
      "Cloyster is defined as the natural enemy to Slowpoke\n",
      "Cloyster is defined as the natural enemy to Slowbro\n",
      "Cloyster is defined as the natural enemy to Magnemite\n",
      "Cloyster is defined as the natural enemy to Magneton\n",
      "Cloyster is defined as the natural enemy to Farfetch'd\n",
      "Cloyster is defined as the natural enemy to Doduo\n",
      "Cloyster is defined as the natural enemy to Dodrio\n",
      "Cloyster is defined as the natural enemy to Seel\n",
      "Cloyster is defined as the natural enemy to Dewgong\n",
      "Cloyster is defined as the natural enemy to Grimer\n",
      "Cloyster is defined as the natural enemy to Muk\n",
      "Cloyster is defined as the natural enemy to Shellder\n",
      "Cloyster is defined as the natural enemy to Cloyster\n",
      "Cloyster is defined as the natural enemy to Gastly\n",
      "Cloyster is defined as the natural enemy to Haunter\n",
      "Cloyster is defined as the natural enemy to Gengar\n",
      "Cloyster is defined as the natural enemy to Onix\n",
      "Cloyster is defined as the natural enemy to Drowzee\n",
      "Cloyster is defined as the natural enemy to Hypno\n",
      "Cloyster is defined as the natural enemy to Krabby\n",
      "Cloyster is defined as the natural enemy to Kingler\n",
      "Cloyster is defined as the natural enemy to Voltorb\n",
      "Cloyster is defined as the natural enemy to Electrode\n",
      "Cloyster is defined as the natural enemy to Exeggcute\n",
      "Cloyster is defined as the natural enemy to Exeggutor\n",
      "Cloyster is defined as the natural enemy to Cubone\n",
      "Cloyster is defined as the natural enemy to Marowak\n",
      "Kingler is defined as the natural enemy to Hitmonlee\n",
      "Cloyster is defined as the natural enemy to Hitmonchan\n",
      "Cloyster is defined as the natural enemy to Lickitung\n",
      "Cloyster is defined as the natural enemy to Koffing\n",
      "Cloyster is defined as the natural enemy to Weezing\n",
      "Cloyster is defined as the natural enemy to Rhyhorn\n",
      "Gyarados is defined as the natural enemy to Rhydon\n",
      "Cloyster is defined as the natural enemy to Chansey\n",
      "Cloyster is defined as the natural enemy to Tangela\n",
      "Cloyster is defined as the natural enemy to Kangaskhan\n",
      "Cloyster is defined as the natural enemy to Horsea\n",
      "Cloyster is defined as the natural enemy to Seadra\n",
      "Cloyster is defined as the natural enemy to Goldeen\n",
      "Cloyster is defined as the natural enemy to Seaking\n",
      "Cloyster is defined as the natural enemy to Staryu\n",
      "Cloyster is defined as the natural enemy to Starmie\n",
      "Cloyster is defined as the natural enemy to Mr.Mime\n",
      "Cloyster is defined as the natural enemy to Scyther\n",
      "Cloyster is defined as the natural enemy to Jynx\n",
      "Cloyster is defined as the natural enemy to Electabuzz\n",
      "Cloyster is defined as the natural enemy to Magmar\n",
      "Gyarados is defined as the natural enemy to Pinsir\n",
      "Cloyster is defined as the natural enemy to Tauros\n",
      "Cloyster is defined as the natural enemy to Magikarp\n",
      "Cloyster is defined as the natural enemy to Gyarados\n",
      "Cloyster is defined as the natural enemy to Lapras\n",
      "Cloyster is defined as the natural enemy to Ditto\n",
      "Cloyster is defined as the natural enemy to Eevee\n",
      "Cloyster is defined as the natural enemy to Vaporeon\n",
      "Cloyster is defined as the natural enemy to Jolteon\n",
      "Cloyster is defined as the natural enemy to Flareon\n",
      "Cloyster is defined as the natural enemy to Porygon\n",
      "Cloyster is defined as the natural enemy to Omanyte\n",
      "Cloyster is defined as the natural enemy to Omastar\n",
      "Cloyster is defined as the natural enemy to Kabuto\n",
      "Cloyster is defined as the natural enemy to Kabutops\n",
      "Cloyster is defined as the natural enemy to Aerodactyl\n",
      "Cloyster is defined as the natural enemy to Snorlax\n",
      "Cloyster is defined as the natural enemy to Articuno\n",
      "Cloyster is defined as the natural enemy to Zapdos\n",
      "Cloyster is defined as the natural enemy to Moltres\n",
      "Cloyster is defined as the natural enemy to Dratini\n",
      "Cloyster is defined as the natural enemy to Dragonair\n",
      "Dragonite is defined as the natural enemy to Dragonite\n",
      "Cloyster is defined as the natural enemy to Mewtwo\n",
      "Cloyster is defined as the natural enemy to Mew\n"
     ]
    }
   ],
   "source": [
    "try:\n",
    "    with open(\"natural_enemy_list.pkl\", \"rb\") as f:\n",
    "        natural_enemy_list = pickle.load(f)\n",
    "        print(\"natural enemy list is loaded from pickle file\")\n",
    "except:\n",
    "    natural_enemy_list = [natural_enemy(p, k=1000, verbose=True) for p in pokeList]\n",
    "    with open(\"natural_enemy_list.pkl\", \"wb\") as f:\n",
    "        pickle.dump(natural_enemy_list, f)"
   ]
  },
  {
   "cell_type": "markdown",
   "metadata": {},
   "source": [
    "# ポケモンチーム戦\n",
    "前提\n",
    "- 1チームは6匹のポケモンで構成される\n",
    "- 勝ったポケモンが次のポケモンと戦う\n",
    "- 引き分けの場合，両者敗北とし，それぞれ次のポケモンを戦わせる\n",
    "- 先に相手のポケモン全員に勝った方の勝ち\n",
    "\n",
    "制約\n",
    "- 同じポケモンを編成可能かどうか\n",
    "- 相手のチームがわかっているか"
   ]
  },
  {
   "cell_type": "code",
   "execution_count": 18,
   "metadata": {},
   "outputs": [],
   "source": [
    "def team_battle(team1, team2, battle_num=1, battle=pf.battle, verbose=False, run_first=True):\n",
    "    team_pokemon_num = 6\n",
    "    \n",
    "    team1 = team1.copy()\n",
    "    team2 = team2.copy()\n",
    "    \n",
    "    run_first_limit = math.ceil(battle_num / 2)\n",
    "    \n",
    "    # reset HP\n",
    "    for p in range(team_pokemon_num):\n",
    "        pf.ResetHP(team1[p])\n",
    "        pf.ResetHP(team2[p])\n",
    "    \n",
    "    if verbose:\n",
    "        print(\"\\n======== Team Battle =======\\n\")\n",
    "        print(\"Team1\")\n",
    "        for p in range(team_pokemon_num): print(team1[p])\n",
    "        print()\n",
    "        print(\"Team2\")\n",
    "        for p in range(team_pokemon_num): print(team2[p])\n",
    "        print()\n",
    "    \n",
    "    team1_win = 0\n",
    "    team2_win = 0\n",
    "    \n",
    "    for i in range(battle_num):\n",
    "        if verbose:\n",
    "            print(f\"\\n======= Battle {i + 1} =======\\n\")\n",
    "        \n",
    "        # reset HP\n",
    "        for p in range(team_pokemon_num):\n",
    "            pf.ResetHP(team1[p])\n",
    "            pf.ResetHP(team2[p])\n",
    "        \n",
    "        team1_remain = team_pokemon_num\n",
    "        team2_remain = team_pokemon_num\n",
    "        \n",
    "        # Team Battle Start\n",
    "        while team1_remain > 0 and team2_remain > 0:\n",
    "            p1 = team1[-team1_remain]\n",
    "            p2 = team2[-team2_remain]\n",
    "            \n",
    "            if verbose:\n",
    "                print(f\"{p1.name} vs {p2.name}\")\n",
    "                print(p1)\n",
    "                print(p2)\n",
    "            \n",
    "            result = battle(p1, p2, resetHP=False, verbose=False)\n",
    "            if result == 0: \n",
    "                team2_remain -= 1\n",
    "                if verbose:\n",
    "                    print(f\"team1 {p1.name} win\")\n",
    "            elif result == 1: \n",
    "                team1_remain -= 1\n",
    "                if verbose:\n",
    "                    print(f\"team2 {p2.name} win\")\n",
    "            else:\n",
    "                team1_remain -=1\n",
    "                team2_remain -=1\n",
    "                if verbose:\n",
    "                    print(\"Draw\")\n",
    "            \n",
    "            if verbose:\n",
    "                print(f\"Team1 remain: {team1_remain}\")\n",
    "                print(f\"Team2 remain: {team2_remain}\")\n",
    "                print()\n",
    "        \n",
    "        if team1_remain > team2_remain:\n",
    "            team1_win += 1\n",
    "            if verbose: print(\"Team1 win\")\n",
    "        elif team1_remain < team2_remain:\n",
    "            team2_win += 1\n",
    "            if verbose: print(\"Team2 win\")\n",
    "        else :\n",
    "            if verbose: print(\"Draw\")\n",
    "        \n",
    "        if run_first and (team1_win >= run_first_limit or team2_win >= run_first_limit):\n",
    "            if verbose: print(f\"{run_first_limit} battles run first\")\n",
    "            break\n",
    "    \n",
    "    return (team1_win, team2_win)"
   ]
  },
  {
   "cell_type": "code",
   "execution_count": 19,
   "metadata": {
    "scrolled": true
   },
   "outputs": [
    {
     "data": {
      "text/plain": [
       "(0, 50)"
      ]
     },
     "execution_count": 19,
     "metadata": {},
     "output_type": "execute_result"
    }
   ],
   "source": [
    "team1 = [pokeList[p] for p in np.random.randint(0, len(pokeList),6)]\n",
    "team2 = [pokeList[p] for p in np.random.randint(0, len(pokeList),6)]\n",
    "\n",
    "team_battle(team1, team2, battle_num=100, verbose=False)"
   ]
  },
  {
   "cell_type": "markdown",
   "metadata": {},
   "source": [
    "TeamBattleができるようになったところで最強チームを決めたい．  \n",
    "とりあえず最強チームは総当たりランキング上位6匹にしてみる"
   ]
  },
  {
   "cell_type": "code",
   "execution_count": 20,
   "metadata": {},
   "outputs": [],
   "source": [
    "strongest_team = [pokeList[p] for p in speed_result.argsort()[::-1][:6]]"
   ]
  },
  {
   "cell_type": "markdown",
   "metadata": {},
   "source": [
    "こいつがどれだけ他のチームより強いか確かめたいが，チームの組み合わせは100兆を超えるので，総当たりは現実的でない．  \n",
    "組み合わせでも100億=10^10"
   ]
  },
  {
   "cell_type": "code",
   "execution_count": 21,
   "metadata": {},
   "outputs": [
    {
     "data": {
      "text/plain": [
       "11853911588401"
      ]
     },
     "execution_count": 21,
     "metadata": {},
     "output_type": "execute_result"
    }
   ],
   "source": [
    "from itertools import permutations\n",
    "all_teams = permutations(range(len(pokeList)), r=6)\n",
    "151 ** 6"
   ]
  },
  {
   "cell_type": "markdown",
   "metadata": {},
   "source": [
    "組み合わせだと100億=10^10  \n",
    "これも現実的でない"
   ]
  },
  {
   "cell_type": "code",
   "execution_count": 22,
   "metadata": {},
   "outputs": [
    {
     "data": {
      "text/plain": [
       "14888600755.0"
      ]
     },
     "execution_count": 22,
     "metadata": {},
     "output_type": "execute_result"
    }
   ],
   "source": [
    "from itertools import combinations\n",
    "all_teams = combinations(range(len(pokeList)), r=1)\n",
    "151*150*149*148*147*146 / (6*5*4*3*2)"
   ]
  },
  {
   "cell_type": "markdown",
   "metadata": {},
   "source": [
    "とりあえずランダムで戦わせてみる"
   ]
  },
  {
   "cell_type": "code",
   "execution_count": 23,
   "metadata": {},
   "outputs": [],
   "source": [
    "import random\n",
    "\n",
    "def random_battle(team, challenger_team_num=1000, battle_num=10):\n",
    "    winners = []\n",
    "    for i in range(challenger_team_num):\n",
    "        challenger_team = [pokeList[p] for p in random.sample(range(len(pokeList)),6)]\n",
    "        (team_win, challenger_win) = team_battle(team, challenger_team, battle_num=battle_num)\n",
    "        if team_win < challenger_win: \n",
    "            winners.append(challenger_team.copy())\n",
    "    \n",
    "    return winners"
   ]
  },
  {
   "cell_type": "code",
   "execution_count": 24,
   "metadata": {
    "scrolled": false
   },
   "outputs": [
    {
     "name": "stdout",
     "output_type": "stream",
     "text": [
      "Challenger Win Rate: 3 / 10000\n",
      "\n",
      "Monster(name='Machamp', index=67, attack=130, defense=80, speed=65, hitpoint=[90, 90], variety=['Fighting'])\n",
      "Monster(name='Victreebel', index=70, attack=105, defense=65, speed=100, hitpoint=[80, -16], variety=['Grass', 'Poison'])\n",
      "Monster(name='Kangaskhan', index=114, attack=95, defense=80, speed=40, hitpoint=[105, -28], variety=['Normal'])\n",
      "Monster(name='Rhydon', index=111, attack=130, defense=120, speed=45, hitpoint=[105, -5], variety=['Ground', 'Rock'])\n",
      "Monster(name='Zubat', index=40, attack=45, defense=35, speed=40, hitpoint=[40, -32], variety=['Poison', 'Flying'])\n",
      "Monster(name='Electabuzz', index=124, attack=83, defense=57, speed=85, hitpoint=[65, -28], variety=['Electric'])\n",
      "\n",
      "Monster(name='Machamp', index=67, attack=130, defense=80, speed=65, hitpoint=[90, 90], variety=['Fighting'])\n",
      "Monster(name='Kabuto', index=139, attack=80, defense=90, speed=45, hitpoint=[30, -25], variety=['Rock', 'Water'])\n",
      "Monster(name='Cloyster', index=90, attack=95, defense=180, speed=85, hitpoint=[50, 50], variety=['Water', 'Ice'])\n",
      "Monster(name='Rapidash', index=77, attack=100, defense=70, speed=80, hitpoint=[65, -52], variety=['Fire'])\n",
      "Monster(name='Muk', index=88, attack=105, defense=75, speed=65, hitpoint=[105, -18], variety=['Poison', 'Dark'])\n",
      "Monster(name='Beedrill', index=14, attack=80, defense=40, speed=45, hitpoint=[65, -52], variety=['Bug', 'Poison'])\n",
      "\n",
      "Monster(name='Victreebel', index=70, attack=105, defense=65, speed=100, hitpoint=[80, -16], variety=['Grass', 'Poison'])\n",
      "Monster(name='Goldeen', index=117, attack=67, defense=60, speed=50, hitpoint=[45, -40], variety=['Water'])\n",
      "Monster(name='Cloyster', index=90, attack=95, defense=180, speed=85, hitpoint=[50, 50], variety=['Water', 'Ice'])\n",
      "Monster(name='Charmeleon', index=4, attack=64, defense=58, speed=65, hitpoint=[58, -68], variety=['Fire'])\n",
      "Monster(name='Clefable', index=35, attack=70, defense=73, speed=85, hitpoint=[95, -19], variety=['Fairy'])\n",
      "Monster(name='Mewtwo', index=149, attack=110, defense=90, speed=154, hitpoint=[106, 106], variety=['Psychic'])\n",
      "\n"
     ]
    }
   ],
   "source": [
    "winners = random_battle(strongest_team, challenger_team_num=10000)\n",
    "print(f\"Challenger Win Rate: {len(winners)} / 10000\")\n",
    "print()\n",
    "for w in winners:\n",
    "    for p in w: print(p)\n",
    "    print()"
   ]
  },
  {
   "cell_type": "code",
   "execution_count": 25,
   "metadata": {},
   "outputs": [
    {
     "name": "stdout",
     "output_type": "stream",
     "text": [
      "\n",
      "======== Team Battle =======\n",
      "\n",
      "Team1\n",
      "Monster(name='Kingler', index=98, attack=130, defense=115, speed=50, hitpoint=[55, 55], variety=['Water'])\n",
      "Monster(name='Gyarados', index=129, attack=125, defense=79, speed=100, hitpoint=[95, 95], variety=['Water', 'Flying'])\n",
      "Monster(name='Dragonite', index=148, attack=134, defense=95, speed=100, hitpoint=[91, 91], variety=['Dragon', 'Flying'])\n",
      "Monster(name='Cloyster', index=90, attack=95, defense=180, speed=85, hitpoint=[50, 50], variety=['Water', 'Ice'])\n",
      "Monster(name='Machamp', index=67, attack=130, defense=80, speed=65, hitpoint=[90, 90], variety=['Fighting'])\n",
      "Monster(name='Mewtwo', index=149, attack=110, defense=90, speed=154, hitpoint=[106, 106], variety=['Psychic'])\n",
      "\n",
      "Team2\n",
      "Monster(name='Machamp', index=67, attack=130, defense=80, speed=65, hitpoint=[90, 90], variety=['Fighting'])\n",
      "Monster(name='Victreebel', index=70, attack=105, defense=65, speed=100, hitpoint=[80, 80], variety=['Grass', 'Poison'])\n",
      "Monster(name='Kangaskhan', index=114, attack=95, defense=80, speed=40, hitpoint=[105, 105], variety=['Normal'])\n",
      "Monster(name='Rhydon', index=111, attack=130, defense=120, speed=45, hitpoint=[105, 105], variety=['Ground', 'Rock'])\n",
      "Monster(name='Zubat', index=40, attack=45, defense=35, speed=40, hitpoint=[40, 40], variety=['Poison', 'Flying'])\n",
      "Monster(name='Electabuzz', index=124, attack=83, defense=57, speed=85, hitpoint=[65, 65], variety=['Electric'])\n",
      "\n",
      "\n",
      "======= Battle 1 =======\n",
      "\n",
      "Kingler vs Machamp\n",
      "Monster(name='Kingler', index=98, attack=130, defense=115, speed=50, hitpoint=[55, 55], variety=['Water'])\n",
      "Monster(name='Machamp', index=67, attack=130, defense=80, speed=65, hitpoint=[90, 90], variety=['Fighting'])\n",
      "team1 Kingler win\n",
      "Team1 remain: 6\n",
      "Team2 remain: 5\n",
      "\n",
      "Kingler vs Victreebel\n",
      "Monster(name='Kingler', index=98, attack=130, defense=115, speed=50, hitpoint=[55, 14], variety=['Water'])\n",
      "Monster(name='Victreebel', index=70, attack=105, defense=65, speed=100, hitpoint=[80, 80], variety=['Grass', 'Poison'])\n",
      "team2 Victreebel win\n",
      "Team1 remain: 5\n",
      "Team2 remain: 5\n",
      "\n",
      "Gyarados vs Victreebel\n",
      "Monster(name='Gyarados', index=129, attack=125, defense=79, speed=100, hitpoint=[95, 95], variety=['Water', 'Flying'])\n",
      "Monster(name='Victreebel', index=70, attack=105, defense=65, speed=100, hitpoint=[80, 80], variety=['Grass', 'Poison'])\n",
      "team1 Gyarados win\n",
      "Team1 remain: 5\n",
      "Team2 remain: 4\n",
      "\n",
      "Gyarados vs Kangaskhan\n",
      "Monster(name='Gyarados', index=129, attack=125, defense=79, speed=100, hitpoint=[95, 65], variety=['Water', 'Flying'])\n",
      "Monster(name='Kangaskhan', index=114, attack=95, defense=80, speed=40, hitpoint=[105, 105], variety=['Normal'])\n",
      "team1 Gyarados win\n",
      "Team1 remain: 5\n",
      "Team2 remain: 3\n",
      "\n",
      "Gyarados vs Rhydon\n",
      "Monster(name='Gyarados', index=129, attack=125, defense=79, speed=100, hitpoint=[95, 48], variety=['Water', 'Flying'])\n",
      "Monster(name='Rhydon', index=111, attack=130, defense=120, speed=45, hitpoint=[105, 105], variety=['Ground', 'Rock'])\n",
      "team2 Rhydon win\n",
      "Team1 remain: 4\n",
      "Team2 remain: 3\n",
      "\n",
      "Dragonite vs Rhydon\n",
      "Monster(name='Dragonite', index=148, attack=134, defense=95, speed=100, hitpoint=[91, 91], variety=['Dragon', 'Flying'])\n",
      "Monster(name='Rhydon', index=111, attack=130, defense=120, speed=45, hitpoint=[105, 77], variety=['Ground', 'Rock'])\n",
      "team2 Rhydon win\n",
      "Team1 remain: 3\n",
      "Team2 remain: 3\n",
      "\n",
      "Cloyster vs Rhydon\n",
      "Monster(name='Cloyster', index=90, attack=95, defense=180, speed=85, hitpoint=[50, 50], variety=['Water', 'Ice'])\n",
      "Monster(name='Rhydon', index=111, attack=130, defense=120, speed=45, hitpoint=[105, 51], variety=['Ground', 'Rock'])\n",
      "team2 Rhydon win\n",
      "Team1 remain: 2\n",
      "Team2 remain: 3\n",
      "\n",
      "Machamp vs Rhydon\n",
      "Monster(name='Machamp', index=67, attack=130, defense=80, speed=65, hitpoint=[90, -18], variety=['Fighting'])\n",
      "Monster(name='Rhydon', index=111, attack=130, defense=120, speed=45, hitpoint=[105, 9], variety=['Ground', 'Rock'])\n",
      "team2 Rhydon win\n",
      "Team1 remain: 1\n",
      "Team2 remain: 3\n",
      "\n",
      "Mewtwo vs Rhydon\n",
      "Monster(name='Mewtwo', index=149, attack=110, defense=90, speed=154, hitpoint=[106, 106], variety=['Psychic'])\n",
      "Monster(name='Rhydon', index=111, attack=130, defense=120, speed=45, hitpoint=[105, 9], variety=['Ground', 'Rock'])\n",
      "team2 Rhydon win\n",
      "Team1 remain: 0\n",
      "Team2 remain: 3\n",
      "\n",
      "Team2 win\n",
      "1 battles run first\n"
     ]
    }
   ],
   "source": [
    "if len(winners) > 0:\n",
    "    team_battle(strongest_team, winners[0], verbose=True)"
   ]
  },
  {
   "cell_type": "markdown",
   "metadata": {},
   "source": [
    "この戦いから，Cloysterに対抗できるのはサイドンだけでないことが分かる．  \n",
    "Cloysterからダメージを受けないSlowbroなどのポケモンは，ダメージこそ与えられないがCloysterとドローすることができ，Cloysterを退けられる．  \n",
    "では，Cloysterが前半でやられないよう，最後に持ってくるのはどうか"
   ]
  },
  {
   "cell_type": "code",
   "execution_count": 26,
   "metadata": {},
   "outputs": [
    {
     "name": "stdout",
     "output_type": "stream",
     "text": [
      "Challenger Win Rate: 0 / 1000\n",
      "\n"
     ]
    }
   ],
   "source": [
    "reversed_strongest_team = [strongest_team[i] for i in [1,2,3,4,5,0]]\n",
    "\n",
    "winners = random_battle(reversed_strongest_team)\n",
    "print(f\"Challenger Win Rate: {len(winners)} / 1000\")\n",
    "print()\n",
    "for w in winners:\n",
    "    for p in w: print(p)\n",
    "    print()"
   ]
  },
  {
   "cell_type": "code",
   "execution_count": 27,
   "metadata": {
    "scrolled": true
   },
   "outputs": [],
   "source": [
    "if len(winners) > 0:\n",
    "    team_battle(reversed_strongest_team, winners[0], verbose=True)"
   ]
  },
  {
   "cell_type": "markdown",
   "metadata": {},
   "source": [
    "順番変えても負けるもんは負けた"
   ]
  },
  {
   "cell_type": "markdown",
   "metadata": {},
   "source": [
    "TeamTrainingアルゴリズム\n",
    "\n",
    "1. 最初のチームをランダムで作り，Tとする\n",
    "2. チームTがK回連勝するまで次を繰り返す\n",
    "    1. Tがランダムバトルを行う\n",
    "    2. ランダムバトルでTが負けた場合\n",
    "        1. Tに勝ったチームをTとする\n",
    "        2. 連勝カウントをリセットする\n",
    "3. Tを出力する\n",
    "\n",
    "\n",
    "- 良いところ\n",
    "    - リーズナブルな時間で解が求まる\n",
    "    - どんなバトルのルールにも適用できる\n",
    "    - 実装が簡単でシンプル\n",
    "- 悪いところ\n",
    "    - 本当に最強かどうかはわからない\n",
    "    - kの値を大きくすると時間がかかる\n",
    "    - いつ終わるかわからない\n",
    "        - チームはランダムに選ばれる\n",
    "        - 3すくみのような状態が発生するとループし続ける\n",
    "        - SpeedBattleのように，勝者に決定性があれば収束する"
   ]
  },
  {
   "cell_type": "code",
   "execution_count": 28,
   "metadata": {},
   "outputs": [],
   "source": [
    "def pteam(team):\n",
    "    for p in team: print(p)\n",
    "    print()\n",
    "\n",
    "def team_training(k=10, battle_num=10, battle=SpeedBattle, verbose=False):\n",
    "    pokeidx = range(len(pokeList))\n",
    "    team = [pokeList[p] for p in random.sample(pokeidx,6)]\n",
    "\n",
    "    if verbose: \n",
    "        print(\"======== Initial Team ========\")\n",
    "        pteam(team)\n",
    "\n",
    "    consecutive_win_num = 0\n",
    "    team_count = 1\n",
    "    while consecutive_win_num < k:\n",
    "        \n",
    "        rival = [pokeList[p] for p in random.sample(pokeidx,6)]\n",
    "        (team_win, rival_win) = team_battle(team, rival, battle=battle, battle_num=battle_num)\n",
    "        \n",
    "        if team_win < rival_win: \n",
    "            team = rival\n",
    "\n",
    "            if verbose:\n",
    "                print(f\"======== {team_count}-th New Team =======\")\n",
    "                pteam(team)\n",
    "\n",
    "            consecutive_win_num = 0\n",
    "            team_count += 1\n",
    "        else: \n",
    "            consecutive_win_num += 1\n",
    "    \n",
    "    if verbose:\n",
    "        print(f\"======== {team_count-1}-th team is the strongest team ========\")\n",
    "        pteam(team)\n",
    "\n",
    "    return team, team_count-1"
   ]
  },
  {
   "cell_type": "code",
   "execution_count": 29,
   "metadata": {},
   "outputs": [
    {
     "name": "stdout",
     "output_type": "stream",
     "text": [
      "======== 65-th team is the strongest team ========\n",
      "Monster(name='Sandshrew', index=26, attack=75, defense=85, speed=30, hitpoint=[50, 50], variety=['Ground', 'Steel'])\n",
      "Monster(name='Pidgeot', index=17, attack=80, defense=75, speed=70, hitpoint=[83, 83], variety=['Normal', 'Flying'])\n",
      "Monster(name='Kingler', index=98, attack=130, defense=115, speed=50, hitpoint=[55, 55], variety=['Water'])\n",
      "Monster(name='Cloyster', index=90, attack=95, defense=180, speed=85, hitpoint=[50, 50], variety=['Water', 'Ice'])\n",
      "Monster(name='Nidorino', index=32, attack=72, defense=57, speed=55, hitpoint=[61, 61], variety=['Poison'])\n",
      "Monster(name='Geodude', index=73, attack=80, defense=100, speed=30, hitpoint=[40, 40], variety=['Rock', 'Ground', 'Electric'])\n",
      "\n",
      "Training Team Elapsed Time:  0.1655871868133545\n"
     ]
    }
   ],
   "source": [
    "start_time = time.time()\n",
    "strongest_team, team_count = team_training(k=100)\n",
    "end_time = time.time()\n",
    "\n",
    "print(f\"======== {team_count-1}-th team is the strongest team ========\")\n",
    "\n",
    "pteam(strongest_team)\n",
    "\n",
    "print(\"Training Team Elapsed Time: \", end_time - start_time)"
   ]
  },
  {
   "cell_type": "markdown",
   "metadata": {},
   "source": [
    "TeamTrainingアルゴリズムではk=10000の場合だといつまで経っても収束しない．  \n",
    "そもそもタイプの問題があるので，どんなチームにも勝てるチーム，というのは存在しない．  \n",
    "例えば，3つのチームが3すくみの関係にある場合，各イテレーションでそれぞれ苦手なチームが出現したらいつまで経っても終わらない．  \n",
    "そこで，最強チームを複数選び出すようアルゴリズムを改良する  \n",
    "<br><br>\n",
    "S-TeamTrainingアルゴリズム\n",
    "1. 最初に$S$個のチームをランダムで作り，$T_1, T_2, ..., T_S$とする\n",
    "2. チーム$T_1, T_2, ..., T_S$のいずれかが勝利することが連続で$K$回起こるまで次を繰り返す\n",
    "    1. $T_1, T_2, ..., T_S$がそれぞれランダムに選ばれた対戦相手$T_N$とバトルを行う\n",
    "    2. ランダムバトルで$T_1, T_2, ..., T_S$のうち，$\\frac{S}{R}$のチーム($R>0$)が，$T_N$に勝てなかった場合\n",
    "        1. $T_1, T_2, ..., T_S$で総当たり戦を行う\n",
    "        2. $T_1, T_2, ..., T_S$で最も勝利回数が少なかったチームを$T_N$と入れ替える\n",
    "        3. 連勝カウントをリセットする\n",
    "3. $T_1, T_2, ..., T_S$を出力する\n",
    "\n",
    "<br>\n",
    "- アルゴリズムのいいところ\n",
    "    - Kの値を大きくしても，Sの値を一緒に大きくすれば現実的な時間で解が求まりやすくなる\n",
    "- アルゴリズムのよくないところ\n",
    "    - 実装がやや複雑\n",
    "    - Rを大きくすると時間がかかる\n",
    "    - 「最強」は決められない．"
   ]
  },
  {
   "cell_type": "code",
   "execution_count": 30,
   "metadata": {},
   "outputs": [],
   "source": [
    "def pteams(teams):\n",
    "    for i, team in enumerate(teams):\n",
    "        print(f\"team{i+1}\")\n",
    "        pteam(team)\n",
    "\n",
    "def domestic_battle(teams, battle):\n",
    "    teams_win_counts = []\n",
    "    for t1 in range(len(teams)):\n",
    "        team_win_count = 0\n",
    "        for t2 in range(t1+1, len(teams)):\n",
    "            (t1_win, t2_win) = team_battle(teams[t1], teams[t2], battle=battle)\n",
    "            if t1_win > t2_win: team_win_count += 1\n",
    "        teams_win_counts.append(team_win_count)\n",
    "\n",
    "    return teams_win_counts\n",
    "        \n",
    "def s_team_training(s=3, k=10, r=1, initial_team=None, battle_num=10, battle=SpeedBattle, verbose=False):\n",
    "    pokeidx = range(len(pokeList))\n",
    "    get_team = lambda : [pokeList[p] for p in random.sample(pokeidx, 6)]\n",
    "    \n",
    "    if initial_team is not None:\n",
    "        teams = [initial_team[i] for i in range(s)]\n",
    "    else:\n",
    "        teams = [get_team() for i in range(s)]\n",
    "\n",
    "    if verbose: \n",
    "        print(\"======== Initial Teams ========\")\n",
    "        pteams(teams)\n",
    "\n",
    "    consecutive_win_num = 0\n",
    "    team_count = 1\n",
    "    while consecutive_win_num < k:\n",
    "        \n",
    "        rival = [pokeList[p] for p in random.sample(pokeidx,6)]\n",
    "        \n",
    "        results = []\n",
    "        for team in teams:\n",
    "            (team_win, rival_win) = team_battle(team, rival, battle=battle, battle_num=battle_num)\n",
    "            results.append(team_win <= rival_win)\n",
    "            \n",
    "        \n",
    "        if sum(results) >= round(s / r):\n",
    "            \n",
    "            teams_win_counts = domestic_battle(teams, battle)\n",
    "            \n",
    "            teams[np.argmin(teams_win_counts)] = rival\n",
    "\n",
    "            if verbose:\n",
    "                print(f\"======== {team_count}-th New Teams =======\")\n",
    "                pteams(teams)\n",
    "\n",
    "            consecutive_win_num = 0\n",
    "            team_count += 1\n",
    "        else: \n",
    "            consecutive_win_num += 1\n",
    "    \n",
    "    if verbose:\n",
    "        print(f\"======== {team_count-1}-th teams are the strongest teams ========\")\n",
    "        pteams(teams)\n",
    "\n",
    "    return teams, team_count-1"
   ]
  },
  {
   "cell_type": "code",
   "execution_count": 31,
   "metadata": {
    "scrolled": false
   },
   "outputs": [
    {
     "name": "stdout",
     "output_type": "stream",
     "text": [
      "Elapsed Time for s-Team Training Algorithm of k=10: 1.9358270168304443[sec] \n",
      "\n",
      "======== 2-th teams are the strongest teams ========\n",
      "team1\n",
      "Monster(name='Victreebel', index=70, attack=105, defense=65, speed=100, hitpoint=[80, -14], variety=['Grass', 'Poison'])\n",
      "Monster(name='Nidorina', index=29, attack=62, defense=67, speed=55, hitpoint=[70, -1], variety=['Poison'])\n",
      "Monster(name='Rhydon', index=111, attack=130, defense=120, speed=45, hitpoint=[105, 75], variety=['Ground', 'Rock'])\n",
      "Monster(name='Mew', index=150, attack=100, defense=100, speed=100, hitpoint=[100, 100], variety=['Psychic'])\n",
      "Monster(name='Ivysaur', index=1, attack=62, defense=63, speed=80, hitpoint=[60, 60], variety=['Grass', 'Poison'])\n",
      "Monster(name='Golem', index=75, attack=110, defense=130, speed=55, hitpoint=[80, 80], variety=['Rock', 'Ground', 'Electric'])\n",
      "\n",
      "team2\n",
      "Monster(name='Onix', index=94, attack=45, defense=160, speed=30, hitpoint=[35, 35], variety=['Rock', 'Ground'])\n",
      "Monster(name='Drowzee', index=95, attack=48, defense=45, speed=90, hitpoint=[60, 0], variety=['Psychic'])\n",
      "Monster(name='Omastar', index=138, attack=60, defense=125, speed=115, hitpoint=[70, 0], variety=['Rock', 'Water'])\n",
      "Monster(name='Rhydon', index=111, attack=130, defense=120, speed=45, hitpoint=[105, 75], variety=['Ground', 'Rock'])\n",
      "Monster(name='Gyarados', index=129, attack=125, defense=79, speed=100, hitpoint=[95, 95], variety=['Water', 'Flying'])\n",
      "Monster(name='Venonat', index=47, attack=55, defense=50, speed=40, hitpoint=[60, 60], variety=['Bug', 'Poison'])\n",
      "\n",
      "team3\n",
      "Monster(name='Graveler', index=74, attack=95, defense=115, speed=45, hitpoint=[55, -13], variety=['Rock', 'Ground', 'Electric'])\n",
      "Monster(name='Dragonite', index=148, attack=134, defense=95, speed=100, hitpoint=[91, 91], variety=['Dragon', 'Flying'])\n",
      "Monster(name='Lickitung', index=107, attack=55, defense=75, speed=60, hitpoint=[90, 90], variety=['Normal'])\n",
      "Monster(name='Seel', index=85, attack=45, defense=55, speed=70, hitpoint=[65, 65], variety=['Water'])\n",
      "Monster(name='Nidoking', index=33, attack=92, defense=77, speed=75, hitpoint=[81, 81], variety=['Poison', 'Ground'])\n",
      "Monster(name='Arbok', index=23, attack=85, defense=69, speed=65, hitpoint=[60, 60], variety=['Poison'])\n",
      "\n"
     ]
    }
   ],
   "source": [
    "k = 10\n",
    "start_time = time.time()\n",
    "strongest_teams, team_count = s_team_training(k=k, battle=pf.battle)\n",
    "end_time = time.time()\n",
    "\n",
    "print(f\"Elapsed Time for s-Team Training Algorithm of k={k}: {end_time-start_time}[sec] \\n\")\n",
    "print(f\"======== {team_count}-th teams are the strongest teams ========\")\n",
    "pteams(strongest_teams)"
   ]
  },
  {
   "cell_type": "markdown",
   "metadata": {},
   "source": [
    "保存版\n",
    "Elapsed Time for s-Team Training Algorithm of k=10000: 2645.9579594135284[sec]   \n",
    "  \n",
    "======== 80-th teams are the strongest teams ========  \n",
    "team1  \n",
    "Monster(name='Hypno', index=96, attack=73, defense=70, speed=115, hitpoint=[85, -11], variety=['Psychic'])  \n",
    "Monster(name='Kingler', index=98, attack=130, defense=115, speed=50, hitpoint=[55, 55], variety=['Water'])  \n",
    "Monster(name='Cloyster', index=90, attack=95, defense=180, speed=85, hitpoint=[50, 50], variety=['Water', 'Ice'])  \n",
    "Monster(name='Mr.Mime', index=121, attack=45, defense=65, speed=100, hitpoint=[40, 40], variety=['Psychic', 'Fairy'])  \n",
    "Monster(name='Poliwrath', index=61, attack=85, defense=95, speed=70, hitpoint=[90, 90], variety=['Water', 'Fighting'])  \n",
    "Monster(name='Haunter', index=92, attack=50, defense=45, speed=115, hitpoint=[45, 45], variety=['Ghost', 'Poison'])  \n",
    "<br>\n",
    "team2  \n",
    "Monster(name='Magmar', index=125, attack=95, defense=57, speed=85, hitpoint=[65, 48], variety=['Fire'])  \n",
    "Monster(name='Rhydon', index=111, attack=130, defense=120, speed=45, hitpoint=[105, 105], variety=['Ground', 'Rock'])  \n",
    "Monster(name='Kingler', index=98, attack=130, defense=115, speed=50, hitpoint=[55, 55], variety=['Water'])  \n",
    "Monster(name='Cloyster', index=90, attack=95, defense=180, speed=85, hitpoint=[50, 50], variety=['Water', 'Ice'])  \n",
    "Monster(name='Snorlax', index=142, attack=110, defense=65, speed=65, hitpoint=[160, 160], variety=['Normal'])  \n",
    "Monster(name='Paras', index=45, attack=70, defense=55, speed=55, hitpoint=[35, 35], variety=['Bug', 'Grass'])  \n",
    "<br>\n",
    "team3  \n",
    "Monster(name='Cloyster', index=90, attack=95, defense=180, speed=85, hitpoint=[50, 50], variety=['Water', 'Ice'])  \n",
    "Monster(name='Hitmonlee', index=105, attack=120, defense=53, speed=35, hitpoint=[50, 50], variety=['Fighting'])  \n",
    "Monster(name='Golem', index=75, attack=110, defense=130, speed=55, hitpoint=[80, 80], variety=['Rock', 'Ground', 'Electric'])  \n",
    "Monster(name='Dodrio', index=84, attack=110, defense=70, speed=60, hitpoint=[60, 60], variety=['Normal', 'Flying'])  \n",
    "Monster(name='Mr.Mime', index=121, attack=45, defense=65, speed=100, hitpoint=[40, 40], variety=['Psychic', 'Fairy'])  \n",
    "Monster(name='Gyarados', index=129, attack=125, defense=79, speed=100, hitpoint=[95, 95], variety=['Water', 'Flying'])  "
   ]
  },
  {
   "cell_type": "code",
   "execution_count": 32,
   "metadata": {},
   "outputs": [
    {
     "data": {
      "text/plain": [
       "[0, 1, 0]"
      ]
     },
     "execution_count": 32,
     "metadata": {},
     "output_type": "execute_result"
    }
   ],
   "source": [
    "domestic_battle(strongest_teams, SpeedBattle)"
   ]
  },
  {
   "cell_type": "code",
   "execution_count": 33,
   "metadata": {},
   "outputs": [
    {
     "name": "stdout",
     "output_type": "stream",
     "text": [
      "[142 100   0]\n"
     ]
    }
   ],
   "source": [
    "results = np.zeros(3, dtype='i')\n",
    "for i in range(100):\n",
    "    results += domestic_battle(strongest_teams, pf.battle)\n",
    "print(results)"
   ]
  },
  {
   "cell_type": "markdown",
   "metadata": {},
   "source": [
    "team0やっぱり強いみたい"
   ]
  },
  {
   "cell_type": "code",
   "execution_count": 34,
   "metadata": {},
   "outputs": [
    {
     "data": {
      "text/plain": [
       "[Monster(name='Victreebel', index=70, attack=105, defense=65, speed=100, hitpoint=[80, -21], variety=['Grass', 'Poison']),\n",
       " Monster(name='Nidorina', index=29, attack=62, defense=67, speed=55, hitpoint=[70, -57], variety=['Poison']),\n",
       " Monster(name='Rhydon', index=111, attack=130, defense=120, speed=45, hitpoint=[105, 105], variety=['Ground', 'Rock']),\n",
       " Monster(name='Mew', index=150, attack=100, defense=100, speed=100, hitpoint=[100, 100], variety=['Psychic']),\n",
       " Monster(name='Ivysaur', index=1, attack=62, defense=63, speed=80, hitpoint=[60, 60], variety=['Grass', 'Poison']),\n",
       " Monster(name='Golem', index=75, attack=110, defense=130, speed=55, hitpoint=[80, 80], variety=['Rock', 'Ground', 'Electric'])]"
      ]
     },
     "execution_count": 34,
     "metadata": {},
     "output_type": "execute_result"
    }
   ],
   "source": [
    "strongest_teams[0]"
   ]
  },
  {
   "cell_type": "code",
   "execution_count": 35,
   "metadata": {},
   "outputs": [
    {
     "name": "stdout",
     "output_type": "stream",
     "text": [
      "Monster(name='Cloyster', index=90, attack=95, defense=180, speed=85, hitpoint=[50, 50], variety=['Water', 'Ice'])\n",
      "Monster(name='Kingler', index=98, attack=130, defense=115, speed=50, hitpoint=[55, 55], variety=['Water'])\n",
      "Monster(name='Gyarados', index=129, attack=125, defense=79, speed=100, hitpoint=[95, -25], variety=['Water', 'Flying'])\n",
      "Monster(name='Mewtwo', index=149, attack=110, defense=90, speed=154, hitpoint=[106, 36], variety=['Psychic'])\n",
      "Monster(name='Dragonite', index=148, attack=134, defense=95, speed=100, hitpoint=[91, 71], variety=['Dragon', 'Flying'])\n",
      "Monster(name='Mew', index=150, attack=100, defense=100, speed=100, hitpoint=[100, -1], variety=['Psychic'])\n",
      "\n"
     ]
    },
    {
     "data": {
      "text/plain": [
       "(500, 4)"
      ]
     },
     "execution_count": 35,
     "metadata": {},
     "output_type": "execute_result"
    }
   ],
   "source": [
    "normal_result_team = normal_ranking[:6]\n",
    "pteam(normal_result_team)\n",
    "team_battle(normal_result_team, strongest_teams[1], battle_num=1000)"
   ]
  },
  {
   "cell_type": "markdown",
   "metadata": {},
   "source": [
    "それでもやっぱり最強チームには勝てない"
   ]
  },
  {
   "cell_type": "markdown",
   "metadata": {},
   "source": [
    "初期チームを最強チームにしてみる？"
   ]
  },
  {
   "cell_type": "code",
   "execution_count": 37,
   "metadata": {},
   "outputs": [
    {
     "name": "stdout",
     "output_type": "stream",
     "text": [
      "Elapsed Time for s-Team Training Algorithm of k=10000: 128.13062024116516[sec] \n",
      "\n",
      "======== 0-th teams are the strongest teams ========\n",
      "team1\n",
      "Monster(name='Mewtwo', index=149, attack=110, defense=90, speed=154, hitpoint=[106, 106], variety=['Psychic'])\n",
      "Monster(name='Cloyster', index=90, attack=95, defense=180, speed=85, hitpoint=[50, 50], variety=['Water', 'Ice'])\n",
      "Monster(name='Dragonite', index=148, attack=134, defense=95, speed=100, hitpoint=[91, 91], variety=['Dragon', 'Flying'])\n",
      "Monster(name='Kingler', index=98, attack=130, defense=115, speed=50, hitpoint=[55, 55], variety=['Water'])\n",
      "Monster(name='Gyarados', index=129, attack=125, defense=79, speed=100, hitpoint=[95, 95], variety=['Water', 'Flying'])\n",
      "Monster(name='Mew', index=150, attack=100, defense=100, speed=100, hitpoint=[100, 100], variety=['Psychic'])\n",
      "\n",
      "team2\n",
      "Monster(name='Cloyster', index=90, attack=95, defense=180, speed=85, hitpoint=[50, 50], variety=['Water', 'Ice'])\n",
      "Monster(name='Gyarados', index=129, attack=125, defense=79, speed=100, hitpoint=[95, 95], variety=['Water', 'Flying'])\n",
      "Monster(name='Mew', index=150, attack=100, defense=100, speed=100, hitpoint=[100, 100], variety=['Psychic'])\n",
      "Monster(name='Dragonite', index=148, attack=134, defense=95, speed=100, hitpoint=[91, 91], variety=['Dragon', 'Flying'])\n",
      "Monster(name='Kingler', index=98, attack=130, defense=115, speed=50, hitpoint=[55, 55], variety=['Water'])\n",
      "Monster(name='Mewtwo', index=149, attack=110, defense=90, speed=154, hitpoint=[106, 106], variety=['Psychic'])\n",
      "\n",
      "team3\n",
      "Monster(name='Kingler', index=98, attack=130, defense=115, speed=50, hitpoint=[55, 55], variety=['Water'])\n",
      "Monster(name='Cloyster', index=90, attack=95, defense=180, speed=85, hitpoint=[50, 50], variety=['Water', 'Ice'])\n",
      "Monster(name='Dragonite', index=148, attack=134, defense=95, speed=100, hitpoint=[91, 91], variety=['Dragon', 'Flying'])\n",
      "Monster(name='Mewtwo', index=149, attack=110, defense=90, speed=154, hitpoint=[106, 106], variety=['Psychic'])\n",
      "Monster(name='Gyarados', index=129, attack=125, defense=79, speed=100, hitpoint=[95, 95], variety=['Water', 'Flying'])\n",
      "Monster(name='Mew', index=150, attack=100, defense=100, speed=100, hitpoint=[100, 100], variety=['Psychic'])\n",
      "\n"
     ]
    }
   ],
   "source": [
    "s = 3\n",
    "k = 10000\n",
    "initial_team = [normal_result_team.copy() for i in range(s)]\n",
    "for team in initial_team: random.shuffle(team)\n",
    "\n",
    "start_time = time.time()\n",
    "strongest_teams, team_count = s_team_training(k=k, initial_team=initial_team, battle=pf.battle)\n",
    "end_time = time.time()\n",
    "\n",
    "print(f\"Elapsed Time for s-Team Training Algorithm of k={k}: {end_time-start_time}[sec] \\n\")\n",
    "print(f\"======== {team_count}-th teams are the strongest teams ========\")\n",
    "pteams(strongest_teams)"
   ]
  },
  {
   "cell_type": "markdown",
   "metadata": {},
   "source": [
    "N時間かけてアルゴリズムを回してみても結局最強チームは最強チームっぽい  "
   ]
  },
  {
   "cell_type": "markdown",
   "metadata": {},
   "source": [
    "## 同じポケモンを編成可能\n",
    "やっパルシェン？  \n",
    "しかしパルシェン対策にサイドンを入れる必要ありそう"
   ]
  },
  {
   "cell_type": "markdown",
   "metadata": {},
   "source": [
    "## 相手のポケモンがわかっている時\n",
    "- とりあえず一番強いやつを重要視したほうが良いかも\n",
    "- 大体パルシェンで勝てる気がする\n",
    "- 相手一体一体に対して，一番勝率の高いポケモンを6体，同じ順番でぶつけてやる\n",
    "- 全員相手しているのでは大変なので，有利なタイプ，相手にダメージを与えられることがわかっているポケモンから選ぶ\n",
    "    - 攻撃力，防御力，HPによる指標を作っても良いかも\n",
    "    - 同率はnormal_ranking順\n",
    "    ポケモンそれぞれに天敵となるポケモンの表をあらかじめ作っておけば定数オーダーで作れる"
   ]
  },
  {
   "cell_type": "markdown",
   "metadata": {},
   "source": [
    "## 同じポケモンを編成可能かつ相手のポケモンがわかっている時\n",
    "合わせ技すればいいのかな"
   ]
  }
 ],
 "metadata": {
  "kernelspec": {
   "display_name": "Python 3",
   "language": "python",
   "name": "python3"
  },
  "language_info": {
   "codemirror_mode": {
    "name": "ipython",
    "version": 3
   },
   "file_extension": ".py",
   "mimetype": "text/x-python",
   "name": "python",
   "nbconvert_exporter": "python",
   "pygments_lexer": "ipython3",
   "version": "3.6.5"
  }
 },
 "nbformat": 4,
 "nbformat_minor": 2
}
