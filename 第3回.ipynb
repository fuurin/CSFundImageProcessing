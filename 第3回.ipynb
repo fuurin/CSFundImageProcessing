{
 "cells": [
  {
   "cell_type": "code",
   "execution_count": 1,
   "metadata": {},
   "outputs": [],
   "source": [
    "import numpy as np\n",
    "import matplotlib.pyplot as plt\n",
    "%matplotlib inline"
   ]
  },
  {
   "cell_type": "markdown",
   "metadata": {},
   "source": [
    "Modelling\n",
    "- first hour\n",
    "    - experimentral alg\n",
    "    - pipeline\n",
    "    - examples\n",
    "    - homework\n",
    "- second hour\n",
    "    - pokemon\n",
    "    - intro I.P"
   ]
  },
  {
   "cell_type": "markdown",
   "metadata": {},
   "source": [
    "ゴール： 現実的な問題をコンピュータの能力内で解く  \n",
    "JEA SEAなどのコミュニティサイトがある.  \n",
    "論文をまとめてあるサイト？gatech?なども使える．  \n",
    "アルゴリズムを論文に乗せるのに大事なこと，実験に大事なこと？  \n",
    "コードを見せることではなく，問題がなんなのか，その解法の長所と短所はなんなのか，にたいする洞察を示すことが大事である．  "
   ]
  },
  {
   "cell_type": "markdown",
   "metadata": {},
   "source": [
    "# EA pipeline Step  \n",
    "<br>\n",
    "<div style=\"text-align:center\">problem(client) -> formalization -> algorithm design -> implementation -> experimentation</div>\n",
    "<br>\n",
    "この一連のステップそれぞれからPractical Insightを導き，さらにFeedbackを付け加える  \n",
    "homeworkはexperimentationの辺りから何か出される"
   ]
  },
  {
   "cell_type": "markdown",
   "metadata": {},
   "source": [
    "## Formalization\n",
    "needs storong mathematical foundations  \n",
    "理論上重要なことが実践では重要ではないことがある．  \n",
    "Bias filtering vs Approximation algorithm"
   ]
  },
  {
   "cell_type": "markdown",
   "metadata": {},
   "source": [
    "## Algorithm design\n",
    "どんな点でBest solutionなのか?(最適解を出せるのか，早いのか)  \n",
    "実装時に発生する問題を考慮してデザインすることが大事"
   ]
  },
  {
   "cell_type": "markdown",
   "metadata": {},
   "source": [
    "## Implementation\n",
    "Programming language, team, task distribution...  \n",
    "専門知識なしで，誰が実装しても良いようにしたい．  \n",
    "実装時間 vs 実行時間"
   ]
  },
  {
   "cell_type": "markdown",
   "metadata": {},
   "source": [
    "## Experiments\n",
    "実験の設計(何をどうやって測定するのか)を定める  \n",
    "実験時の「バイアス」に注意する  \n",
    "- 認証バイアス(confirmation bias)世の中で正しいとされているもの，正しいと自分が信じているものを正しいとしてしまうこと\n",
    "- 文化バイアス(culture bias)メディアなど？"
   ]
  },
  {
   "cell_type": "markdown",
   "metadata": {},
   "source": [
    "## Insight\n",
    "- 洞察の種類(問題，アプローチ)\n",
    "    - 結果の解釈\n",
    "    - 仮説検証\n",
    "- SOFT skills"
   ]
  },
  {
   "cell_type": "markdown",
   "metadata": {},
   "source": [
    "# Practical Examples\n",
    "- road network matching\n",
    "- medical image analysis\n",
    "- 3D point set residues"
   ]
  },
  {
   "cell_type": "markdown",
   "metadata": {},
   "source": [
    "## Road network matching\n",
    "地図の一部がどこのものであるかを調べる  \n",
    "交差点と交差点への彩色問題によって，$O(n^4 n'^{3} \\log n')$で解ける. YAGO先生の論文より"
   ]
  },
  {
   "cell_type": "markdown",
   "metadata": {},
   "source": [
    "## Medical Image Analysis"
   ]
  },
  {
   "cell_type": "markdown",
   "metadata": {},
   "source": [
    "## 3D Point Cloud Matching\n",
    "複数の角度から撮ったうさぎの3Dモデルができるって話  \n",
    "最低3つの同じ位置にある点を見つける必要がある．  $O(n^6)$  \n",
    "最新では$O(n^2)$くらい？\n",
    "最悪計算量のオーダが多くても，現実のデータで例えば全てのなんらかの対象となるピクセルがある領域に固まっていることはないなどの仮定を置けば有用なアルゴリズムとなる．"
   ]
  },
  {
   "cell_type": "markdown",
   "metadata": {},
   "source": []
  },
  {
   "cell_type": "markdown",
   "metadata": {},
   "source": [
    "# Toy Problem\n",
    "which is the strongest Pokemon?\n",
    "Formalization\n",
    "- how many pokemon are there?\n",
    "    251? FIRST GENERATION Pokemons.\n",
    "- what does \"strong\" mean?\n",
    "    winners of Combats\n",
    "- read bibliograohy\n",
    "    - 参考：https://hubpages.com/entertainment/Top-10-Strongest-First-Generation-Pokemons"
   ]
  },
  {
   "cell_type": "markdown",
   "metadata": {},
   "source": [
    "Algorithm design\n",
    "- combat system はユーザのコマンドを必要とする\n",
    "- タイプシステム\n",
    "- Moves can be developed using points during the game\n",
    "- Official codeを入手することはできない"
   ]
  },
  {
   "cell_type": "markdown",
   "metadata": {},
   "source": [
    "## Implementation\n",
    "easy to implement  \n",
    "no money  \n",
    "python  "
   ]
  },
  {
   "cell_type": "markdown",
   "metadata": {},
   "source": [
    "Home work\n",
    "1. review the python code, feel free to improve it.\n",
    "2. design experiment(s) to find out the stronger pokemon and pokemon team\n",
    "    team: 6 pokemon, 1匹ずつ戦い，勝ったほうが次のポケモンと戦う\n",
    "3. Report\n",
    "    - results/comments insight!\n",
    "    - Given the restrictions, how would you improve the process(Formalization, design, implementation)\n",
    "    - restrictionsがなければどうやってimproveするか？\n",
    "    - 結果は予想どうりのものか？そうでなければ何が問題だったのか？"
   ]
  },
  {
   "cell_type": "markdown",
   "metadata": {},
   "source": [
    "とりあえず思いつくのは総当たり戦をして，勝った回数が一番多いやつが強い  \n",
    "より早くしたいならランダムリーグ戦をやらせる．これは近似解になる．(タイプシステムがあるので最強とは限らない)"
   ]
  },
  {
   "cell_type": "code",
   "execution_count": 2,
   "metadata": {},
   "outputs": [],
   "source": [
    "from lesson3Code.pokemonTournament.pokemonDef import Monster\n",
    "import lesson3Code.pokemonTournament.pokemonFunctions as pf\n",
    "import sys, random\n",
    "\n",
    "listOfNamesAndTypes=pf.readPokemonTypesFromFile(\"lesson3Code/pokemonTournament/listOfPokemon1.txt\")\n",
    "pokeList=pf.readPokemonListFromFile(\"lesson3Code/pokemonTournament/listOfPokemon2.txt\")\n",
    "\n",
    "pokedex={}\n",
    "for monster in pokeList:\n",
    "    pokedex[monster.name]=monster\n",
    "\n",
    "for name,listOfTypes in listOfNamesAndTypes:\n",
    "    for t in listOfTypes:\n",
    "        pokedex[name].variety.append(t)"
   ]
  },
  {
   "cell_type": "code",
   "execution_count": 3,
   "metadata": {},
   "outputs": [],
   "source": [
    "def RoundRobinExperiment(k=1, battle=pf.battle, result=True):\n",
    "    win_times = np.zeros(len(pokeList), dtype='i')\n",
    "    for i in range(k):\n",
    "        for player in range(len(pokeList)):\n",
    "            win_time = 0\n",
    "            for enemy in range(len(pokeList)):\n",
    "                if player == enemy: continue\n",
    "                winner = battle(pokeList[player], pokeList[enemy])\n",
    "                if winner == 0: win_time += 1\n",
    "            win_times[player] += win_time\n",
    "\n",
    "    if result:\n",
    "        strongest = win_times.argmax()\n",
    "        print(\"The strongest pokemon is\", pokeList[strongest].name, \"id: \", strongest)\n",
    "        print(\"The strongest pokemon parameter\", pokeList[strongest])\n",
    "        print(\"Strongest Pokemon Top 10\")\n",
    "        for i in win_times.argsort()[::-1][:10]:\n",
    "            print(pokeList[i])\n",
    "    \n",
    "    return win_times"
   ]
  },
  {
   "cell_type": "markdown",
   "metadata": {},
   "source": [
    "総当たり: $O(n^2)$  \n",
    "$K$回の総当たり: $O(Kn^2)$  \n",
    "この場合は，「あるポケモンが自分より弱いポケモンが何種類いるか」が強さの基準になっている．  \n",
    "- 長所\n",
    "    - ポケモンの能力値がわからなくても強さを測定できる．\n",
    "    - 実装が簡単である\n",
    "- 短所\n",
    "    - 時間がかかる\n",
    "    - Combat Systemに乱数(一様分布)が利用されているため,実験の度に結果が変わる\n",
    "        - 何回繰り返したところで最強とは限らない"
   ]
  },
  {
   "cell_type": "markdown",
   "metadata": {},
   "source": [
    "仮説\n",
    "- 同じタイプの場合，攻撃力，防御力，HPで力関係の期待値がわかる\n",
    "    - 毎ターンそれぞれが対決\n",
    "    - 攻撃力と防御力の変動値は同じタイプであれば一様分布で決まる"
   ]
  },
  {
   "cell_type": "code",
   "execution_count": 7,
   "metadata": {},
   "outputs": [],
   "source": [
    "from lesson3Code.pokemonTournament.pokemonDef import Monster,superEffective,notEffective,noEffect\n",
    "\n",
    "def SpeedBattle(p1, p2, resetHP=True):\n",
    "    effectiveness = 0.3\n",
    "    max_rounds = 1000\n",
    "    \n",
    "    if resetHP:\n",
    "        pf.ResetHP(p1)\n",
    "        pf.ResetHP(p2)\n",
    "    \n",
    "    if noEffect(p1, p2) and noEffect(p2, p1): return 2\n",
    "    elif noEffect(p1, p2): return 1\n",
    "    elif noEffect(p2, p1): return 0\n",
    "    \n",
    "    attackCenter1=1\n",
    "    if superEffective(p1, p2): attackCenter1+=effectiveness\n",
    "    elif notEffective(p1, p2): attackCenter1-=effectiveness\n",
    "\n",
    "    attackCenter2=1\n",
    "    if superEffective(p2, p1): attackCenter2+=effectiveness\n",
    "    elif notEffective(p2, p1): attackCenter2-=effectiveness\n",
    "    \n",
    "    get_damage1 = max(0, (round(p2.attack * attackCenter2) - p1.defense * 0.9))\n",
    "    survive_rounds1 = p1.hitpoint[1] / get_damage1 if get_damage1 > 0 else max_rounds\n",
    "        \n",
    "    get_damage2 = max(0, (round(p1.attack * attackCenter1) - p2.defense * 0.9))\n",
    "    survive_rounds2 = p2.hitpoint[1] / get_damage2 if get_damage2 > 0 else max_rounds\n",
    "        \n",
    "    if survive_rounds1 == survive_rounds2: \n",
    "        if p1.speed == p2.speed: return 0\n",
    "        return 0 if p1.speed > p2.speed else 1\n",
    "    \n",
    "    return 0 if survive_rounds1 > survive_rounds2 else 1"
   ]
  },
  {
   "cell_type": "code",
   "execution_count": 8,
   "metadata": {},
   "outputs": [
    {
     "name": "stdout",
     "output_type": "stream",
     "text": [
      "The strongest pokemon is Cloyster id:  90\n",
      "The strongest pokemon parameter Monster(name='Cloyster', index=90, attack=95, defense=180, speed=85, hitpoint=[50, 50], variety=['Water', 'Ice'])\n",
      "Strongest Pokemon Top 10\n",
      "Monster(name='Cloyster', index=90, attack=95, defense=180, speed=85, hitpoint=[50, 50], variety=['Water', 'Ice'])\n",
      "Monster(name='Gyarados', index=129, attack=125, defense=79, speed=100, hitpoint=[95, 52], variety=['Water', 'Flying'])\n",
      "Monster(name='Kingler', index=98, attack=130, defense=115, speed=50, hitpoint=[55, 47], variety=['Water'])\n",
      "Monster(name='Mewtwo', index=149, attack=110, defense=90, speed=154, hitpoint=[106, 35], variety=['Psychic'])\n",
      "Monster(name='Dragonite', index=148, attack=134, defense=95, speed=100, hitpoint=[91, 35], variety=['Dragon', 'Flying'])\n",
      "Monster(name='Mew', index=150, attack=100, defense=100, speed=100, hitpoint=[100, -15], variety=['Psychic'])\n",
      "Monster(name='Kabutops', index=140, attack=115, defense=105, speed=70, hitpoint=[60, -7], variety=['Rock', 'Water'])\n",
      "Monster(name='Pinsir', index=126, attack=125, defense=100, speed=55, hitpoint=[65, 46], variety=['Bug'])\n",
      "Monster(name='Machamp', index=67, attack=130, defense=80, speed=65, hitpoint=[90, -36], variety=['Fighting'])\n",
      "Monster(name='Rhydon', index=111, attack=130, defense=120, speed=45, hitpoint=[105, 95], variety=['Ground', 'Rock'])\n",
      "====================== Speed Battle =========================\n",
      "The strongest pokemon is Cloyster id:  90\n",
      "The strongest pokemon parameter Monster(name='Cloyster', index=90, attack=95, defense=180, speed=85, hitpoint=[50, 50], variety=['Water', 'Ice'])\n",
      "Strongest Pokemon Top 10\n",
      "Monster(name='Cloyster', index=90, attack=95, defense=180, speed=85, hitpoint=[50, 50], variety=['Water', 'Ice'])\n",
      "Monster(name='Gyarados', index=129, attack=125, defense=79, speed=100, hitpoint=[95, 95], variety=['Water', 'Flying'])\n",
      "Monster(name='Kingler', index=98, attack=130, defense=115, speed=50, hitpoint=[55, 55], variety=['Water'])\n",
      "Monster(name='Dragonite', index=148, attack=134, defense=95, speed=100, hitpoint=[91, 91], variety=['Dragon', 'Flying'])\n",
      "Monster(name='Mewtwo', index=149, attack=110, defense=90, speed=154, hitpoint=[106, 106], variety=['Psychic'])\n",
      "Monster(name='Mew', index=150, attack=100, defense=100, speed=100, hitpoint=[100, 100], variety=['Psychic'])\n",
      "Monster(name='Pinsir', index=126, attack=125, defense=100, speed=55, hitpoint=[65, 65], variety=['Bug'])\n",
      "Monster(name='Machamp', index=67, attack=130, defense=80, speed=65, hitpoint=[90, 90], variety=['Fighting'])\n",
      "Monster(name='Weezing', index=109, attack=90, defense=120, speed=85, hitpoint=[65, 65], variety=['Poison'])\n",
      "Monster(name='Articuno', index=143, attack=85, defense=100, speed=125, hitpoint=[90, 90], variety=['Ice', 'Flying'])\n"
     ]
    }
   ],
   "source": [
    "K = 1\n",
    "normal_result = RoundRobinExperiment(K)\n",
    "print(\"====================== Speed Battle =========================\")\n",
    "speed_result = RoundRobinExperiment(battle=SpeedBattle)"
   ]
  },
  {
   "cell_type": "code",
   "execution_count": 9,
   "metadata": {},
   "outputs": [
    {
     "data": {
      "text/plain": [
       "array([ True, False, False, False, False,  True, False,  True, False,\n",
       "       False, False,  True, False, False, False, False, False, False,\n",
       "       False, False, False, False, False, False, False, False, False,\n",
       "       False, False, False, False, False, False, False, False, False,\n",
       "       False, False, False, False, False, False, False, False, False,\n",
       "       False, False, False, False, False, False, False, False,  True,\n",
       "       False, False, False, False,  True, False, False, False, False,\n",
       "       False, False, False, False, False,  True, False, False, False,\n",
       "       False, False, False, False, False, False, False, False, False,\n",
       "        True, False, False, False, False, False, False, False, False,\n",
       "       False, False, False, False, False, False, False, False, False,\n",
       "       False, False, False, False,  True, False, False, False, False,\n",
       "       False, False, False, False, False, False, False, False, False,\n",
       "       False, False, False, False,  True, False, False, False, False,\n",
       "       False, False, False, False, False, False, False, False, False,\n",
       "       False, False, False, False, False, False, False, False, False,\n",
       "       False,  True, False, False,  True,  True,  True])"
      ]
     },
     "execution_count": 9,
     "metadata": {},
     "output_type": "execute_result"
    }
   ],
   "source": [
    "normal_result.argsort() == speed_result.argsort()"
   ]
  },
  {
   "cell_type": "markdown",
   "metadata": {},
   "source": [
    "順位が同じ，という基準では少し厳しい気がするので，レーベンシュタイン距離を基準にする"
   ]
  },
  {
   "cell_type": "code",
   "execution_count": 53,
   "metadata": {},
   "outputs": [],
   "source": [
    "# Levenstein Distance by Dynamic Programming\n",
    "def LevensteinDistance(l1, l2):\n",
    "    len1 = len(l1) + 1\n",
    "    len2 = len(l2) + 1\n",
    "    \n",
    "    dp = np.zeros((len1, len2), dtype='i')\n",
    "    for row in range(len1):\n",
    "        for col in range(len2):\n",
    "            if row == 0: \n",
    "                dp[row][col] = col\n",
    "                continue\n",
    "                \n",
    "            if col == 0:\n",
    "                dp[row][col] = row\n",
    "                continue\n",
    "            \n",
    "            c = 0 if l1[row-1] == l2[col-1] else 1\n",
    "            dp[row][col] = min(dp[row-1][col]+1, dp[row][col-1]+1, dp[row-1][col-1] + c)\n",
    "\n",
    "    print(dp)\n",
    "    \n",
    "    return dp[-1][-1]"
   ]
  },
  {
   "cell_type": "code",
   "execution_count": 54,
   "metadata": {},
   "outputs": [
    {
     "name": "stdout",
     "output_type": "stream",
     "text": [
      "[8 1 6 8 9]\n",
      "[3 7 8 2]\n",
      "[[0 1 2 3 4]\n",
      " [1 1 2 2 3]\n",
      " [2 2 2 3 3]\n",
      " [3 3 3 3 4]\n",
      " [4 4 4 3 4]\n",
      " [5 5 5 4 4]]\n"
     ]
    },
    {
     "data": {
      "text/plain": [
       "4"
      ]
     },
     "execution_count": 54,
     "metadata": {},
     "output_type": "execute_result"
    }
   ],
   "source": [
    "l1 = np.random.randint(1,10,5)\n",
    "l2 = np.random.randint(1,10,4)\n",
    "print(l1)\n",
    "print(l2)\n",
    "LevensteinDistance(l1,l2)"
   ]
  },
  {
   "cell_type": "code",
   "execution_count": 10,
   "metadata": {},
   "outputs": [
    {
     "name": "stdout",
     "output_type": "stream",
     "text": [
      "Normal Battle Elapsed Time: 7.6664183139801025\n",
      "Speed Battle Elapsed Time: 0.4333150386810303\n"
     ]
    }
   ],
   "source": [
    "import time\n",
    "\n",
    "startNormal = time.time()\n",
    "RoundRobinExperiment(result=False)\n",
    "endNormal = time.time()\n",
    "print(\"Normal Battle Elapsed Time:\", endNormal - startNormal)\n",
    "\n",
    "startSpeed = time.time()\n",
    "RoundRobinExperiment(battle=SpeedBattle, result=False)\n",
    "endSpeed = time.time()\n",
    "print(\"Speed Battle Elapsed Time:\", endSpeed - startSpeed)"
   ]
  },
  {
   "cell_type": "code",
   "execution_count": 11,
   "metadata": {},
   "outputs": [
    {
     "name": "stdout",
     "output_type": "stream",
     "text": [
      "Monster(name='Cloyster', index=90, attack=95, defense=180, speed=85, hitpoint=[50, 50], variety=['Water', 'Ice'])\n",
      "Enemy of Cloyster at leaste needs to be SuperEffective variety, because max_attack * 1.2 =  160.79999999999998 < 180\n"
     ]
    }
   ],
   "source": [
    "strongest_id = normal_result.argmax()\n",
    "strongest = pokeList[strongest_id]\n",
    "print(strongest)\n",
    "\n",
    "max_attack = max([p.attack for p in pokeList])\n",
    "\n",
    "print(\"Enemy of Cloyster at leaste needs to be SuperEffective variety, because max_attack * 1.2 = \", max_attack * 1.2, \"<\", strongest.defense)"
   ]
  },
  {
   "cell_type": "code",
   "execution_count": 12,
   "metadata": {},
   "outputs": [
    {
     "name": "stdout",
     "output_type": "stream",
     "text": [
      "Pokemon Defense Ranking\n",
      "Monster(name='Cloyster', index=90, attack=95, defense=180, speed=85, hitpoint=[50, 50], variety=['Water', 'Ice'])\n",
      "Monster(name='Onix', index=94, attack=45, defense=160, speed=30, hitpoint=[35, 35], variety=['Rock', 'Ground'])\n",
      "Monster(name='Golem', index=75, attack=110, defense=130, speed=55, hitpoint=[80, 80], variety=['Rock', 'Ground', 'Electric'])\n",
      "Monster(name='Omastar', index=138, attack=60, defense=125, speed=115, hitpoint=[70, 70], variety=['Rock', 'Water'])\n",
      "Monster(name='Weezing', index=109, attack=90, defense=120, speed=85, hitpoint=[65, 65], variety=['Poison'])\n",
      "Monster(name='Rhydon', index=111, attack=130, defense=120, speed=45, hitpoint=[105, 105], variety=['Ground', 'Rock'])\n",
      "Monster(name='Graveler', index=74, attack=95, defense=115, speed=45, hitpoint=[55, 55], variety=['Rock', 'Ground', 'Electric'])\n",
      "Monster(name='Kingler', index=98, attack=130, defense=115, speed=50, hitpoint=[55, 55], variety=['Water'])\n",
      "Monster(name='Tangela', index=113, attack=55, defense=115, speed=100, hitpoint=[65, 65], variety=['Grass'])\n",
      "Monster(name='Sandslash', index=27, attack=100, defense=110, speed=55, hitpoint=[75, 75], variety=['Ground', 'Steel'])\n"
     ]
    }
   ],
   "source": [
    "print(\"Pokemon Defense Ranking\")\n",
    "defense_ranking = np.argsort([p.defense for p in pokeList])[::-1]\n",
    "for p in defense_ranking[:10]:\n",
    "    print(pokeList[p])"
   ]
  },
  {
   "cell_type": "code",
   "execution_count": 13,
   "metadata": {},
   "outputs": [
    {
     "name": "stdout",
     "output_type": "stream",
     "text": [
      "Pokemon Attack Ranking\n",
      "Monster(name='Dragonite', index=148, attack=134, defense=95, speed=100, hitpoint=[91, 91], variety=['Dragon', 'Flying'])\n",
      "Monster(name='Rhydon', index=111, attack=130, defense=120, speed=45, hitpoint=[105, 105], variety=['Ground', 'Rock'])\n",
      "Monster(name='Kingler', index=98, attack=130, defense=115, speed=50, hitpoint=[55, 55], variety=['Water'])\n",
      "Monster(name='Machamp', index=67, attack=130, defense=80, speed=65, hitpoint=[90, 90], variety=['Fighting'])\n",
      "Monster(name='Flareon', index=135, attack=130, defense=60, speed=110, hitpoint=[65, 65], variety=['Fire'])\n",
      "Monster(name='Pinsir', index=126, attack=125, defense=100, speed=55, hitpoint=[65, 65], variety=['Bug'])\n",
      "Monster(name='Gyarados', index=129, attack=125, defense=79, speed=100, hitpoint=[95, 95], variety=['Water', 'Flying'])\n",
      "Monster(name='Hitmonlee', index=105, attack=120, defense=53, speed=35, hitpoint=[50, 50], variety=['Fighting'])\n",
      "Monster(name='Kabutops', index=140, attack=115, defense=105, speed=70, hitpoint=[60, 60], variety=['Rock', 'Water'])\n",
      "Monster(name='Golem', index=75, attack=110, defense=130, speed=55, hitpoint=[80, 80], variety=['Rock', 'Ground', 'Electric'])\n"
     ]
    }
   ],
   "source": [
    "print(\"Pokemon Attack Ranking\")\n",
    "attack_ranking = np.argsort([p.attack for p in pokeList])[::-1]\n",
    "for p in attack_ranking[:10]:\n",
    "    print(pokeList[p])"
   ]
  },
  {
   "cell_type": "code",
   "execution_count": 14,
   "metadata": {},
   "outputs": [
    {
     "data": {
      "text/plain": [
       "(array([74]),)"
      ]
     },
     "execution_count": 14,
     "metadata": {},
     "output_type": "execute_result"
    }
   ],
   "source": [
    "normal_result_id = normal_result.argsort()[::-1]\n",
    "np.where(normal_result_id == 94)"
   ]
  },
  {
   "cell_type": "code",
   "execution_count": 15,
   "metadata": {},
   "outputs": [
    {
     "data": {
      "text/plain": [
       "126"
      ]
     },
     "execution_count": 15,
     "metadata": {},
     "output_type": "execute_result"
    }
   ],
   "source": [
    "round(180 * 0.7)"
   ]
  },
  {
   "cell_type": "markdown",
   "metadata": {},
   "source": [
    "Effective pokemons should have attack > 126  \n",
    "Or who have varieties against Water and Ice are...\n",
    "- Grass\n",
    "- Electric\n",
    "- Fighting\n",
    "- Rock\n",
    "- Steel\n",
    "\n",
    "and have enough attack"
   ]
  },
  {
   "cell_type": "code",
   "execution_count": 16,
   "metadata": {},
   "outputs": [
    {
     "name": "stdout",
     "output_type": "stream",
     "text": [
      "# of Pokemons who can fight Cloyster: 49 / 151\n",
      "\n",
      "# of Pokemons who can give a damage to Cloyster: 24 / 151\n",
      "Monster(name='Venusaur', index=2, attack=82, defense=83, speed=100, hitpoint=[80, 80], variety=['Grass', 'Poison'])\n",
      "Monster(name='Raichu', index=25, attack=90, defense=55, speed=90, hitpoint=[60, 60], variety=['Electric', 'Psychic'])\n",
      "Monster(name='Sandslash', index=27, attack=100, defense=110, speed=55, hitpoint=[75, 75], variety=['Ground', 'Steel'])\n",
      "Monster(name='Parasect', index=46, attack=95, defense=80, speed=80, hitpoint=[60, 60], variety=['Bug', 'Grass'])\n",
      "Monster(name='Primeape', index=56, attack=105, defense=60, speed=60, hitpoint=[65, 65], variety=['Fighting'])\n",
      "Monster(name='Poliwrath', index=61, attack=85, defense=95, speed=70, hitpoint=[90, 90], variety=['Water', 'Fighting'])\n",
      "Monster(name='Machoke', index=66, attack=100, defense=70, speed=50, hitpoint=[80, 80], variety=['Fighting'])\n",
      "Monster(name='Machamp', index=67, attack=130, defense=80, speed=65, hitpoint=[90, 90], variety=['Fighting'])\n",
      "Monster(name='Weepinbell', index=69, attack=90, defense=50, speed=85, hitpoint=[65, 65], variety=['Grass', 'Poison'])\n",
      "Monster(name='Victreebel', index=70, attack=105, defense=65, speed=100, hitpoint=[80, 80], variety=['Grass', 'Poison'])\n",
      "Monster(name='Graveler', index=74, attack=95, defense=115, speed=45, hitpoint=[55, 55], variety=['Rock', 'Ground', 'Electric'])\n",
      "Monster(name='Golem', index=75, attack=110, defense=130, speed=55, hitpoint=[80, 80], variety=['Rock', 'Ground', 'Electric'])\n",
      "Monster(name='Kingler', index=98, attack=130, defense=115, speed=50, hitpoint=[55, 55], variety=['Water'])\n",
      "Monster(name='Exeggutor', index=102, attack=95, defense=85, speed=125, hitpoint=[95, 95], variety=['Grass', 'Psychic', 'Dragon'])\n",
      "Monster(name='Hitmonlee', index=105, attack=120, defense=53, speed=35, hitpoint=[50, 50], variety=['Fighting'])\n",
      "Monster(name='Hitmonchan', index=106, attack=105, defense=79, speed=35, hitpoint=[50, 50], variety=['Fighting'])\n",
      "Monster(name='Rhyhorn', index=110, attack=85, defense=95, speed=30, hitpoint=[80, 80], variety=['Ground', 'Rock'])\n",
      "Monster(name='Rhydon', index=111, attack=130, defense=120, speed=45, hitpoint=[105, 105], variety=['Ground', 'Rock'])\n",
      "Monster(name='Electabuzz', index=124, attack=83, defense=57, speed=85, hitpoint=[65, 65], variety=['Electric'])\n",
      "Monster(name='Flareon', index=135, attack=130, defense=60, speed=110, hitpoint=[65, 65], variety=['Fire'])\n",
      "Monster(name='Kabutops', index=140, attack=115, defense=105, speed=70, hitpoint=[60, 60], variety=['Rock', 'Water'])\n",
      "Monster(name='Aerodactyl', index=141, attack=105, defense=65, speed=60, hitpoint=[80, 80], variety=['Rock', 'Flying'])\n",
      "Monster(name='Zapdos', index=144, attack=90, defense=85, speed=125, hitpoint=[90, 90], variety=['Electric', 'Flying'])\n",
      "Monster(name='Dragonite', index=148, attack=134, defense=95, speed=100, hitpoint=[91, 91], variety=['Dragon', 'Flying'])\n"
     ]
    }
   ],
   "source": [
    "effective_varieties = ['Grass', 'Electric', 'Fighting', 'Rock', 'Steel']\n",
    "effective_pokeList = [p for p in pokeList if np.any([v in p.variety for v in effective_varieties]) or p.attack > 126]\n",
    "print(\"# of Pokemons who can fight Cloyster:\", len(effective_pokeList), \"/\", len(pokeList))\n",
    "\n",
    "winnable_pokeList = [p for p in effective_pokeList if p.attack * 1.3 * 1.2 > 180 * 0.7]\n",
    "print(\"\\n# of Pokemons who can give a damage to Cloyster:\", len(winnable_pokeList), \"/\", len(pokeList))\n",
    "\n",
    "for p in winnable_pokeList:\n",
    "    print(p)"
   ]
  },
  {
   "cell_type": "code",
   "execution_count": 17,
   "metadata": {},
   "outputs": [
    {
     "name": "stdout",
     "output_type": "stream",
     "text": [
      "Challenger Rhydon Win Rate: 745/1000\n",
      "Challenger Machamp Win Rate: 455/1000\n",
      "Challenger Golem Win Rate: 117/1000\n",
      "Challenger Dragonite Win Rate: 36/1000\n",
      "Challenger Victreebel Win Rate: 2/1000\n",
      "Challenger Hitmonlee Win Rate: 1/1000\n",
      "Challenger Primeape Win Rate: 1/1000\n",
      "Challenger Weepinbell Win Rate: 0/1000\n",
      "Challenger Raichu Win Rate: 0/1000\n",
      "Challenger Sandslash Win Rate: 0/1000\n",
      "Challenger Parasect Win Rate: 0/1000\n",
      "Challenger Poliwrath Win Rate: 0/1000\n",
      "Challenger Machoke Win Rate: 0/1000\n",
      "Challenger Aerodactyl Win Rate: 0/1000\n",
      "Challenger Flareon Win Rate: 0/1000\n",
      "Challenger Electabuzz Win Rate: 0/1000\n",
      "Challenger Graveler Win Rate: 0/1000\n",
      "Challenger Zapdos Win Rate: 0/1000\n",
      "Challenger Kingler Win Rate: 0/1000\n",
      "Challenger Exeggutor Win Rate: 0/1000\n",
      "Challenger Hitmonchan Win Rate: 0/1000\n",
      "Challenger Rhyhorn Win Rate: 0/1000\n",
      "Challenger Kabutops Win Rate: 0/1000\n",
      "Challenger Venusaur Win Rate: 0/1000\n"
     ]
    }
   ],
   "source": [
    "K = 1000\n",
    "cloyster = pokedex[\"Cloyster\"]\n",
    "challengers = winnable_pokeList\n",
    "\n",
    "win_rates = []\n",
    "for challenger in challengers:\n",
    "    beat = 0\n",
    "    for i in range(K):\n",
    "        result = pf.battle(cloyster, challenger)\n",
    "        if result == 1: beat += 1\n",
    "    win_rates.append([challenger, beat])\n",
    "win_rates = np.array(win_rates)\n",
    "    \n",
    "ranking = win_rates[np.argsort(np.array(win_rates)[:, 1])][::-1]\n",
    "for challenger, beat in ranking:\n",
    "    print(f\"Challenger {challenger.name} Win Rate: {beat}/{K}\")"
   ]
  },
  {
   "cell_type": "markdown",
   "metadata": {},
   "source": [
    "この結果からわかるように，パルシェンにはサイドンをぶつけるのが有効である．  \n",
    "ちなみにSpeedBattleのようにパラメータで勝負させるとみんな負ける．"
   ]
  },
  {
   "cell_type": "markdown",
   "metadata": {},
   "source": [
    "## ポケモンチーム戦\n",
    "前提\n",
    "- 1チームは6匹のポケモンで構成される\n",
    "- 勝ったポケモンが次のポケモンと戦う\n",
    "- 引き分けの場合，両者敗北とし，それぞれ次のポケモンを戦わせる\n",
    "- 先に相手のポケモン全員に勝った方の勝ち\n",
    "\n",
    "制約\n",
    "- 同じポケモンを編成可能かどうか\n",
    "- 相手のチームがわかっているか"
   ]
  },
  {
   "cell_type": "code",
   "execution_count": 18,
   "metadata": {},
   "outputs": [],
   "source": [
    "def TeamBattle(team1, team2, k=1, battle=pf.battle, verbose=False):\n",
    "    team_pokemon_num = 6\n",
    "    \n",
    "    # reset HP\n",
    "    for p in range(team_pokemon_num):\n",
    "        pf.ResetHP(team1[p])\n",
    "        pf.ResetHP(team2[p])\n",
    "    \n",
    "    if verbose:\n",
    "        print(\"\\n======== Team Battle =======\\n\")\n",
    "        print(\"Team1\")\n",
    "        for p in range(team_pokemon_num): print(team1[p])\n",
    "        print()\n",
    "        print(\"Team2\")\n",
    "        for p in range(team_pokemon_num): print(team2[p])\n",
    "        print()\n",
    "    \n",
    "    team1_win = 0\n",
    "    team2_win = 0\n",
    "    \n",
    "    for i in range(k):\n",
    "        if verbose:\n",
    "            print(f\"\\n======= Battle {i + 1} =======\\n\")\n",
    "        \n",
    "        # reset HP\n",
    "        for p in range(team_pokemon_num):\n",
    "            pf.ResetHP(team1[p])\n",
    "            pf.ResetHP(team2[p])\n",
    "        \n",
    "        team1_remain = team_pokemon_num\n",
    "        team2_remain = team_pokemon_num\n",
    "        \n",
    "        # Team Battle Start\n",
    "        while team1_remain > 0 and team2_remain > 0:\n",
    "            p1 = team1[-team1_remain]\n",
    "            p2 = team2[-team2_remain]\n",
    "            \n",
    "            if verbose:\n",
    "                print(f\"{p1.name} vs {p2.name}\")\n",
    "                print(p1)\n",
    "                print(p2)\n",
    "            \n",
    "            result = battle(p1, p2, resetHP=False)\n",
    "            if result == 0: \n",
    "                team2_remain -= 1\n",
    "                if verbose:\n",
    "                    print(f\"{p1.name} win\")\n",
    "            elif result == 1: \n",
    "                team1_remain -= 1\n",
    "                if verbose:\n",
    "                    print(f\"{p2.name} win\")\n",
    "            else:\n",
    "                team1_remain -=1\n",
    "                team2_remain -=1\n",
    "                if verbose:\n",
    "                    print(\"Draw\")\n",
    "            \n",
    "            if verbose:\n",
    "                print(f\"Team1 remain: {team1_remain}\")\n",
    "                print(f\"Team2 remain: {team2_remain}\")\n",
    "                print()\n",
    "        \n",
    "        if team1_remain > team2_remain:\n",
    "            team1_win += 1\n",
    "            if verbose: print(\"Team1 win\")\n",
    "        elif team1_remain < team2_remain:\n",
    "            team2_win += 1\n",
    "            if verbose: print(\"Team2 win\")\n",
    "        else :\n",
    "            if verbose: print(\"Draw\")\n",
    "    \n",
    "    return (team1_win, team2_win)"
   ]
  },
  {
   "cell_type": "code",
   "execution_count": 19,
   "metadata": {
    "scrolled": true
   },
   "outputs": [
    {
     "data": {
      "text/plain": [
       "(57, 43)"
      ]
     },
     "execution_count": 19,
     "metadata": {},
     "output_type": "execute_result"
    }
   ],
   "source": [
    "team1 = [pokeList[p] for p in np.random.randint(0, len(pokeList),6)]\n",
    "team2 = [pokeList[p] for p in np.random.randint(0, len(pokeList),6)]\n",
    "\n",
    "TeamBattle(team1, team2, k=100, verbose=False)"
   ]
  },
  {
   "cell_type": "markdown",
   "metadata": {},
   "source": [
    "TeamBattleができるようになったところで最強チームを決めたい．  \n",
    "とりあえず最強チームは総当たりランキング上位6匹にしてみる"
   ]
  },
  {
   "cell_type": "code",
   "execution_count": 20,
   "metadata": {},
   "outputs": [],
   "source": [
    "strongest_team = [pokeList[p] for p in normal_result.argsort()[::-1][:6]]"
   ]
  },
  {
   "cell_type": "markdown",
   "metadata": {},
   "source": [
    "こいつがどれだけ他のチームより強いか確かめたいが，チームの組み合わせは100兆を超えるので，総当たりは現実的でない．  \n",
    "組み合わせでも100億=10^10"
   ]
  },
  {
   "cell_type": "code",
   "execution_count": 21,
   "metadata": {},
   "outputs": [
    {
     "data": {
      "text/plain": [
       "11853911588401"
      ]
     },
     "execution_count": 21,
     "metadata": {},
     "output_type": "execute_result"
    }
   ],
   "source": [
    "from itertools import permutations\n",
    "all_teams = permutations(range(len(pokeList)), r=6)\n",
    "151 ** 6"
   ]
  },
  {
   "cell_type": "markdown",
   "metadata": {},
   "source": [
    "組み合わせだと100億=10^10  \n",
    "これも現実的でない"
   ]
  },
  {
   "cell_type": "code",
   "execution_count": 24,
   "metadata": {},
   "outputs": [
    {
     "data": {
      "text/plain": [
       "14888600755.0"
      ]
     },
     "execution_count": 24,
     "metadata": {},
     "output_type": "execute_result"
    }
   ],
   "source": [
    "from itertools import combinations\n",
    "all_teams = combinations(range(len(pokeList)), r=1)\n",
    "151*150*149*148*147*146 / (6*5*4*3*2)"
   ]
  }
 ],
 "metadata": {
  "kernelspec": {
   "display_name": "Python 3",
   "language": "python",
   "name": "python3"
  },
  "language_info": {
   "codemirror_mode": {
    "name": "ipython",
    "version": 3
   },
   "file_extension": ".py",
   "mimetype": "text/x-python",
   "name": "python",
   "nbconvert_exporter": "python",
   "pygments_lexer": "ipython3",
   "version": "3.7.0"
  }
 },
 "nbformat": 4,
 "nbformat_minor": 2
}
