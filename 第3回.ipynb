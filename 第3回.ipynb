{
 "cells": [
  {
   "cell_type": "code",
   "execution_count": 11,
   "metadata": {},
   "outputs": [],
   "source": [
    "from lesson3Code.pokemonTournament.pokemonDef import Monster,superEffective,notEffective,noEffect\n",
    "import lesson3Code.pokemonTournament.pokemonFunctions as pf\n",
    "import sys, random, time, math, pickle, pdb\n",
    "import numpy as np\n",
    "\n",
    "import matplotlib.pyplot as plt\n",
    "%matplotlib inline"
   ]
  },
  {
   "cell_type": "markdown",
   "metadata": {},
   "source": [
    "Modelling\n",
    "- first hour\n",
    "    - experimentral alg\n",
    "    - pipeline\n",
    "    - examples\n",
    "    - homework\n",
    "- second hour\n",
    "    - pokemon\n",
    "    - intro I.P"
   ]
  },
  {
   "cell_type": "markdown",
   "metadata": {},
   "source": [
    "ゴール： 現実的な問題をコンピュータの能力内で解く  \n",
    "JEA SEAなどのコミュニティサイトがある.  \n",
    "論文をまとめてあるサイト？gatech?なども使える．  \n",
    "アルゴリズムを論文に乗せるのに大事なこと，実験に大事なこと？  \n",
    "コードを見せることではなく，問題がなんなのか，その解法の長所と短所はなんなのか，にたいする洞察を示すことが大事である．  "
   ]
  },
  {
   "cell_type": "markdown",
   "metadata": {},
   "source": [
    "# EA pipeline Step  \n",
    "<br>\n",
    "<div style=\"text-align:center\">problem(client) -> formalization -> algorithm design -> implementation -> experimentation</div>\n",
    "<br>\n",
    "この一連のステップそれぞれからPractical Insightを導き，さらにFeedbackを付け加える  \n",
    "homeworkはexperimentationの辺りから何か出される"
   ]
  },
  {
   "cell_type": "markdown",
   "metadata": {},
   "source": [
    "## Formalization\n",
    "needs storong mathematical foundations  \n",
    "理論上重要なことが実践では重要ではないことがある．  \n",
    "Bias filtering vs Approximation algorithm"
   ]
  },
  {
   "cell_type": "markdown",
   "metadata": {},
   "source": [
    "## Algorithm design\n",
    "どんな点でBest solutionなのか?(最適解を出せるのか，早いのか)  \n",
    "実装時に発生する問題を考慮してデザインすることが大事"
   ]
  },
  {
   "cell_type": "markdown",
   "metadata": {},
   "source": [
    "## Implementation\n",
    "Programming language, team, task distribution...  \n",
    "専門知識なしで，誰が実装しても良いようにしたい．  \n",
    "実装時間 vs 実行時間"
   ]
  },
  {
   "cell_type": "markdown",
   "metadata": {},
   "source": [
    "## Experiments\n",
    "実験の設計(何をどうやって測定するのか)を定める  \n",
    "実験時の「バイアス」に注意する  \n",
    "- 認証バイアス(confirmation bias)世の中で正しいとされているもの，正しいと自分が信じているものを正しいとしてしまうこと\n",
    "- 文化バイアス(culture bias)メディアなど？"
   ]
  },
  {
   "cell_type": "markdown",
   "metadata": {},
   "source": [
    "## Insight\n",
    "- 洞察の種類(問題，アプローチ)\n",
    "    - 結果の解釈\n",
    "    - 仮説検証\n",
    "- SOFT skills"
   ]
  },
  {
   "cell_type": "markdown",
   "metadata": {},
   "source": [
    "# Practical Examples\n",
    "- road network matching\n",
    "- medical image analysis\n",
    "- 3D point set residues"
   ]
  },
  {
   "cell_type": "markdown",
   "metadata": {},
   "source": [
    "## Road network matching\n",
    "地図の一部がどこのものであるかを調べる  \n",
    "交差点と交差点への彩色問題によって，$O(n^4 n'^{3} \\log n')$で解ける. YAGO先生の論文より"
   ]
  },
  {
   "cell_type": "markdown",
   "metadata": {},
   "source": [
    "## Medical Image Analysis"
   ]
  },
  {
   "cell_type": "markdown",
   "metadata": {},
   "source": [
    "## 3D Point Cloud Matching\n",
    "複数の角度から撮ったうさぎの3Dモデルができるって話  \n",
    "最低3つの同じ位置にある点を見つける必要がある．  $O(n^6)$  \n",
    "最新では$O(n^2)$くらい？\n",
    "最悪計算量のオーダが多くても，現実のデータで例えば全てのなんらかの対象となるピクセルがある領域に固まっていることはないなどの仮定を置けば有用なアルゴリズムとなる．"
   ]
  },
  {
   "cell_type": "markdown",
   "metadata": {},
   "source": []
  },
  {
   "cell_type": "markdown",
   "metadata": {},
   "source": [
    "# Toy Problem\n",
    "which is the strongest Pokemon?\n",
    "Formalization\n",
    "- how many pokemon are there?\n",
    "    251? FIRST GENERATION Pokemons.\n",
    "- what does \"strong\" mean?\n",
    "    winners of Combats\n",
    "- read bibliograohy\n",
    "    - 参考：https://hubpages.com/entertainment/Top-10-Strongest-First-Generation-Pokemons"
   ]
  },
  {
   "cell_type": "markdown",
   "metadata": {},
   "source": [
    "Algorithm design\n",
    "- combat system はユーザのコマンドを必要とする\n",
    "- タイプシステム\n",
    "- Moves can be developed using points during the game\n",
    "- Official codeを入手することはできない"
   ]
  },
  {
   "cell_type": "markdown",
   "metadata": {},
   "source": [
    "## Implementation\n",
    "easy to implement  \n",
    "no money  \n",
    "python  "
   ]
  },
  {
   "cell_type": "markdown",
   "metadata": {},
   "source": [
    "Home work\n",
    "1. review the python code, feel free to improve it.\n",
    "2. design experiment(s) to find out the stronger pokemon and pokemon team\n",
    "    team: 6 pokemon, 1匹ずつ戦い，勝ったほうが次のポケモンと戦う\n",
    "3. Report\n",
    "    - results/comments insight!\n",
    "    - Given the restrictions, how would you improve the process(Formalization, design, implementation)\n",
    "    - restrictionsがなければどうやってimproveするか？\n",
    "    - 結果は予想どうりのものか？そうでなければ何が問題だったのか\n",
    "    - もうなんかよくわかんないので，最強のポケモンとポケモンチームを得るために何をやったのかまとめて，あと最後にちょっとした考察を付け加えることにする"
   ]
  },
  {
   "cell_type": "markdown",
   "metadata": {},
   "source": [
    "# Preparation"
   ]
  },
  {
   "cell_type": "code",
   "execution_count": 3,
   "metadata": {},
   "outputs": [],
   "source": [
    "listOfNamesAndTypes=pf.readPokemonTypesFromFile(\"lesson3Code/pokemonTournament/listOfPokemon1.txt\")\n",
    "pokeList=pf.readPokemonListFromFile(\"lesson3Code/pokemonTournament/listOfPokemon2.txt\")\n",
    "\n",
    "pokedex={}\n",
    "for monster in pokeList:\n",
    "    pokedex[monster.name]=monster\n",
    "\n",
    "for name,listOfTypes in listOfNamesAndTypes:\n",
    "    for t in listOfTypes:\n",
    "        pokedex[name].variety.append(t)"
   ]
  },
  {
   "cell_type": "markdown",
   "metadata": {},
   "source": [
    "# Who is the strongest Pokemon?\n",
    "とりあえず思いつくのは総当たり戦をして，勝った回数が一番多いやつが強い  \n",
    "(より早くしたいならランダムリーグ戦をやらせるという手もあるが，これは最強とは言えず，またポケモンの数がそんなに多くないので総当たりで正確性を求めても問題ない．)"
   ]
  },
  {
   "cell_type": "code",
   "execution_count": 4,
   "metadata": {},
   "outputs": [
    {
     "name": "stdout",
     "output_type": "stream",
     "text": [
      "[1 3 3]\n",
      "1\n",
      "[0 1 2]\n",
      "[2 1 0]\n",
      "[0 2 1]\n"
     ]
    }
   ],
   "source": [
    "# Numpy arrayの各行に名前を付ける練習\n",
    "a = np.array([(1,3), (3,2), (3,1)], dtype=[('x', 'i'), ('y', 'i')])\n",
    "print(a['x'])\n",
    "print(a['x'].argmax())\n",
    "print(a['x'].argsort())\n",
    "print(a['y'].argsort())\n",
    "print(a.argsort(order=['x', 'y'])) # sort by x then y"
   ]
  },
  {
   "cell_type": "code",
   "execution_count": 20,
   "metadata": {},
   "outputs": [
    {
     "data": {
      "text/plain": [
       "array([0, 0, 0, 0, 0, 0, 0, 0, 0, 0], dtype=int32)"
      ]
     },
     "execution_count": 20,
     "metadata": {},
     "output_type": "execute_result"
    }
   ],
   "source": [
    "z = np.zeros(10, dtype=[('w','i'), ('l', 'i'), ('d', 'i')])\n",
    "z['w']"
   ]
  },
  {
   "cell_type": "code",
   "execution_count": 22,
   "metadata": {},
   "outputs": [],
   "source": [
    "def SingleRoundRobinExperiment(p, enemy_list=pokeList, k=1, battle=pf.battle, skip_same=False, verbose=False):\n",
    "    results = np.zeros(len(enemy_list), dtype=[('w','i'), ('l', 'i'), ('d', 'i')]) # win, loss, draw\n",
    "    for idx, enemy in enumerate(enemy_list):\n",
    "        if skip_same and p.name == enemy.name: continue\n",
    "        for i in range(k):\n",
    "            result = battle(p, enemy)\n",
    "            if result == 0: results[idx]['w'] += 1\n",
    "            elif result == 1: results[idx]['l'] += 1\n",
    "            else: results[idx]['d'] += 1\n",
    "    return results"
   ]
  },
  {
   "cell_type": "code",
   "execution_count": 23,
   "metadata": {},
   "outputs": [],
   "source": [
    "def RoundRobinExperiment(k=1, battle=pf.battle, verbose=False):\n",
    "    get_result = lambda p: SingleRoundRobinExperiment(p, k=k, battle=battle, verbose=verbose)\n",
    "    results = np.array([get_result(p) for p in pokeList]) # battles results win-loss-draw, the indices represents pokemon indices\n",
    "\n",
    "    if verbose:\n",
    "        ranking = results['w'].sum(axis=0).argsort()\n",
    "        strongest = pokeList[ranking[0]]\n",
    "        print(\"The strongest pokemon is\", strongest.name, \"id:\", strongest.index)\n",
    "        print(\"The strongest pokemon parameter\", strongest)\n",
    "        print(\"Strongest Pokemon Top 10\")\n",
    "        for i in ranking[:10]:\n",
    "            print(pokeList[i])\n",
    "    \n",
    "    return results"
   ]
  },
  {
   "cell_type": "markdown",
   "metadata": {},
   "source": [
    "総当たり: $O(n^2)$  \n",
    "$K$回の総当たり: $O(Kn^2)$  \n",
    "この場合は，「あるポケモンが自分より弱いポケモンが何種類いるか」が強さの基準になっている．  \n",
    "- 長所\n",
    "    - ポケモンの能力値がわからなくても強さを測定できる．\n",
    "    - 実装が簡単である\n",
    "- 短所\n",
    "    - 時間がかかる\n",
    "    - Combat Systemに乱数(一様分布)が利用されているため,実験の度に結果が変わる\n",
    "        - 何回繰り返したところで最強とは限らない"
   ]
  },
  {
   "cell_type": "code",
   "execution_count": 60,
   "metadata": {},
   "outputs": [
    {
     "name": "stdout",
     "output_type": "stream",
     "text": [
      "The strongest pokemon is Cloyster id: 90\n",
      "The strongest pokemon parameter Monster(name='Cloyster', index=90, attack=95, defense=180, speed=85, hitpoint=[50, 50], variety=['Water', 'Ice'])\n",
      "Strongest Pokemon Top 10\n",
      "Monster(name='Cloyster', index=90, attack=95, defense=180, speed=85, hitpoint=[50, 50], variety=['Water', 'Ice'])\n",
      "Monster(name='Dragonite', index=148, attack=134, defense=95, speed=100, hitpoint=[91, 74], variety=['Dragon', 'Flying'])\n",
      "Monster(name='Rhydon', index=111, attack=130, defense=120, speed=45, hitpoint=[105, 100], variety=['Ground', 'Rock'])\n",
      "Monster(name='Kingler', index=98, attack=130, defense=115, speed=50, hitpoint=[55, 55], variety=['Water'])\n",
      "Monster(name='Golem', index=75, attack=110, defense=130, speed=55, hitpoint=[80, 73], variety=['Rock', 'Ground', 'Electric'])\n",
      "Monster(name='Gyarados', index=129, attack=125, defense=79, speed=100, hitpoint=[95, -3], variety=['Water', 'Flying'])\n",
      "Monster(name='Mewtwo', index=149, attack=110, defense=90, speed=154, hitpoint=[106, 74], variety=['Psychic'])\n",
      "Monster(name='Mew', index=150, attack=100, defense=100, speed=100, hitpoint=[100, -3], variety=['Psychic'])\n",
      "Monster(name='Zapdos', index=144, attack=90, defense=85, speed=125, hitpoint=[90, -4], variety=['Electric', 'Flying'])\n",
      "Monster(name='Kabutops', index=140, attack=115, defense=105, speed=70, hitpoint=[60, 22], variety=['Rock', 'Water'])\n"
     ]
    }
   ],
   "source": [
    "K = 100\n",
    "\n",
    "try:\n",
    "    raise Exception # For creating new pickle data\n",
    "    with open('data/normal_result.pkl', 'rb') as f:\n",
    "        normal_result = pickle.load(f)\n",
    "        print('normal result is loaded from the pickle file')\n",
    "except:\n",
    "    normal_result = RoundRobinExperiment(K, verbose=True)\n",
    "    with open('data/normal_result.pkl', mode='wb') as f:\n",
    "        pickle.dump(normal_result, f)\n",
    "finally:\n",
    "    normal_ranking = [pokeList[p] for p in normal_result['w'].sum(axis=0).argsort()]"
   ]
  },
  {
   "cell_type": "markdown",
   "metadata": {},
   "source": [
    "## Speed Battle\n",
    "pf.battleは遅い．  \n",
    "総当たりで時間がかかっているところを見たら，ダメージ0を与えあっているやつらが1000ターン消費してdrawになっていた．  \n",
    "なのでmax_roundは100にしておいた．  \n",
    "それでも，パラメータだけを見ればバトルの結果がおおよそわからないだろうか  \n",
    "そこで，乱数による変動値を期待値に置き換え，理論上何ターン生き残れるかの差で勝負を決めさせてみる"
   ]
  },
  {
   "cell_type": "markdown",
   "metadata": {},
   "source": [
    "Speed Battleは次の仮説に基づいて勝敗が決まる\n",
    "- 同じタイプの場合，攻撃力，防御力，HPで力関係の期待値がわかる\n",
    "    - 毎ターンそれぞれが対決\n",
    "    - 攻撃力と防御力の変動値は同じタイプであれば一様分布で決まる"
   ]
  },
  {
   "cell_type": "code",
   "execution_count": 69,
   "metadata": {},
   "outputs": [],
   "source": [
    "def SpeedBattle(p1, p2, resetHP=True, verbose=False):\n",
    "    effectiveness = 0.3\n",
    "    max_rounds = 1000\n",
    "    \n",
    "    if resetHP:\n",
    "        pf.ResetHP(p1)\n",
    "        pf.ResetHP(p2)\n",
    "    \n",
    "    if noEffect(p1, p2) and noEffect(p2, p1): return 2\n",
    "    elif noEffect(p1, p2): return 1\n",
    "    elif noEffect(p2, p1): return 0\n",
    "    \n",
    "    attackCenter1=1\n",
    "    if superEffective(p1, p2): attackCenter1+=effectiveness\n",
    "    elif notEffective(p1, p2): attackCenter1-=effectiveness\n",
    "\n",
    "    attackCenter2=1\n",
    "    if superEffective(p2, p1): attackCenter2+=effectiveness\n",
    "    elif notEffective(p2, p1): attackCenter2-=effectiveness\n",
    "    \n",
    "    get_damage1 = max(0, (round(p2.attack * attackCenter2) - round(p1.defense * 0.9)))\n",
    "    survive_rounds1 = (p1.hitpoint[1] / get_damage1) if get_damage1 > 0 else max_rounds\n",
    "        \n",
    "    get_damage2 = max(0, (round(p1.attack * attackCenter1) - round(p2.defense * 0.9)))\n",
    "    survive_rounds2 = (p2.hitpoint[1] / get_damage2) if get_damage2 > 0 else max_rounds\n",
    "        \n",
    "    if survive_rounds1 == survive_rounds2: \n",
    "        if survive_rounds1 == max_rounds: return 2\n",
    "        if p1.speed == p2.speed: return 2\n",
    "        return 0 if p1.speed > p2.speed else 1\n",
    "    \n",
    "    return 0 if survive_rounds1 > survive_rounds2 else 1"
   ]
  },
  {
   "cell_type": "code",
   "execution_count": 70,
   "metadata": {
    "scrolled": false
   },
   "outputs": [
    {
     "name": "stdout",
     "output_type": "stream",
     "text": [
      "The strongest pokemon is Cloyster id: 90\n",
      "The strongest pokemon parameter Monster(name='Cloyster', index=90, attack=95, defense=180, speed=85, hitpoint=[50, 50], variety=['Water', 'Ice'])\n",
      "Strongest Pokemon Top 10\n",
      "Monster(name='Cloyster', index=90, attack=95, defense=180, speed=85, hitpoint=[50, 50], variety=['Water', 'Ice'])\n",
      "Monster(name='Kingler', index=98, attack=130, defense=115, speed=50, hitpoint=[55, 55], variety=['Water'])\n",
      "Monster(name='Gyarados', index=129, attack=125, defense=79, speed=100, hitpoint=[95, 95], variety=['Water', 'Flying'])\n",
      "Monster(name='Dragonite', index=148, attack=134, defense=95, speed=100, hitpoint=[91, 91], variety=['Dragon', 'Flying'])\n",
      "Monster(name='Mew', index=150, attack=100, defense=100, speed=100, hitpoint=[100, 100], variety=['Psychic'])\n",
      "Monster(name='Mewtwo', index=149, attack=110, defense=90, speed=154, hitpoint=[106, 106], variety=['Psychic'])\n",
      "Monster(name='Slowbro', index=79, attack=75, defense=110, speed=80, hitpoint=[95, 95], variety=['Water', 'Psychic'])\n",
      "Monster(name='Weezing', index=109, attack=90, defense=120, speed=85, hitpoint=[65, 65], variety=['Poison'])\n",
      "Monster(name='Zapdos', index=144, attack=90, defense=85, speed=125, hitpoint=[90, 90], variety=['Electric', 'Flying'])\n",
      "Monster(name='Pinsir', index=126, attack=125, defense=100, speed=55, hitpoint=[65, 65], variety=['Bug'])\n"
     ]
    }
   ],
   "source": [
    "# The result is deterministic. So it is enough for k to be 1.\n",
    "speed_result = RoundRobinExperiment(battle=SpeedBattle, verbose=True)\n",
    "speed_ranking = [pokeList[p] for p in speed_result['w'].sum(axis=0).argsort()]"
   ]
  },
  {
   "cell_type": "markdown",
   "metadata": {},
   "source": [
    "どれくらい高速化できたのか？"
   ]
  },
  {
   "cell_type": "code",
   "execution_count": 71,
   "metadata": {},
   "outputs": [
    {
     "name": "stdout",
     "output_type": "stream",
     "text": [
      "Normal Battle Elapsed Time: 1.603743553161621\n",
      "Speed Battle Elapsed Time: 0.3001692295074463\n"
     ]
    }
   ],
   "source": [
    "startNormal = time.time()\n",
    "RoundRobinExperiment() # 8 sec when max round was 1000\n",
    "endNormal = time.time()\n",
    "print(\"Normal Battle Elapsed Time:\", endNormal - startNormal)\n",
    "\n",
    "startSpeed = time.time()\n",
    "RoundRobinExperiment(battle=SpeedBattle)\n",
    "endSpeed = time.time()\n",
    "print(\"Speed Battle Elapsed Time:\", endSpeed - startSpeed)"
   ]
  },
  {
   "cell_type": "markdown",
   "metadata": {},
   "source": [
    "大体5倍くらい早くなった．  \n",
    "max roundを1000にすれば20倍くらい違う．  \n",
    "では肝心の精度はどうだろうか？"
   ]
  },
  {
   "cell_type": "code",
   "execution_count": 72,
   "metadata": {
    "scrolled": false
   },
   "outputs": [
    {
     "name": "stdout",
     "output_type": "stream",
     "text": [
      "same places: 10 / 151\n"
     ]
    }
   ],
   "source": [
    "normal_ranking_id = np.array([p.index for p in normal_ranking]) \n",
    "speed_ranking_id = np.array([p.index for p in speed_ranking])\n",
    "same_places = normal_ranking_id == speed_ranking_id\n",
    "print(f\"same places: {sum(same_places)} / {len(same_places)}\")"
   ]
  },
  {
   "cell_type": "markdown",
   "metadata": {},
   "source": [
    "ピッタリ賞の数を調べてみると，ほとんど合っていない．  \n",
    "順位が同じ，という基準では少し厳しい気がするので，レーベンシュタイン距離を基準にしてみる．"
   ]
  },
  {
   "cell_type": "code",
   "execution_count": 42,
   "metadata": {},
   "outputs": [],
   "source": [
    "# Levenstein Distance by Dynamic Programming\n",
    "def LevensteinDistance(l1, l2):\n",
    "    len1 = len(l1) + 1\n",
    "    len2 = len(l2) + 1\n",
    "    \n",
    "    dp = np.zeros((len1, len2), dtype='i')\n",
    "    for row in range(len1): dp[row][0] = row\n",
    "    for col in range(len2): dp[0][col] = col\n",
    "        \n",
    "    for row in range(1, len1):\n",
    "        for col in range(1, len2):\n",
    "            c = 0 if l1[row-1] == l2[col-1] else 1\n",
    "            dp[row][col] = min(dp[row-1][col]+1, dp[row][col-1]+1, dp[row-1][col-1] + c)\n",
    "\n",
    "    return dp[-1][-1]"
   ]
  },
  {
   "cell_type": "code",
   "execution_count": 73,
   "metadata": {
    "scrolled": true
   },
   "outputs": [
    {
     "data": {
      "text/plain": [
       "120"
      ]
     },
     "execution_count": 73,
     "metadata": {},
     "output_type": "execute_result"
    }
   ],
   "source": [
    "LevensteinDistance(normal_ranking_id, speed_ranking_id)"
   ]
  },
  {
   "cell_type": "markdown",
   "metadata": {},
   "source": [
    "やってみたものの，レーベンシュタイン距離でもその成果はよくわからない．  \n",
    "次に，10位以内に入っているポケモンの組み合わせがどれだけ合っているかを調べてみる"
   ]
  },
  {
   "cell_type": "code",
   "execution_count": 74,
   "metadata": {},
   "outputs": [
    {
     "name": "stdout",
     "output_type": "stream",
     "text": [
      "========== Normal : Speed ==========\n",
      "Cloyster is IN the normal ranking top 10\n",
      "Kingler is IN the normal ranking top 10\n",
      "Gyarados is IN the normal ranking top 10\n",
      "Dragonite is IN the normal ranking top 10\n",
      "Mew is IN the normal ranking top 10\n",
      "Mewtwo is IN the normal ranking top 10\n",
      "Slowbro is out of normal ranking top 10\n",
      "Weezing is out of normal ranking top 10\n",
      "Zapdos is IN the normal ranking top 10\n",
      "Pinsir is out of normal ranking top 10\n"
     ]
    }
   ],
   "source": [
    "print(\"========== Normal : Speed ==========\")\n",
    "normal_top_10 = normal_ranking[:10]\n",
    "for p in speed_ranking[:10]:\n",
    "    print(f\"{p.name} is {'IN the' if p in normal_top_10 else 'out of'} normal ranking top 10\")"
   ]
  },
  {
   "cell_type": "markdown",
   "metadata": {},
   "source": [
    "7/10, 10位以内に入っているかどうかの基準では，結構よさそう．  \n",
    "<br>\n",
    "どうやら実際の順位とのズレはあまりなさそう．  \n",
    "実際の順位との距離の相場，すなわち順位の二乗誤差を取ってみる．  "
   ]
  },
  {
   "cell_type": "code",
   "execution_count": 75,
   "metadata": {},
   "outputs": [
    {
     "name": "stdout",
     "output_type": "stream",
     "text": [
      "Standard Rank Error: 9.194008990886582\n"
     ]
    }
   ],
   "source": [
    "def std_rank_error(ranking):\n",
    "    normal_ranking_list = list(normal_ranking)\n",
    "    ranking_error = []\n",
    "    for rank, p in enumerate(ranking):\n",
    "        ranking_error.append((normal_ranking_list.index(p) - rank) ** 2)\n",
    "\n",
    "    return math.sqrt(sum(ranking_error) / len(ranking_error))\n",
    "\n",
    "print(\"Standard Rank Error:\", std_rank_error(speed_ranking))"
   ]
  },
  {
   "cell_type": "markdown",
   "metadata": {},
   "source": [
    "順位のズレの相場は9位．結構大きい．"
   ]
  },
  {
   "cell_type": "code",
   "execution_count": 83,
   "metadata": {},
   "outputs": [
    {
     "name": "stdout",
     "output_type": "stream",
     "text": [
      "Standard Rank Error Over Mid: 11.026634421557045\n",
      "Standard Rank Error Under Mid: 75.12226875672683\n"
     ]
    }
   ],
   "source": [
    "print(\"Standard Rank Error Over Mid:\", std_rank_error(speed_ranking[:75]))\n",
    "print(\"Standard Rank Error Under Mid:\", std_rank_error(speed_ranking[75:]))"
   ]
  },
  {
   "cell_type": "code",
   "execution_count": 88,
   "metadata": {},
   "outputs": [
    {
     "data": {
      "image/png": "[encoded data removed]",
      "text/plain": [
       "<Figure size 432x288 with 1 Axes>"
      ]
     },
     "metadata": {
      "needs_background": "light"
     },
     "output_type": "display_data"
    }
   ],
   "source": [
    "x = range(1, len(pokeList) + 1)\n",
    "y = [std_rank_error(speed_ranking[:r]) for r in x]\n",
    "plt.plot(x,y)\n",
    "plt.title(\"Standard Rank Error(SRE) Increases in Mid-Low Rank Monsters Area\")\n",
    "plt.xlabel(\"Rank Threshold(Calculate SRE until rank x)\")\n",
    "plt.ylabel(\"SRE\")\n",
    "plt.show()"
   ]
  },
  {
   "cell_type": "markdown",
   "metadata": {},
   "source": [
    "このことから，順位の低いモンスターでSpeedバトルの結果がズレていることが分かる．  \n",
    "そもそも弱いポケモンは運で勝敗が決まるため，順位が前後しやすい．  \n",
    "一方で．強いポケモンはその地位を保ち続けやすいことが分かる．  \n",
    "つまり，最弱王決定戦をSpeedBattleでやろうとするとなかなか正しい答えは出にくいが，最強決定戦をSpeedBattleでやっても誤差は出にくいということが分かる．  \n",
    "SpeedBattleを行ううえではこういった性質を理解しておくと良い．"
   ]
  },
  {
   "cell_type": "markdown",
   "metadata": {},
   "source": [
    "# Why Cloyster is so strong?\n",
    "Let us check the status of Cloyster."
   ]
  },
  {
   "cell_type": "code",
   "execution_count": 89,
   "metadata": {},
   "outputs": [
    {
     "name": "stdout",
     "output_type": "stream",
     "text": [
      "Monster(name='Cloyster', index=90, attack=95, defense=180, speed=85, hitpoint=[50, 50], variety=['Water', 'Ice'])\n",
      "Enemy of Cloyster at leaste needs to be SuperEffective variety, because max_attack * 1.2 =  160.79999999999998 < 180\n"
     ]
    }
   ],
   "source": [
    "strongest = normal_ranking[0]\n",
    "print(strongest)\n",
    "\n",
    "max_attack = max([p.attack for p in pokeList])\n",
    "\n",
    "print(\"Enemy of Cloyster at leaste needs to be SuperEffective variety, because max_attack * 1.2 = \", max_attack * 1.2, \"<\", strongest.defense)"
   ]
  },
  {
   "cell_type": "code",
   "execution_count": 90,
   "metadata": {},
   "outputs": [
    {
     "name": "stdout",
     "output_type": "stream",
     "text": [
      "Pokemon Defense Ranking\n",
      "Monster(name='Cloyster', index=90, attack=95, defense=180, speed=85, hitpoint=[50, 50], variety=['Water', 'Ice'])\n",
      "Monster(name='Onix', index=94, attack=45, defense=160, speed=30, hitpoint=[35, 35], variety=['Rock', 'Ground'])\n",
      "Monster(name='Golem', index=75, attack=110, defense=130, speed=55, hitpoint=[80, 80], variety=['Rock', 'Ground', 'Electric'])\n",
      "Monster(name='Omastar', index=138, attack=60, defense=125, speed=115, hitpoint=[70, 70], variety=['Rock', 'Water'])\n",
      "Monster(name='Weezing', index=109, attack=90, defense=120, speed=85, hitpoint=[65, 65], variety=['Poison'])\n",
      "Monster(name='Rhydon', index=111, attack=130, defense=120, speed=45, hitpoint=[105, 105], variety=['Ground', 'Rock'])\n",
      "Monster(name='Graveler', index=74, attack=95, defense=115, speed=45, hitpoint=[55, 55], variety=['Rock', 'Ground', 'Electric'])\n",
      "Monster(name='Kingler', index=98, attack=130, defense=115, speed=50, hitpoint=[55, 55], variety=['Water'])\n",
      "Monster(name='Tangela', index=113, attack=55, defense=115, speed=100, hitpoint=[65, 65], variety=['Grass'])\n",
      "Monster(name='Sandslash', index=27, attack=100, defense=110, speed=55, hitpoint=[75, 75], variety=['Ground', 'Steel'])\n"
     ]
    }
   ],
   "source": [
    "print(\"Pokemon Defense Ranking\")\n",
    "defense_ranking = np.argsort([p.defense for p in pokeList])[::-1]\n",
    "for p in defense_ranking[:10]:\n",
    "    print(pokeList[p])"
   ]
  },
  {
   "cell_type": "code",
   "execution_count": 91,
   "metadata": {
    "scrolled": true
   },
   "outputs": [
    {
     "name": "stdout",
     "output_type": "stream",
     "text": [
      "Pokemon Attack Ranking\n",
      "Monster(name='Dragonite', index=148, attack=134, defense=95, speed=100, hitpoint=[91, 91], variety=['Dragon', 'Flying'])\n",
      "Monster(name='Rhydon', index=111, attack=130, defense=120, speed=45, hitpoint=[105, 105], variety=['Ground', 'Rock'])\n",
      "Monster(name='Kingler', index=98, attack=130, defense=115, speed=50, hitpoint=[55, 55], variety=['Water'])\n",
      "Monster(name='Machamp', index=67, attack=130, defense=80, speed=65, hitpoint=[90, 90], variety=['Fighting'])\n",
      "Monster(name='Flareon', index=135, attack=130, defense=60, speed=110, hitpoint=[65, 65], variety=['Fire'])\n",
      "Monster(name='Pinsir', index=126, attack=125, defense=100, speed=55, hitpoint=[65, 65], variety=['Bug'])\n",
      "Monster(name='Gyarados', index=129, attack=125, defense=79, speed=100, hitpoint=[95, 95], variety=['Water', 'Flying'])\n",
      "Monster(name='Hitmonlee', index=105, attack=120, defense=53, speed=35, hitpoint=[50, 50], variety=['Fighting'])\n",
      "Monster(name='Kabutops', index=140, attack=115, defense=105, speed=70, hitpoint=[60, 60], variety=['Rock', 'Water'])\n",
      "Monster(name='Golem', index=75, attack=110, defense=130, speed=55, hitpoint=[80, 80], variety=['Rock', 'Ground', 'Electric'])\n"
     ]
    }
   ],
   "source": [
    "print(\"Pokemon Attack Ranking\")\n",
    "attack_ranking = np.argsort([p.attack for p in pokeList])[::-1]\n",
    "for p in attack_ranking[:10]:\n",
    "    print(pokeList[p])"
   ]
  },
  {
   "cell_type": "markdown",
   "metadata": {},
   "source": [
    "そもそもCloysterの防御が強すぎて，攻撃を通せるやつがほとんどいないことが分かる．  \n",
    "<br>\n",
    "では，だれがCloysterに対抗できるのだろうか．  \n",
    "Cloysterに攻撃を通せる奴がどれだけいるかを調べてみる．  \n",
    "まずは最低どれだけの攻撃力が必要かを調べる．"
   ]
  },
  {
   "cell_type": "code",
   "execution_count": 95,
   "metadata": {},
   "outputs": [
    {
     "data": {
      "text/plain": [
       "126"
      ]
     },
     "execution_count": 95,
     "metadata": {},
     "output_type": "execute_result"
    }
   ],
   "source": [
    "round(180 * 0.7)"
   ]
  },
  {
   "cell_type": "markdown",
   "metadata": {},
   "source": [
    "Effective pokemons should have attack > 126  \n",
    "Or who have varieties against Water and Ice are...\n",
    "- Grass\n",
    "- Electric\n",
    "- Fighting\n",
    "- Rock\n",
    "- Steel\n",
    "\n",
    "and have enough attack"
   ]
  },
  {
   "cell_type": "code",
   "execution_count": 96,
   "metadata": {},
   "outputs": [
    {
     "name": "stdout",
     "output_type": "stream",
     "text": [
      "# of Pokemons who can fight Cloyster: 49 / 151\n",
      "\n",
      "# of Pokemons who can give a damage to Cloyster: 24 / 151\n",
      "Monster(name='Venusaur', index=2, attack=82, defense=83, speed=100, hitpoint=[80, 0], variety=['Grass', 'Poison'])\n",
      "Monster(name='Raichu', index=25, attack=90, defense=55, speed=90, hitpoint=[60, -36], variety=['Electric', 'Psychic'])\n",
      "Monster(name='Sandslash', index=27, attack=100, defense=110, speed=55, hitpoint=[75, -8], variety=['Ground', 'Steel'])\n",
      "Monster(name='Parasect', index=46, attack=95, defense=80, speed=80, hitpoint=[60, -23], variety=['Bug', 'Grass'])\n",
      "Monster(name='Primeape', index=56, attack=105, defense=60, speed=60, hitpoint=[65, -25], variety=['Fighting'])\n",
      "Monster(name='Poliwrath', index=61, attack=85, defense=95, speed=70, hitpoint=[90, 37], variety=['Water', 'Fighting'])\n",
      "Monster(name='Machoke', index=66, attack=100, defense=70, speed=50, hitpoint=[80, -5], variety=['Fighting'])\n",
      "Monster(name='Machamp', index=67, attack=130, defense=80, speed=65, hitpoint=[90, 19], variety=['Fighting'])\n",
      "Monster(name='Weepinbell', index=69, attack=90, defense=50, speed=85, hitpoint=[65, -11], variety=['Grass', 'Poison'])\n",
      "Monster(name='Victreebel', index=70, attack=105, defense=65, speed=100, hitpoint=[80, -32], variety=['Grass', 'Poison'])\n",
      "Monster(name='Graveler', index=74, attack=95, defense=115, speed=45, hitpoint=[55, -13], variety=['Rock', 'Ground', 'Electric'])\n",
      "Monster(name='Golem', index=75, attack=110, defense=130, speed=55, hitpoint=[80, -23], variety=['Rock', 'Ground', 'Electric'])\n",
      "Monster(name='Kingler', index=98, attack=130, defense=115, speed=50, hitpoint=[55, 53], variety=['Water'])\n",
      "Monster(name='Exeggutor', index=102, attack=95, defense=85, speed=125, hitpoint=[95, -18], variety=['Grass', 'Psychic', 'Dragon'])\n",
      "Monster(name='Hitmonlee', index=105, attack=120, defense=53, speed=35, hitpoint=[50, 0], variety=['Fighting'])\n",
      "Monster(name='Hitmonchan', index=106, attack=105, defense=79, speed=35, hitpoint=[50, -8], variety=['Fighting'])\n",
      "Monster(name='Rhyhorn', index=110, attack=85, defense=95, speed=30, hitpoint=[80, -5], variety=['Ground', 'Rock'])\n",
      "Monster(name='Rhydon', index=111, attack=130, defense=120, speed=45, hitpoint=[105, 21], variety=['Ground', 'Rock'])\n",
      "Monster(name='Electabuzz', index=124, attack=83, defense=57, speed=85, hitpoint=[65, -11], variety=['Electric'])\n",
      "Monster(name='Flareon', index=135, attack=130, defense=60, speed=110, hitpoint=[65, -15], variety=['Fire'])\n",
      "Monster(name='Kabutops', index=140, attack=115, defense=105, speed=70, hitpoint=[60, -10], variety=['Rock', 'Water'])\n",
      "Monster(name='Aerodactyl', index=141, attack=105, defense=65, speed=60, hitpoint=[80, -44], variety=['Rock', 'Flying'])\n",
      "Monster(name='Zapdos', index=144, attack=90, defense=85, speed=125, hitpoint=[90, -36], variety=['Electric', 'Flying'])\n",
      "Monster(name='Dragonite', index=148, attack=134, defense=95, speed=100, hitpoint=[91, 25], variety=['Dragon', 'Flying'])\n"
     ]
    }
   ],
   "source": [
    "effective_varieties = ['Grass', 'Electric', 'Fighting', 'Rock', 'Steel']\n",
    "effective_pokeList = [p for p in pokeList if np.any([v in p.variety for v in effective_varieties]) or p.attack > 126]\n",
    "print(\"# of Pokemons who can fight Cloyster:\", len(effective_pokeList), \"/\", len(pokeList))\n",
    "\n",
    "winnable_pokeList = [p for p in effective_pokeList if p.attack * 1.3 * 1.2 > 180 * 0.7]\n",
    "print(\"\\n# of Pokemons who can give a damage to Cloyster:\", len(winnable_pokeList), \"/\", len(pokeList))\n",
    "\n",
    "for p in winnable_pokeList:\n",
    "    print(p)"
   ]
  },
  {
   "cell_type": "markdown",
   "metadata": {},
   "source": [
    "Cloysterに立ち向かう選ばれしポケモンたちを実際に戦わせてみて，どのポケモンが一番Cloysterに有効なのかを調べてみる"
   ]
  },
  {
   "cell_type": "code",
   "execution_count": 98,
   "metadata": {},
   "outputs": [
    {
     "name": "stdout",
     "output_type": "stream",
     "text": [
      "Challenger Rhydon Win Rate: 73/100\n",
      "Challenger Machamp Win Rate: 43/100\n",
      "Challenger Golem Win Rate: 13/100\n",
      "Challenger Dragonite Win Rate: 5/100\n",
      "Challenger Hitmonlee Win Rate: 1/100\n",
      "Challenger Flareon Win Rate: 0/100\n",
      "Challenger Weepinbell Win Rate: 0/100\n",
      "Challenger Raichu Win Rate: 0/100\n",
      "Challenger Sandslash Win Rate: 0/100\n",
      "Challenger Parasect Win Rate: 0/100\n",
      "Challenger Primeape Win Rate: 0/100\n",
      "Challenger Poliwrath Win Rate: 0/100\n",
      "Challenger Machoke Win Rate: 0/100\n",
      "Challenger Aerodactyl Win Rate: 0/100\n",
      "Challenger Victreebel Win Rate: 0/100\n",
      "Challenger Electabuzz Win Rate: 0/100\n",
      "Challenger Graveler Win Rate: 0/100\n",
      "Challenger Zapdos Win Rate: 0/100\n",
      "Challenger Kingler Win Rate: 0/100\n",
      "Challenger Exeggutor Win Rate: 0/100\n",
      "Challenger Hitmonchan Win Rate: 0/100\n",
      "Challenger Rhyhorn Win Rate: 0/100\n",
      "Challenger Kabutops Win Rate: 0/100\n",
      "Challenger Venusaur Win Rate: 0/100\n"
     ]
    }
   ],
   "source": [
    "k = 100\n",
    "cloyster = pokedex[\"Cloyster\"]\n",
    "challengers = winnable_pokeList\n",
    "\n",
    "win_times = np.zeros(len(challengers), dtype='i')\n",
    "for i, challenger in enumerate(challengers):\n",
    "    for _ in range(k):\n",
    "        if pf.battle(challenger, cloyster) == 0: \n",
    "            win_times[i] += 1\n",
    "            \n",
    "ranking = win_times.argsort()[::-1]\n",
    "for idx in ranking:\n",
    "    print(f\"Challenger {challengers[idx].name} Win Rate: {win_times[idx]}/{k}\")"
   ]
  },
  {
   "cell_type": "markdown",
   "metadata": {},
   "source": [
    "この結果からわかるように，パルシェンにはサイドンをぶつけるのが有効である．  \n",
    "ちなみにSpeedBattleのようにパラメータで勝負させるとみんな負ける．"
   ]
  },
  {
   "cell_type": "markdown",
   "metadata": {},
   "source": [
    "## If we know the enemy Pokemon\n",
    "一番勝率の高いポケモンをぶつける"
   ]
  },
  {
   "cell_type": "code",
   "execution_count": 106,
   "metadata": {},
   "outputs": [],
   "source": [
    "def natural_enemies(p, enemy_list=pokeList, k=10, ranking=normal_ranking, battle=pf.battle, top=6, verbose=False):\n",
    "    results = SingleRoundRobinExperiment(p, k=k, enemy_list=enemy_list, battle=battle, verbose=verbose)\n",
    "    loss_times = results['l']\n",
    "    \n",
    "    # Higher possibility of loss, and then higher ranking\n",
    "    id_ranking = [p.index for p in ranking]\n",
    "    \n",
    "    # the index is pokeID, and has negative loss_time and rank\n",
    "    loss_times = np.array([(-loss_time, id_ranking.index(idx)) for idx, loss_time in enumerate(loss_times)], dtype=[('l', 'i'), ('r', 'i')])\n",
    "    \n",
    "    # firstly, order by negative loss_time, secondly, by ranking\n",
    "    strongest_natural_enemy_ids = loss_times.argsort(order=['l', 'r'])[:top]\n",
    "        \n",
    "    if verbose:\n",
    "        print(f\"{p.index}. Natural Enemies to {p.name}\")\n",
    "        for idx, i in enumerate(strongest_natural_enemy_ids):\n",
    "            print(f\"{idx+1}. {pokeList[i].name}, loss-times: {-loss_times[i][0]} / {k}\")\n",
    "        print()\n",
    "\n",
    "    return [pokeList[i] for i in strongest_natural_enemy_ids]\n",
    "\n",
    "def natural_enemies_list(plist=pokeList, enemy_list=pokeList, k=10, ranking=normal_ranking, battle=pf.battle, top=6, verbose=False):\n",
    "    return [natural_enemies(p, enemy_list=enemy_list, k=k, ranking=ranking, battle=battle, top=top, verbose=verbose) for p in plist]"
   ]
  },
  {
   "cell_type": "code",
   "execution_count": 126,
   "metadata": {
    "scrolled": true
   },
   "outputs": [
    {
     "name": "stdout",
     "output_type": "stream",
     "text": [
      "natural enemies list is loaded from pickle file\n"
     ]
    }
   ],
   "source": [
    "try:\n",
    "    # raise Exception # For creating new pickle file\n",
    "    with open(\"data/natural_enemies_list.pkl\", \"rb\") as f:\n",
    "        ne_list = pickle.load(f)\n",
    "        print(\"natural enemies list is loaded from pickle file\")\n",
    "except:\n",
    "    ne_list = natural_enemies_list(k=100, verbose=False)\n",
    "    with open(\"data/natural_enemies_list.pkl\", \"wb\") as f:\n",
    "        pickle.dump(ne_list, f)"
   ]
  },
  {
   "cell_type": "code",
   "execution_count": 135,
   "metadata": {},
   "outputs": [
    {
     "name": "stdout",
     "output_type": "stream",
     "text": [
      "Natural Enemy Lose!\n",
      "Natural Enemy: Monster(name='Rhydon', index=111, attack=130, defense=120, speed=45, hitpoint=[105, -17], variety=['Ground', 'Rock'])\n",
      "vs\n",
      "Enemy: Monster(name='Rhydon', index=111, attack=130, defense=120, speed=45, hitpoint=[105, 46], variety=['Ground', 'Rock'])\n",
      "\n",
      "Natural Enemy Lose!\n",
      "Natural Enemy: Monster(name='Rhydon', index=111, attack=130, defense=120, speed=45, hitpoint=[105, -25], variety=['Ground', 'Rock'])\n",
      "vs\n",
      "Enemy: Monster(name='Cloyster', index=90, attack=95, defense=180, speed=85, hitpoint=[50, 41], variety=['Water', 'Ice'])\n",
      "\n",
      "Natural Enemy Lose!\n",
      "Natural Enemy: Monster(name='Kingler', index=98, attack=130, defense=115, speed=50, hitpoint=[55, -2], variety=['Water'])\n",
      "vs\n",
      "Enemy: Monster(name='Kingler', index=98, attack=130, defense=115, speed=50, hitpoint=[55, 25], variety=['Water'])\n",
      "\n",
      "Natural Enemy Lose!\n",
      "Natural Enemy: Monster(name='Dragonite', index=148, attack=134, defense=95, speed=100, hitpoint=[91, -91], variety=['Dragon', 'Flying'])\n",
      "vs\n",
      "Enemy: Monster(name='Dragonite', index=148, attack=134, defense=95, speed=100, hitpoint=[91, 3], variety=['Dragon', 'Flying'])\n",
      "\n",
      "Natural Enemy Lose!\n",
      "Natural Enemy: Monster(name='Dragonite', index=148, attack=134, defense=95, speed=100, hitpoint=[91, -8], variety=['Dragon', 'Flying'])\n",
      "vs\n",
      "Enemy: Monster(name='Dragonite', index=148, attack=134, defense=95, speed=100, hitpoint=[91, 91], variety=['Dragon', 'Flying'])\n",
      "\n",
      "Natural Enemy Lose!\n",
      "Natural Enemy: Monster(name='Kingler', index=98, attack=130, defense=115, speed=50, hitpoint=[55, -12], variety=['Water'])\n",
      "vs\n",
      "Enemy: Monster(name='Kingler', index=98, attack=130, defense=115, speed=50, hitpoint=[55, 55], variety=['Water'])\n",
      "\n",
      "Natural Enemy Lose!\n",
      "Natural Enemy: Monster(name='Rhydon', index=111, attack=130, defense=120, speed=45, hitpoint=[105, -40], variety=['Ground', 'Rock'])\n",
      "vs\n",
      "Enemy: Monster(name='Cloyster', index=90, attack=95, defense=180, speed=85, hitpoint=[50, 18], variety=['Water', 'Ice'])\n",
      "\n",
      "Natural Enemy Lose!\n",
      "Natural Enemy: Monster(name='Dragonite', index=148, attack=134, defense=95, speed=100, hitpoint=[91, -56], variety=['Dragon', 'Flying'])\n",
      "vs\n",
      "Enemy: Monster(name='Dragonite', index=148, attack=134, defense=95, speed=100, hitpoint=[91, 3], variety=['Dragon', 'Flying'])\n",
      "\n",
      "Natural Enemy Lose!\n",
      "Natural Enemy: Monster(name='Kingler', index=98, attack=130, defense=115, speed=50, hitpoint=[55, -3], variety=['Water'])\n",
      "vs\n",
      "Enemy: Monster(name='Kingler', index=98, attack=130, defense=115, speed=50, hitpoint=[55, 55], variety=['Water'])\n",
      "\n",
      "Natural Enemy Lose!\n",
      "Natural Enemy: Monster(name='Rhydon', index=111, attack=130, defense=120, speed=45, hitpoint=[105, -13], variety=['Ground', 'Rock'])\n",
      "vs\n",
      "Enemy: Monster(name='Rhydon', index=111, attack=130, defense=120, speed=45, hitpoint=[105, 63], variety=['Ground', 'Rock'])\n",
      "\n",
      "Natural Enemy Lose!\n",
      "Natural Enemy: Monster(name='Rhydon', index=111, attack=130, defense=120, speed=45, hitpoint=[105, -28], variety=['Ground', 'Rock'])\n",
      "vs\n",
      "Enemy: Monster(name='Cloyster', index=90, attack=95, defense=180, speed=85, hitpoint=[50, 16], variety=['Water', 'Ice'])\n",
      "\n",
      "Natural Enemy Lose!\n",
      "Natural Enemy: Monster(name='Dragonite', index=148, attack=134, defense=95, speed=100, hitpoint=[91, 0], variety=['Dragon', 'Flying'])\n",
      "vs\n",
      "Enemy: Monster(name='Dragonite', index=148, attack=134, defense=95, speed=100, hitpoint=[91, 91], variety=['Dragon', 'Flying'])\n",
      "\n",
      "Natural Enemy Lose!\n",
      "Natural Enemy: Monster(name='Rhydon', index=111, attack=130, defense=120, speed=45, hitpoint=[105, -3], variety=['Ground', 'Rock'])\n",
      "vs\n",
      "Enemy: Monster(name='Cloyster', index=90, attack=95, defense=180, speed=85, hitpoint=[50, 27], variety=['Water', 'Ice'])\n",
      "\n",
      "Natural Enemy Lose!\n",
      "Natural Enemy: Monster(name='Rhydon', index=111, attack=130, defense=120, speed=45, hitpoint=[105, -20], variety=['Ground', 'Rock'])\n",
      "vs\n",
      "Enemy: Monster(name='Rhydon', index=111, attack=130, defense=120, speed=45, hitpoint=[105, 42], variety=['Ground', 'Rock'])\n",
      "\n",
      "Natural Enemy Lose!\n",
      "Natural Enemy: Monster(name='Dragonite', index=148, attack=134, defense=95, speed=100, hitpoint=[91, -75], variety=['Dragon', 'Flying'])\n",
      "vs\n",
      "Enemy: Monster(name='Dragonite', index=148, attack=134, defense=95, speed=100, hitpoint=[91, 9], variety=['Dragon', 'Flying'])\n",
      "\n",
      "Natural Enemy Lose!\n",
      "Natural Enemy: Monster(name='Kingler', index=98, attack=130, defense=115, speed=50, hitpoint=[55, -6], variety=['Water'])\n",
      "vs\n",
      "Enemy: Monster(name='Kingler', index=98, attack=130, defense=115, speed=50, hitpoint=[55, 11], variety=['Water'])\n",
      "\n",
      "Natural Enemy Lose!\n",
      "Natural Enemy: Monster(name='Rhydon', index=111, attack=130, defense=120, speed=45, hitpoint=[105, -4], variety=['Ground', 'Rock'])\n",
      "vs\n",
      "Enemy: Monster(name='Rhydon', index=111, attack=130, defense=120, speed=45, hitpoint=[105, 41], variety=['Ground', 'Rock'])\n",
      "\n",
      "Natural Enemy Lose!\n",
      "Natural Enemy: Monster(name='Dragonite', index=148, attack=134, defense=95, speed=100, hitpoint=[91, -13], variety=['Dragon', 'Flying'])\n",
      "vs\n",
      "Enemy: Monster(name='Dragonite', index=148, attack=134, defense=95, speed=100, hitpoint=[91, 91], variety=['Dragon', 'Flying'])\n",
      "\n",
      "Natural Enemy Lose!\n",
      "Natural Enemy: Monster(name='Rhydon', index=111, attack=130, defense=120, speed=45, hitpoint=[105, -31], variety=['Ground', 'Rock'])\n",
      "vs\n",
      "Enemy: Monster(name='Cloyster', index=90, attack=95, defense=180, speed=85, hitpoint=[50, 3], variety=['Water', 'Ice'])\n",
      "\n",
      "Natural Enemy Lose!\n",
      "Natural Enemy: Monster(name='Rhydon', index=111, attack=130, defense=120, speed=45, hitpoint=[105, -5], variety=['Ground', 'Rock'])\n",
      "vs\n",
      "Enemy: Monster(name='Rhydon', index=111, attack=130, defense=120, speed=45, hitpoint=[105, 3], variety=['Ground', 'Rock'])\n",
      "\n",
      "Natural Enemy Lose!\n",
      "Natural Enemy: Monster(name='Kingler', index=98, attack=130, defense=115, speed=50, hitpoint=[55, -10], variety=['Water'])\n",
      "vs\n",
      "Enemy: Monster(name='Kingler', index=98, attack=130, defense=115, speed=50, hitpoint=[55, 37], variety=['Water'])\n",
      "\n",
      "Natural Enemy Lose!\n",
      "Natural Enemy: Monster(name='Rhydon', index=111, attack=130, defense=120, speed=45, hitpoint=[105, -12], variety=['Ground', 'Rock'])\n",
      "vs\n",
      "Enemy: Monster(name='Cloyster', index=90, attack=95, defense=180, speed=85, hitpoint=[50, 50], variety=['Water', 'Ice'])\n",
      "\n",
      "Natural Enemy Lose!\n",
      "Natural Enemy: Monster(name='Rhydon', index=111, attack=130, defense=120, speed=45, hitpoint=[105, -8], variety=['Ground', 'Rock'])\n",
      "vs\n",
      "Enemy: Monster(name='Cloyster', index=90, attack=95, defense=180, speed=85, hitpoint=[50, 10], variety=['Water', 'Ice'])\n",
      "\n",
      "Natural Enemy Lose!\n",
      "Natural Enemy: Monster(name='Rhydon', index=111, attack=130, defense=120, speed=45, hitpoint=[105, -25], variety=['Ground', 'Rock'])\n",
      "vs\n",
      "Enemy: Monster(name='Rhydon', index=111, attack=130, defense=120, speed=45, hitpoint=[105, 1], variety=['Ground', 'Rock'])\n",
      "\n",
      "Natural Enemy Lose!\n",
      "Natural Enemy: Monster(name='Kingler', index=98, attack=130, defense=115, speed=50, hitpoint=[55, -8], variety=['Water'])\n",
      "vs\n",
      "Enemy: Monster(name='Kingler', index=98, attack=130, defense=115, speed=50, hitpoint=[55, 34], variety=['Water'])\n",
      "\n",
      "Natural Enemy Lose!\n",
      "Natural Enemy: Monster(name='Dragonite', index=148, attack=134, defense=95, speed=100, hitpoint=[91, -9], variety=['Dragon', 'Flying'])\n",
      "vs\n",
      "Enemy: Monster(name='Dragonite', index=148, attack=134, defense=95, speed=100, hitpoint=[91, 91], variety=['Dragon', 'Flying'])\n",
      "\n",
      "Natural Enemy Lose!\n",
      "Natural Enemy: Monster(name='Dragonite', index=148, attack=134, defense=95, speed=100, hitpoint=[91, -63], variety=['Dragon', 'Flying'])\n",
      "vs\n",
      "Enemy: Monster(name='Dragonite', index=148, attack=134, defense=95, speed=100, hitpoint=[91, 4], variety=['Dragon', 'Flying'])\n",
      "\n",
      "Natural Enemy Lose!\n",
      "Natural Enemy: Monster(name='Kingler', index=98, attack=130, defense=115, speed=50, hitpoint=[55, -10], variety=['Water'])\n",
      "vs\n",
      "Enemy: Monster(name='Kingler', index=98, attack=130, defense=115, speed=50, hitpoint=[55, 50], variety=['Water'])\n",
      "\n",
      "Natural Enemy Lose!\n",
      "Natural Enemy: Monster(name='Kingler', index=98, attack=130, defense=115, speed=50, hitpoint=[55, -1], variety=['Water'])\n",
      "vs\n",
      "Enemy: Monster(name='Kingler', index=98, attack=130, defense=115, speed=50, hitpoint=[55, 7], variety=['Water'])\n",
      "\n",
      "Natural Enemy Lose!\n",
      "Natural Enemy: Monster(name='Rhydon', index=111, attack=130, defense=120, speed=45, hitpoint=[105, -8], variety=['Ground', 'Rock'])\n",
      "vs\n",
      "Enemy: Monster(name='Rhydon', index=111, attack=130, defense=120, speed=45, hitpoint=[105, 47], variety=['Ground', 'Rock'])\n",
      "\n",
      "Natural Enemy Lose!\n",
      "Natural Enemy: Monster(name='Rhydon', index=111, attack=130, defense=120, speed=45, hitpoint=[105, -1], variety=['Ground', 'Rock'])\n",
      "vs\n",
      "Enemy: Monster(name='Rhydon', index=111, attack=130, defense=120, speed=45, hitpoint=[105, 15], variety=['Ground', 'Rock'])\n",
      "\n",
      "Natural Enemy Lose!\n",
      "Natural Enemy: Monster(name='Rhydon', index=111, attack=130, defense=120, speed=45, hitpoint=[105, -13], variety=['Ground', 'Rock'])\n",
      "vs\n",
      "Enemy: Monster(name='Rhydon', index=111, attack=130, defense=120, speed=45, hitpoint=[105, 37], variety=['Ground', 'Rock'])\n",
      "\n",
      "Natural Enemy Lose!\n",
      "Natural Enemy: Monster(name='Rhydon', index=111, attack=130, defense=120, speed=45, hitpoint=[105, -21], variety=['Ground', 'Rock'])\n",
      "vs\n",
      "Enemy: Monster(name='Cloyster', index=90, attack=95, defense=180, speed=85, hitpoint=[50, 7], variety=['Water', 'Ice'])\n",
      "\n",
      "Natural Enemy Lose!\n",
      "Natural Enemy: Monster(name='Dragonite', index=148, attack=134, defense=95, speed=100, hitpoint=[91, -8], variety=['Dragon', 'Flying'])\n",
      "vs\n",
      "Enemy: Monster(name='Dragonite', index=148, attack=134, defense=95, speed=100, hitpoint=[91, 91], variety=['Dragon', 'Flying'])\n",
      "\n",
      "Natural Enemy Lose!\n",
      "Natural Enemy: Monster(name='Rhydon', index=111, attack=130, defense=120, speed=45, hitpoint=[105, -5], variety=['Ground', 'Rock'])\n",
      "vs\n",
      "Enemy: Monster(name='Rhydon', index=111, attack=130, defense=120, speed=45, hitpoint=[105, 79], variety=['Ground', 'Rock'])\n",
      "\n",
      "Natural Enemy Lose!\n",
      "Natural Enemy: Monster(name='Kingler', index=98, attack=130, defense=115, speed=50, hitpoint=[55, -1], variety=['Water'])\n",
      "vs\n",
      "Enemy: Monster(name='Kingler', index=98, attack=130, defense=115, speed=50, hitpoint=[55, 44], variety=['Water'])\n",
      "\n",
      "Natural Enemy Lose!\n",
      "Natural Enemy: Monster(name='Kingler', index=98, attack=130, defense=115, speed=50, hitpoint=[55, -7], variety=['Water'])\n",
      "vs\n",
      "Enemy: Monster(name='Kingler', index=98, attack=130, defense=115, speed=50, hitpoint=[55, 17], variety=['Water'])\n",
      "\n",
      "Natural Enemy Lose!\n",
      "Natural Enemy: Monster(name='Rhydon', index=111, attack=130, defense=120, speed=45, hitpoint=[105, -11], variety=['Ground', 'Rock'])\n",
      "vs\n",
      "Enemy: Monster(name='Cloyster', index=90, attack=95, defense=180, speed=85, hitpoint=[50, 20], variety=['Water', 'Ice'])\n",
      "\n",
      "Natural Enemy Lose!\n",
      "Natural Enemy: Monster(name='Kingler', index=98, attack=130, defense=115, speed=50, hitpoint=[55, -19], variety=['Water'])\n",
      "vs\n",
      "Enemy: Monster(name='Kingler', index=98, attack=130, defense=115, speed=50, hitpoint=[55, 31], variety=['Water'])\n",
      "\n",
      "Natural Enemy Lose!\n",
      "Natural Enemy: Monster(name='Rhydon', index=111, attack=130, defense=120, speed=45, hitpoint=[105, -6], variety=['Ground', 'Rock'])\n",
      "vs\n",
      "Enemy: Monster(name='Rhydon', index=111, attack=130, defense=120, speed=45, hitpoint=[105, 43], variety=['Ground', 'Rock'])\n",
      "\n",
      "Natural Enemy Lose!\n",
      "Natural Enemy: Monster(name='Rhydon', index=111, attack=130, defense=120, speed=45, hitpoint=[105, -8], variety=['Ground', 'Rock'])\n",
      "vs\n",
      "Enemy: Monster(name='Rhydon', index=111, attack=130, defense=120, speed=45, hitpoint=[105, 88], variety=['Ground', 'Rock'])\n",
      "\n",
      "Natural Enemy Lose!\n",
      "Natural Enemy: Monster(name='Rhydon', index=111, attack=130, defense=120, speed=45, hitpoint=[105, -26], variety=['Ground', 'Rock'])\n",
      "vs\n",
      "Enemy: Monster(name='Cloyster', index=90, attack=95, defense=180, speed=85, hitpoint=[50, 42], variety=['Water', 'Ice'])\n",
      "\n",
      "Natural Enemy Lose!\n",
      "Natural Enemy: Monster(name='Rhydon', index=111, attack=130, defense=120, speed=45, hitpoint=[105, -26], variety=['Ground', 'Rock'])\n",
      "vs\n",
      "Enemy: Monster(name='Cloyster', index=90, attack=95, defense=180, speed=85, hitpoint=[50, 19], variety=['Water', 'Ice'])\n",
      "\n",
      "Natural Enemy Lose!\n",
      "Natural Enemy: Monster(name='Rhydon', index=111, attack=130, defense=120, speed=45, hitpoint=[105, -10], variety=['Ground', 'Rock'])\n",
      "vs\n",
      "Enemy: Monster(name='Rhydon', index=111, attack=130, defense=120, speed=45, hitpoint=[105, 14], variety=['Ground', 'Rock'])\n",
      "\n",
      "Natural Enemy Lose!\n",
      "Natural Enemy: Monster(name='Kingler', index=98, attack=130, defense=115, speed=50, hitpoint=[55, -3], variety=['Water'])\n",
      "vs\n",
      "Enemy: Monster(name='Kingler', index=98, attack=130, defense=115, speed=50, hitpoint=[55, 24], variety=['Water'])\n",
      "\n",
      "Natural Enemy Lose!\n",
      "Natural Enemy: Monster(name='Rhydon', index=111, attack=130, defense=120, speed=45, hitpoint=[105, -13], variety=['Ground', 'Rock'])\n",
      "vs\n",
      "Enemy: Monster(name='Cloyster', index=90, attack=95, defense=180, speed=85, hitpoint=[50, 25], variety=['Water', 'Ice'])\n",
      "\n",
      "Natural Enemy Lose!\n",
      "Natural Enemy: Monster(name='Kingler', index=98, attack=130, defense=115, speed=50, hitpoint=[55, -17], variety=['Water'])\n",
      "vs\n",
      "Enemy: Monster(name='Kingler', index=98, attack=130, defense=115, speed=50, hitpoint=[55, 33], variety=['Water'])\n",
      "\n",
      "Natural Enemy Lose!\n",
      "Natural Enemy: Monster(name='Dragonite', index=148, attack=134, defense=95, speed=100, hitpoint=[91, -16], variety=['Dragon', 'Flying'])\n",
      "vs\n",
      "Enemy: Monster(name='Dragonite', index=148, attack=134, defense=95, speed=100, hitpoint=[91, 91], variety=['Dragon', 'Flying'])\n",
      "\n",
      "Natural Enemy Lose!\n",
      "Natural Enemy: Monster(name='Dragonite', index=148, attack=134, defense=95, speed=100, hitpoint=[91, -29], variety=['Dragon', 'Flying'])\n",
      "vs\n",
      "Enemy: Monster(name='Dragonite', index=148, attack=134, defense=95, speed=100, hitpoint=[91, 91], variety=['Dragon', 'Flying'])\n",
      "\n",
      "Natural Enemy Lose!\n",
      "Natural Enemy: Monster(name='Dragonite', index=148, attack=134, defense=95, speed=100, hitpoint=[91, -30], variety=['Dragon', 'Flying'])\n",
      "vs\n",
      "Enemy: Monster(name='Dragonite', index=148, attack=134, defense=95, speed=100, hitpoint=[91, 91], variety=['Dragon', 'Flying'])\n",
      "\n",
      "Natural Enemy Lose!\n",
      "Natural Enemy: Monster(name='Rhydon', index=111, attack=130, defense=120, speed=45, hitpoint=[105, -13], variety=['Ground', 'Rock'])\n",
      "vs\n",
      "Enemy: Monster(name='Cloyster', index=90, attack=95, defense=180, speed=85, hitpoint=[50, 13], variety=['Water', 'Ice'])\n",
      "\n",
      "Natural Enemy Lose!\n",
      "Natural Enemy: Monster(name='Rhydon', index=111, attack=130, defense=120, speed=45, hitpoint=[105, -14], variety=['Ground', 'Rock'])\n",
      "vs\n",
      "Enemy: Monster(name='Rhydon', index=111, attack=130, defense=120, speed=45, hitpoint=[105, 51], variety=['Ground', 'Rock'])\n",
      "\n",
      "Natural Enemy Lose!\n",
      "Natural Enemy: Monster(name='Kingler', index=98, attack=130, defense=115, speed=50, hitpoint=[55, -22], variety=['Water'])\n",
      "vs\n",
      "Enemy: Monster(name='Kingler', index=98, attack=130, defense=115, speed=50, hitpoint=[55, 35], variety=['Water'])\n",
      "\n",
      "Natural Enemy Lose!\n",
      "Natural Enemy: Monster(name='Rhydon', index=111, attack=130, defense=120, speed=45, hitpoint=[105, -5], variety=['Ground', 'Rock'])\n",
      "vs\n",
      "Enemy: Monster(name='Rhydon', index=111, attack=130, defense=120, speed=45, hitpoint=[105, 11], variety=['Ground', 'Rock'])\n",
      "\n",
      "Natural Enemy Lose!\n",
      "Natural Enemy: Monster(name='Rhydon', index=111, attack=130, defense=120, speed=45, hitpoint=[105, -42], variety=['Ground', 'Rock'])\n",
      "vs\n",
      "Enemy: Monster(name='Rhydon', index=111, attack=130, defense=120, speed=45, hitpoint=[105, 53], variety=['Ground', 'Rock'])\n",
      "\n",
      "Natural Enemy Lose!\n",
      "Natural Enemy: Monster(name='Kingler', index=98, attack=130, defense=115, speed=50, hitpoint=[55, -19], variety=['Water'])\n",
      "vs\n",
      "Enemy: Monster(name='Kingler', index=98, attack=130, defense=115, speed=50, hitpoint=[55, 9], variety=['Water'])\n",
      "\n",
      "Natural Enemy Lose!\n",
      "Natural Enemy: Monster(name='Kingler', index=98, attack=130, defense=115, speed=50, hitpoint=[55, -5], variety=['Water'])\n",
      "vs\n",
      "Enemy: Monster(name='Kingler', index=98, attack=130, defense=115, speed=50, hitpoint=[55, 55], variety=['Water'])\n",
      "\n",
      "Natural Enemy Lose!\n",
      "Natural Enemy: Monster(name='Dragonite', index=148, attack=134, defense=95, speed=100, hitpoint=[91, -33], variety=['Dragon', 'Flying'])\n",
      "vs\n",
      "Enemy: Monster(name='Dragonite', index=148, attack=134, defense=95, speed=100, hitpoint=[91, 17], variety=['Dragon', 'Flying'])\n",
      "\n",
      "Natural Enemy Lose!\n",
      "Natural Enemy: Monster(name='Rhydon', index=111, attack=130, defense=120, speed=45, hitpoint=[105, -5], variety=['Ground', 'Rock'])\n",
      "vs\n",
      "Enemy: Monster(name='Rhydon', index=111, attack=130, defense=120, speed=45, hitpoint=[105, 24], variety=['Ground', 'Rock'])\n",
      "\n",
      "Natural Enemy Lose!\n",
      "Natural Enemy: Monster(name='Dragonite', index=148, attack=134, defense=95, speed=100, hitpoint=[91, -35], variety=['Dragon', 'Flying'])\n",
      "vs\n",
      "Enemy: Monster(name='Dragonite', index=148, attack=134, defense=95, speed=100, hitpoint=[91, 36], variety=['Dragon', 'Flying'])\n",
      "\n",
      "Natural Enemy Lose!\n",
      "Natural Enemy: Monster(name='Kingler', index=98, attack=130, defense=115, speed=50, hitpoint=[55, -2], variety=['Water'])\n",
      "vs\n",
      "Enemy: Monster(name='Kingler', index=98, attack=130, defense=115, speed=50, hitpoint=[55, 35], variety=['Water'])\n",
      "\n",
      "Natural Enemy Lose!\n",
      "Natural Enemy: Monster(name='Rhydon', index=111, attack=130, defense=120, speed=45, hitpoint=[105, -18], variety=['Ground', 'Rock'])\n",
      "vs\n",
      "Enemy: Monster(name='Rhydon', index=111, attack=130, defense=120, speed=45, hitpoint=[105, 46], variety=['Ground', 'Rock'])\n",
      "\n",
      "Natural Enemy Lose!\n",
      "Natural Enemy: Monster(name='Kingler', index=98, attack=130, defense=115, speed=50, hitpoint=[55, -18], variety=['Water'])\n",
      "vs\n",
      "Enemy: Monster(name='Kingler', index=98, attack=130, defense=115, speed=50, hitpoint=[55, 31], variety=['Water'])\n",
      "\n",
      "Natural Enemy Lose!\n",
      "Natural Enemy: Monster(name='Dragonite', index=148, attack=134, defense=95, speed=100, hitpoint=[91, -34], variety=['Dragon', 'Flying'])\n",
      "vs\n",
      "Enemy: Monster(name='Dragonite', index=148, attack=134, defense=95, speed=100, hitpoint=[91, 91], variety=['Dragon', 'Flying'])\n"
     ]
    },
    {
     "name": "stdout",
     "output_type": "stream",
     "text": [
      "\n",
      "Natural Enemy Lose!\n",
      "Natural Enemy: Monster(name='Dragonite', index=148, attack=134, defense=95, speed=100, hitpoint=[91, -74], variety=['Dragon', 'Flying'])\n",
      "vs\n",
      "Enemy: Monster(name='Dragonite', index=148, attack=134, defense=95, speed=100, hitpoint=[91, 8], variety=['Dragon', 'Flying'])\n",
      "\n",
      "Natural Enemy Lose!\n",
      "Natural Enemy: Monster(name='Kingler', index=98, attack=130, defense=115, speed=50, hitpoint=[55, -9], variety=['Water'])\n",
      "vs\n",
      "Enemy: Monster(name='Kingler', index=98, attack=130, defense=115, speed=50, hitpoint=[55, 9], variety=['Water'])\n",
      "\n",
      "Natural Enemy Lose!\n",
      "Natural Enemy: Monster(name='Rhydon', index=111, attack=130, defense=120, speed=45, hitpoint=[105, -2], variety=['Ground', 'Rock'])\n",
      "vs\n",
      "Enemy: Monster(name='Cloyster', index=90, attack=95, defense=180, speed=85, hitpoint=[50, 35], variety=['Water', 'Ice'])\n",
      "\n",
      "Natural Enemy Lose!\n",
      "Natural Enemy: Monster(name='Rhydon', index=111, attack=130, defense=120, speed=45, hitpoint=[105, -14], variety=['Ground', 'Rock'])\n",
      "vs\n",
      "Enemy: Monster(name='Rhydon', index=111, attack=130, defense=120, speed=45, hitpoint=[105, 62], variety=['Ground', 'Rock'])\n",
      "\n",
      "Natural Enemy Lose!\n",
      "Natural Enemy: Monster(name='Kingler', index=98, attack=130, defense=115, speed=50, hitpoint=[55, -5], variety=['Water'])\n",
      "vs\n",
      "Enemy: Monster(name='Kingler', index=98, attack=130, defense=115, speed=50, hitpoint=[55, 35], variety=['Water'])\n",
      "\n",
      "Natural Enemy Lose!\n",
      "Natural Enemy: Monster(name='Rhydon', index=111, attack=130, defense=120, speed=45, hitpoint=[105, -22], variety=['Ground', 'Rock'])\n",
      "vs\n",
      "Enemy: Monster(name='Rhydon', index=111, attack=130, defense=120, speed=45, hitpoint=[105, 62], variety=['Ground', 'Rock'])\n",
      "\n",
      "Natural Enemy Lose!\n",
      "Natural Enemy: Monster(name='Dragonite', index=148, attack=134, defense=95, speed=100, hitpoint=[91, -41], variety=['Dragon', 'Flying'])\n",
      "vs\n",
      "Enemy: Monster(name='Dragonite', index=148, attack=134, defense=95, speed=100, hitpoint=[91, 9], variety=['Dragon', 'Flying'])\n",
      "\n",
      "Natural Enemy Lose!\n",
      "Natural Enemy: Monster(name='Rhydon', index=111, attack=130, defense=120, speed=45, hitpoint=[105, -15], variety=['Ground', 'Rock'])\n",
      "vs\n",
      "Enemy: Monster(name='Rhydon', index=111, attack=130, defense=120, speed=45, hitpoint=[105, 60], variety=['Ground', 'Rock'])\n",
      "\n",
      "Natural Enemy Lose!\n",
      "Natural Enemy: Monster(name='Rhydon', index=111, attack=130, defense=120, speed=45, hitpoint=[105, -4], variety=['Ground', 'Rock'])\n",
      "vs\n",
      "Enemy: Monster(name='Cloyster', index=90, attack=95, defense=180, speed=85, hitpoint=[50, 23], variety=['Water', 'Ice'])\n",
      "\n",
      "Natural Enemy Lose!\n",
      "Natural Enemy: Monster(name='Dragonite', index=148, attack=134, defense=95, speed=100, hitpoint=[91, -60], variety=['Dragon', 'Flying'])\n",
      "vs\n",
      "Enemy: Monster(name='Dragonite', index=148, attack=134, defense=95, speed=100, hitpoint=[91, 40], variety=['Dragon', 'Flying'])\n",
      "\n",
      "Natural Enemy Lose!\n",
      "Natural Enemy: Monster(name='Rhydon', index=111, attack=130, defense=120, speed=45, hitpoint=[105, -5], variety=['Ground', 'Rock'])\n",
      "vs\n",
      "Enemy: Monster(name='Rhydon', index=111, attack=130, defense=120, speed=45, hitpoint=[105, 43], variety=['Ground', 'Rock'])\n",
      "\n",
      "Natural Enemy Lose!\n",
      "Natural Enemy: Monster(name='Dragonite', index=148, attack=134, defense=95, speed=100, hitpoint=[91, -72], variety=['Dragon', 'Flying'])\n",
      "vs\n",
      "Enemy: Monster(name='Dragonite', index=148, attack=134, defense=95, speed=100, hitpoint=[91, 17], variety=['Dragon', 'Flying'])\n",
      "\n",
      "Natural Enemy Lose!\n",
      "Natural Enemy: Monster(name='Rhydon', index=111, attack=130, defense=120, speed=45, hitpoint=[105, -6], variety=['Ground', 'Rock'])\n",
      "vs\n",
      "Enemy: Monster(name='Rhydon', index=111, attack=130, defense=120, speed=45, hitpoint=[105, 35], variety=['Ground', 'Rock'])\n",
      "\n",
      "Natural Enemy Lose!\n",
      "Natural Enemy: Monster(name='Rhydon', index=111, attack=130, defense=120, speed=45, hitpoint=[105, -23], variety=['Ground', 'Rock'])\n",
      "vs\n",
      "Enemy: Monster(name='Rhydon', index=111, attack=130, defense=120, speed=45, hitpoint=[105, 5], variety=['Ground', 'Rock'])\n",
      "\n",
      "Natural Enemy Lose!\n",
      "Natural Enemy: Monster(name='Rhydon', index=111, attack=130, defense=120, speed=45, hitpoint=[105, -23], variety=['Ground', 'Rock'])\n",
      "vs\n",
      "Enemy: Monster(name='Rhydon', index=111, attack=130, defense=120, speed=45, hitpoint=[105, 66], variety=['Ground', 'Rock'])\n",
      "\n",
      "Natural Enemy Lose!\n",
      "Natural Enemy: Monster(name='Rhydon', index=111, attack=130, defense=120, speed=45, hitpoint=[105, -6], variety=['Ground', 'Rock'])\n",
      "vs\n",
      "Enemy: Monster(name='Cloyster', index=90, attack=95, defense=180, speed=85, hitpoint=[50, 7], variety=['Water', 'Ice'])\n",
      "\n",
      "Natural Enemy Lose!\n",
      "Natural Enemy: Monster(name='Kingler', index=98, attack=130, defense=115, speed=50, hitpoint=[55, -6], variety=['Water'])\n",
      "vs\n",
      "Enemy: Monster(name='Kingler', index=98, attack=130, defense=115, speed=50, hitpoint=[55, 42], variety=['Water'])\n",
      "\n",
      "Natural Enemy Lose!\n",
      "Natural Enemy: Monster(name='Rhydon', index=111, attack=130, defense=120, speed=45, hitpoint=[105, 0], variety=['Ground', 'Rock'])\n",
      "vs\n",
      "Enemy: Monster(name='Cloyster', index=90, attack=95, defense=180, speed=85, hitpoint=[50, 21], variety=['Water', 'Ice'])\n",
      "\n",
      "Natural Enemy Lose!\n",
      "Natural Enemy: Monster(name='Rhydon', index=111, attack=130, defense=120, speed=45, hitpoint=[105, -22], variety=['Ground', 'Rock'])\n",
      "vs\n",
      "Enemy: Monster(name='Cloyster', index=90, attack=95, defense=180, speed=85, hitpoint=[50, 31], variety=['Water', 'Ice'])\n",
      "\n",
      "Natural Enemy Lose!\n",
      "Natural Enemy: Monster(name='Dragonite', index=148, attack=134, defense=95, speed=100, hitpoint=[91, -33], variety=['Dragon', 'Flying'])\n",
      "vs\n",
      "Enemy: Monster(name='Dragonite', index=148, attack=134, defense=95, speed=100, hitpoint=[91, 91], variety=['Dragon', 'Flying'])\n",
      "\n",
      "Natural Enemy Lose!\n",
      "Natural Enemy: Monster(name='Rhydon', index=111, attack=130, defense=120, speed=45, hitpoint=[105, -44], variety=['Ground', 'Rock'])\n",
      "vs\n",
      "Enemy: Monster(name='Rhydon', index=111, attack=130, defense=120, speed=45, hitpoint=[105, 81], variety=['Ground', 'Rock'])\n",
      "\n",
      "Natural Enemy Lose!\n",
      "Natural Enemy: Monster(name='Rhydon', index=111, attack=130, defense=120, speed=45, hitpoint=[105, 0], variety=['Ground', 'Rock'])\n",
      "vs\n",
      "Enemy: Monster(name='Cloyster', index=90, attack=95, defense=180, speed=85, hitpoint=[50, 30], variety=['Water', 'Ice'])\n",
      "\n",
      "Natural Enemy Lose!\n",
      "Natural Enemy: Monster(name='Dragonite', index=148, attack=134, defense=95, speed=100, hitpoint=[91, -25], variety=['Dragon', 'Flying'])\n",
      "vs\n",
      "Enemy: Monster(name='Dragonite', index=148, attack=134, defense=95, speed=100, hitpoint=[91, 91], variety=['Dragon', 'Flying'])\n",
      "\n",
      "Natural Enemy Lose!\n",
      "Natural Enemy: Monster(name='Dragonite', index=148, attack=134, defense=95, speed=100, hitpoint=[91, -14], variety=['Dragon', 'Flying'])\n",
      "vs\n",
      "Enemy: Monster(name='Dragonite', index=148, attack=134, defense=95, speed=100, hitpoint=[91, 1], variety=['Dragon', 'Flying'])\n",
      "\n",
      "Natural Enemy Lose!\n",
      "Natural Enemy: Monster(name='Rhydon', index=111, attack=130, defense=120, speed=45, hitpoint=[105, -39], variety=['Ground', 'Rock'])\n",
      "vs\n",
      "Enemy: Monster(name='Rhydon', index=111, attack=130, defense=120, speed=45, hitpoint=[105, 41], variety=['Ground', 'Rock'])\n",
      "\n",
      "Natural Enemy Lose!\n",
      "Natural Enemy: Monster(name='Dragonite', index=148, attack=134, defense=95, speed=100, hitpoint=[91, -62], variety=['Dragon', 'Flying'])\n",
      "vs\n",
      "Enemy: Monster(name='Dragonite', index=148, attack=134, defense=95, speed=100, hitpoint=[91, 2], variety=['Dragon', 'Flying'])\n",
      "\n",
      "Natural Enemy Lose!\n",
      "Natural Enemy: Monster(name='Dragonite', index=148, attack=134, defense=95, speed=100, hitpoint=[91, -6], variety=['Dragon', 'Flying'])\n",
      "vs\n",
      "Enemy: Monster(name='Dragonite', index=148, attack=134, defense=95, speed=100, hitpoint=[91, 91], variety=['Dragon', 'Flying'])\n",
      "\n",
      "Natural Enemy Lose!\n",
      "Natural Enemy: Monster(name='Kingler', index=98, attack=130, defense=115, speed=50, hitpoint=[55, 0], variety=['Water'])\n",
      "vs\n",
      "Enemy: Monster(name='Kingler', index=98, attack=130, defense=115, speed=50, hitpoint=[55, 22], variety=['Water'])\n",
      "\n",
      "Natural Enemy Lose!\n",
      "Natural Enemy: Monster(name='Rhydon', index=111, attack=130, defense=120, speed=45, hitpoint=[105, 0], variety=['Ground', 'Rock'])\n",
      "vs\n",
      "Enemy: Monster(name='Rhydon', index=111, attack=130, defense=120, speed=45, hitpoint=[105, 100], variety=['Ground', 'Rock'])\n",
      "\n",
      "Natural Enemy Lose!\n",
      "Natural Enemy: Monster(name='Rhydon', index=111, attack=130, defense=120, speed=45, hitpoint=[105, -1], variety=['Ground', 'Rock'])\n",
      "vs\n",
      "Enemy: Monster(name='Rhydon', index=111, attack=130, defense=120, speed=45, hitpoint=[105, 37], variety=['Ground', 'Rock'])\n",
      "\n",
      "Natural Enemy Lose!\n",
      "Natural Enemy: Monster(name='Dragonite', index=148, attack=134, defense=95, speed=100, hitpoint=[91, -114], variety=['Dragon', 'Flying'])\n",
      "vs\n",
      "Enemy: Monster(name='Dragonite', index=148, attack=134, defense=95, speed=100, hitpoint=[91, 10], variety=['Dragon', 'Flying'])\n",
      "\n",
      "Natural Enemy Lose!\n",
      "Natural Enemy: Monster(name='Dragonite', index=148, attack=134, defense=95, speed=100, hitpoint=[91, -57], variety=['Dragon', 'Flying'])\n",
      "vs\n",
      "Enemy: Monster(name='Dragonite', index=148, attack=134, defense=95, speed=100, hitpoint=[91, 14], variety=['Dragon', 'Flying'])\n",
      "\n",
      "Natural Enemy Lose!\n",
      "Natural Enemy: Monster(name='Kingler', index=98, attack=130, defense=115, speed=50, hitpoint=[55, -23], variety=['Water'])\n",
      "vs\n",
      "Enemy: Monster(name='Kingler', index=98, attack=130, defense=115, speed=50, hitpoint=[55, 28], variety=['Water'])\n",
      "\n",
      "Natural Enemy Lose!\n",
      "Natural Enemy: Monster(name='Rhydon', index=111, attack=130, defense=120, speed=45, hitpoint=[105, -21], variety=['Ground', 'Rock'])\n",
      "vs\n",
      "Enemy: Monster(name='Cloyster', index=90, attack=95, defense=180, speed=85, hitpoint=[50, 9], variety=['Water', 'Ice'])\n",
      "\n",
      "Natural Enemy Lose!\n",
      "Natural Enemy: Monster(name='Dragonite', index=148, attack=134, defense=95, speed=100, hitpoint=[91, -59], variety=['Dragon', 'Flying'])\n",
      "vs\n",
      "Enemy: Monster(name='Dragonite', index=148, attack=134, defense=95, speed=100, hitpoint=[91, 28], variety=['Dragon', 'Flying'])\n",
      "\n",
      "Natural Enemy Lose!\n",
      "Natural Enemy: Monster(name='Dragonite', index=148, attack=134, defense=95, speed=100, hitpoint=[91, -15], variety=['Dragon', 'Flying'])\n",
      "vs\n",
      "Enemy: Monster(name='Dragonite', index=148, attack=134, defense=95, speed=100, hitpoint=[91, 27], variety=['Dragon', 'Flying'])\n",
      "\n",
      "Natural Enemy Lose!\n",
      "Natural Enemy: Monster(name='Dragonite', index=148, attack=134, defense=95, speed=100, hitpoint=[91, -9], variety=['Dragon', 'Flying'])\n",
      "vs\n",
      "Enemy: Monster(name='Dragonite', index=148, attack=134, defense=95, speed=100, hitpoint=[91, 91], variety=['Dragon', 'Flying'])\n",
      "\n",
      "Natural Enemy Lose!\n",
      "Natural Enemy: Monster(name='Rhydon', index=111, attack=130, defense=120, speed=45, hitpoint=[105, -42], variety=['Ground', 'Rock'])\n",
      "vs\n",
      "Enemy: Monster(name='Rhydon', index=111, attack=130, defense=120, speed=45, hitpoint=[105, 23], variety=['Ground', 'Rock'])\n",
      "\n",
      "Natural Enemy Lose!\n",
      "Natural Enemy: Monster(name='Rhydon', index=111, attack=130, defense=120, speed=45, hitpoint=[105, -24], variety=['Ground', 'Rock'])\n",
      "vs\n",
      "Enemy: Monster(name='Rhydon', index=111, attack=130, defense=120, speed=45, hitpoint=[105, 54], variety=['Ground', 'Rock'])\n",
      "\n",
      "Natural Enemy Lose!\n",
      "Natural Enemy: Monster(name='Dragonite', index=148, attack=134, defense=95, speed=100, hitpoint=[91, -16], variety=['Dragon', 'Flying'])\n",
      "vs\n",
      "Enemy: Monster(name='Dragonite', index=148, attack=134, defense=95, speed=100, hitpoint=[91, 91], variety=['Dragon', 'Flying'])\n",
      "\n",
      "Natural Enemy Lose!\n",
      "Natural Enemy: Monster(name='Dragonite', index=148, attack=134, defense=95, speed=100, hitpoint=[91, -8], variety=['Dragon', 'Flying'])\n",
      "vs\n",
      "Enemy: Monster(name='Dragonite', index=148, attack=134, defense=95, speed=100, hitpoint=[91, 91], variety=['Dragon', 'Flying'])\n",
      "\n",
      "Natural Enemy Lose!\n",
      "Natural Enemy: Monster(name='Kingler', index=98, attack=130, defense=115, speed=50, hitpoint=[55, -7], variety=['Water'])\n",
      "vs\n",
      "Enemy: Monster(name='Kingler', index=98, attack=130, defense=115, speed=50, hitpoint=[55, 24], variety=['Water'])\n",
      "\n",
      "Natural Enemy Lose!\n",
      "Natural Enemy: Monster(name='Kingler', index=98, attack=130, defense=115, speed=50, hitpoint=[55, 0], variety=['Water'])\n",
      "vs\n",
      "Enemy: Monster(name='Kingler', index=98, attack=130, defense=115, speed=50, hitpoint=[55, 3], variety=['Water'])\n",
      "\n",
      "Natural Enemy Lose!\n",
      "Natural Enemy: Monster(name='Rhydon', index=111, attack=130, defense=120, speed=45, hitpoint=[105, -10], variety=['Ground', 'Rock'])\n",
      "vs\n",
      "Enemy: Monster(name='Rhydon', index=111, attack=130, defense=120, speed=45, hitpoint=[105, 40], variety=['Ground', 'Rock'])\n",
      "\n",
      "Natural Enemy Lose!\n",
      "Natural Enemy: Monster(name='Rhydon', index=111, attack=130, defense=120, speed=45, hitpoint=[105, -15], variety=['Ground', 'Rock'])\n",
      "vs\n",
      "Enemy: Monster(name='Cloyster', index=90, attack=95, defense=180, speed=85, hitpoint=[50, 18], variety=['Water', 'Ice'])\n",
      "\n",
      "Natural Enemy Lose!\n",
      "Natural Enemy: Monster(name='Rhydon', index=111, attack=130, defense=120, speed=45, hitpoint=[105, -6], variety=['Ground', 'Rock'])\n",
      "vs\n",
      "Enemy: Monster(name='Rhydon', index=111, attack=130, defense=120, speed=45, hitpoint=[105, 7], variety=['Ground', 'Rock'])\n",
      "\n",
      "Natural Enemy Lose!\n",
      "Natural Enemy: Monster(name='Dragonite', index=148, attack=134, defense=95, speed=100, hitpoint=[91, -10], variety=['Dragon', 'Flying'])\n",
      "vs\n",
      "Enemy: Monster(name='Dragonite', index=148, attack=134, defense=95, speed=100, hitpoint=[91, 19], variety=['Dragon', 'Flying'])\n",
      "\n",
      "Natural Enemy Lose!\n",
      "Natural Enemy: Monster(name='Dragonite', index=148, attack=134, defense=95, speed=100, hitpoint=[91, -29], variety=['Dragon', 'Flying'])\n",
      "vs\n",
      "Enemy: Monster(name='Dragonite', index=148, attack=134, defense=95, speed=100, hitpoint=[91, 91], variety=['Dragon', 'Flying'])\n",
      "\n",
      "Natural Enemy Lose: 112 times.\n"
     ]
    }
   ],
   "source": [
    "k = 10000\n",
    "loss_count = 0\n",
    "ne_loss_list = []\n",
    "for i in range(k):\n",
    "    enemy_id = np.random.randint(len(pokeList))\n",
    "    enemy = pokeList[enemy_id]\n",
    "    natural_enemy = ne_list[enemy_id][0]\n",
    "    result = pf.battle(natural_enemy, enemy, verbose=False)\n",
    "    if result != 0:\n",
    "        loss_count += 1\n",
    "        ne_loss_list.append((natural_enemy, enemy))\n",
    "        print(\"Natural Enemy Lose!\")\n",
    "        print(\"Natural Enemy:\", natural_enemy)\n",
    "        print('vs')\n",
    "        print(\"Enemy:\", enemy)\n",
    "        print()\n",
    "\n",
    "print(f\"Natural Enemy Lose: {loss_count} times.\")"
   ]
  },
  {
   "cell_type": "markdown",
   "metadata": {},
   "source": [
    "天敵を充てても勝てないやつがいる．どいつか？"
   ]
  },
  {
   "cell_type": "code",
   "execution_count": 140,
   "metadata": {},
   "outputs": [
    {
     "data": {
      "text/plain": [
       "{'Dragonite', 'Kingler', 'Rhydon'}"
      ]
     },
     "execution_count": 140,
     "metadata": {},
     "output_type": "execute_result"
    }
   ],
   "source": [
    "set([ne_loss_pair[0].name for ne_loss_pair in ne_loss_list])"
   ]
  },
  {
   "cell_type": "code",
   "execution_count": 143,
   "metadata": {
    "scrolled": true
   },
   "outputs": [
    {
     "name": "stdout",
     "output_type": "stream",
     "text": [
      "148. Natural Enemies to Dragonite\n",
      "1. Dragonite, loss-times: 100 / 100\n",
      "2. Rhydon, loss-times: 100 / 100\n",
      "3. Golem, loss-times: 100 / 100\n",
      "4. Cloyster, loss-times: 97 / 100\n",
      "5. Kabutops, loss-times: 87 / 100\n",
      "6. Graveler, loss-times: 83 / 100\n",
      "\n"
     ]
    },
    {
     "data": {
      "text/plain": [
       "[Monster(name='Dragonite', index=148, attack=134, defense=95, speed=100, hitpoint=[91, 62], variety=['Dragon', 'Flying']),\n",
       " Monster(name='Rhydon', index=111, attack=130, defense=120, speed=45, hitpoint=[105, 105], variety=['Ground', 'Rock']),\n",
       " Monster(name='Golem', index=75, attack=110, defense=130, speed=55, hitpoint=[80, 68], variety=['Rock', 'Ground', 'Electric']),\n",
       " Monster(name='Cloyster', index=90, attack=95, defense=180, speed=85, hitpoint=[50, 28], variety=['Water', 'Ice']),\n",
       " Monster(name='Kabutops', index=140, attack=115, defense=105, speed=70, hitpoint=[60, 34], variety=['Rock', 'Water']),\n",
       " Monster(name='Graveler', index=74, attack=95, defense=115, speed=45, hitpoint=[55, 48], variety=['Rock', 'Ground', 'Electric'])]"
      ]
     },
     "execution_count": 143,
     "metadata": {},
     "output_type": "execute_result"
    }
   ],
   "source": [
    "natural_enemies(pokedex['Dragonite'], k=100, verbose=True)"
   ]
  },
  {
   "cell_type": "code",
   "execution_count": 179,
   "metadata": {},
   "outputs": [
    {
     "name": "stdout",
     "output_type": "stream",
     "text": [
      "Dragonite's ability is\n",
      "\tHP = [91, 91]\n",
      "\tattack = 134\n",
      "\tdefense = 95\n",
      "\tspeed = 100\n",
      "\ttype = ['Dragon', 'Flying']\n",
      "Dragonite's ability is\n",
      "\tHP = [91, 91]\n",
      "\tattack = 134\n",
      "\tdefense = 95\n",
      "\tspeed = 100\n",
      "\ttype = ['Dragon', 'Flying']\n",
      "Dragonite is super Effective against Dragonite\n",
      "Dragonite is super Effective against Dragonite\n",
      "\n",
      "Dragonite received 92 damage from Dragonite and has remaining HP -1\n",
      "\n",
      "Dragonite wins the battle.\n"
     ]
    },
    {
     "data": {
      "text/plain": [
       "1"
      ]
     },
     "execution_count": 179,
     "metadata": {},
     "output_type": "execute_result"
    }
   ],
   "source": [
    "pf.battle(pokedex['Dragonite'], pokedex['Dragonite'], verbose=True)"
   ]
  },
  {
   "cell_type": "markdown",
   "metadata": {},
   "source": [
    "気づいてしまった．同じモンスターはHPを共有するので，相手に攻撃すると自分のHPも減ることになる．  \n",
    "これはpf.battleの変更の必要がある．"
   ]
  },
  {
   "cell_type": "markdown",
   "metadata": {},
   "source": [
    "# What is the strongest Pokemon team?\n",
    "前提\n",
    "- 1チームは6匹のポケモンで構成される\n",
    "- 勝ったポケモンが次のポケモンと戦う\n",
    "- 引き分けの場合，両者敗北とし，それぞれ次のポケモンを戦わせる\n",
    "- 先に相手のポケモン全員に勝った方の勝ち\n",
    "\n",
    "制約\n",
    "- 同じポケモンを編成可能かどうか\n",
    "- 相手のチームがわかっているか\n",
    "\n",
    "まずは\n",
    "- 同じポケモンの編成不可\n",
    "- 相手のチームはわからない\n",
    "\n",
    "という条件で実験を行う．"
   ]
  },
  {
   "cell_type": "markdown",
   "metadata": {},
   "source": [
    "何はともあれチームバトルを行う関数が必要である．"
   ]
  },
  {
   "cell_type": "code",
   "execution_count": 18,
   "metadata": {},
   "outputs": [],
   "source": [
    "def team_battle(team1, team2, battle_num=1, battle=pf.battle, verbose=False, run_first=True):\n",
    "    team_pokemon_num = 6\n",
    "    \n",
    "    team1 = team1.copy()\n",
    "    team2 = team2.copy()\n",
    "    \n",
    "    run_first_limit = math.ceil(battle_num / 2)\n",
    "    \n",
    "    # reset HP\n",
    "    for p in range(team_pokemon_num):\n",
    "        pf.ResetHP(team1[p])\n",
    "        pf.ResetHP(team2[p])\n",
    "    \n",
    "    if verbose:\n",
    "        print(\"\\n======== Team Battle =======\\n\")\n",
    "        print(\"Team1\")\n",
    "        for p in range(team_pokemon_num): print(team1[p])\n",
    "        print()\n",
    "        print(\"Team2\")\n",
    "        for p in range(team_pokemon_num): print(team2[p])\n",
    "        print()\n",
    "    \n",
    "    team1_win = 0\n",
    "    team2_win = 0\n",
    "    \n",
    "    for i in range(battle_num):\n",
    "        if verbose:\n",
    "            print(f\"\\n======= Battle {i + 1} =======\\n\")\n",
    "        \n",
    "        # reset HP\n",
    "        for p in range(team_pokemon_num):\n",
    "            pf.ResetHP(team1[p])\n",
    "            pf.ResetHP(team2[p])\n",
    "        \n",
    "        team1_remain = team_pokemon_num\n",
    "        team2_remain = team_pokemon_num\n",
    "        \n",
    "        # Team Battle Start\n",
    "        while team1_remain > 0 and team2_remain > 0:\n",
    "            p1 = team1[-team1_remain]\n",
    "            p2 = team2[-team2_remain]\n",
    "            \n",
    "            if verbose:\n",
    "                print(f\"{p1.name} vs {p2.name}\")\n",
    "                print(p1)\n",
    "                print(p2)\n",
    "            \n",
    "            result = battle(p1, p2, resetHP=False, verbose=False)\n",
    "            if result == 0: \n",
    "                team2_remain -= 1\n",
    "                if verbose:\n",
    "                    print(f\"team1 {p1.name} win\")\n",
    "            elif result == 1: \n",
    "                team1_remain -= 1\n",
    "                if verbose:\n",
    "                    print(f\"team2 {p2.name} win\")\n",
    "            else:\n",
    "                team1_remain -=1\n",
    "                team2_remain -=1\n",
    "                if verbose:\n",
    "                    print(\"Draw\")\n",
    "            \n",
    "            if verbose:\n",
    "                print(f\"Team1 remain: {team1_remain}\")\n",
    "                print(f\"Team2 remain: {team2_remain}\")\n",
    "                print()\n",
    "        \n",
    "        if team1_remain > team2_remain:\n",
    "            team1_win += 1\n",
    "            if verbose: print(\"Team1 win\")\n",
    "        elif team1_remain < team2_remain:\n",
    "            team2_win += 1\n",
    "            if verbose: print(\"Team2 win\")\n",
    "        else :\n",
    "            if verbose: print(\"Draw\")\n",
    "        \n",
    "        if run_first and (team1_win >= run_first_limit or team2_win >= run_first_limit):\n",
    "            if verbose: print(f\"{run_first_limit} battles run first\")\n",
    "            break\n",
    "    \n",
    "    return (team1_win, team2_win)"
   ]
  },
  {
   "cell_type": "code",
   "execution_count": 19,
   "metadata": {
    "scrolled": true
   },
   "outputs": [
    {
     "data": {
      "text/plain": [
       "(0, 50)"
      ]
     },
     "execution_count": 19,
     "metadata": {},
     "output_type": "execute_result"
    }
   ],
   "source": [
    "team1 = [pokeList[p] for p in np.random.randint(0, len(pokeList),6)]\n",
    "team2 = [pokeList[p] for p in np.random.randint(0, len(pokeList),6)]\n",
    "\n",
    "team_battle(team1, team2, battle_num=100, verbose=True)"
   ]
  },
  {
   "cell_type": "markdown",
   "metadata": {},
   "source": [
    "TeamBattleができるようになったところで最強チームを決めたい．  \n",
    "とりあえず最強チームは総当たりランキング上位6匹にしてみる"
   ]
  },
  {
   "cell_type": "code",
   "execution_count": 20,
   "metadata": {},
   "outputs": [],
   "source": [
    "strongest_team = normal_ranking[:6]"
   ]
  },
  {
   "cell_type": "markdown",
   "metadata": {},
   "source": [
    "こいつがどれだけ他のチームより強いか確かめたいが，チームの組み合わせは100兆を超えるので，総当たりは現実的でない．  \n",
    "組み合わせでも100億=10^10"
   ]
  },
  {
   "cell_type": "code",
   "execution_count": 21,
   "metadata": {},
   "outputs": [
    {
     "data": {
      "text/plain": [
       "11853911588401"
      ]
     },
     "execution_count": 21,
     "metadata": {},
     "output_type": "execute_result"
    }
   ],
   "source": [
    "from itertools import permutations\n",
    "all_teams = permutations(range(len(pokeList)), r=6)\n",
    "151 ** 6"
   ]
  },
  {
   "cell_type": "markdown",
   "metadata": {},
   "source": [
    "組み合わせだと100億=10^10  \n",
    "これも現実的でない"
   ]
  },
  {
   "cell_type": "code",
   "execution_count": 22,
   "metadata": {},
   "outputs": [
    {
     "data": {
      "text/plain": [
       "14888600755.0"
      ]
     },
     "execution_count": 22,
     "metadata": {},
     "output_type": "execute_result"
    }
   ],
   "source": [
    "from itertools import combinations\n",
    "all_teams = combinations(range(len(pokeList)), r=1)\n",
    "151*150*149*148*147*146 / (6*5*4*3*2)"
   ]
  },
  {
   "cell_type": "markdown",
   "metadata": {},
   "source": [
    "とりあえずランダムで戦わせてみる"
   ]
  },
  {
   "cell_type": "code",
   "execution_count": 23,
   "metadata": {},
   "outputs": [],
   "source": [
    "def random_battle(team, challenger_team_num=1000, battle_num=10):\n",
    "    winners = []\n",
    "    for i in range(challenger_team_num):\n",
    "        challenger_team = [pokeList[p] for p in random.sample(range(len(pokeList)),6)]\n",
    "        (team_win, challenger_win) = team_battle(team, challenger_team, battle_num=battle_num)\n",
    "        if team_win < challenger_win: \n",
    "            winners.append(challenger_team.copy())\n",
    "    \n",
    "    return winners"
   ]
  },
  {
   "cell_type": "code",
   "execution_count": 24,
   "metadata": {
    "scrolled": false
   },
   "outputs": [
    {
     "name": "stdout",
     "output_type": "stream",
     "text": [
      "Challenger Win Rate: 3 / 10000\n",
      "\n",
      "Monster(name='Machamp', index=67, attack=130, defense=80, speed=65, hitpoint=[90, 90], variety=['Fighting'])\n",
      "Monster(name='Victreebel', index=70, attack=105, defense=65, speed=100, hitpoint=[80, -16], variety=['Grass', 'Poison'])\n",
      "Monster(name='Kangaskhan', index=114, attack=95, defense=80, speed=40, hitpoint=[105, -28], variety=['Normal'])\n",
      "Monster(name='Rhydon', index=111, attack=130, defense=120, speed=45, hitpoint=[105, -5], variety=['Ground', 'Rock'])\n",
      "Monster(name='Zubat', index=40, attack=45, defense=35, speed=40, hitpoint=[40, -32], variety=['Poison', 'Flying'])\n",
      "Monster(name='Electabuzz', index=124, attack=83, defense=57, speed=85, hitpoint=[65, -28], variety=['Electric'])\n",
      "\n",
      "Monster(name='Machamp', index=67, attack=130, defense=80, speed=65, hitpoint=[90, 90], variety=['Fighting'])\n",
      "Monster(name='Kabuto', index=139, attack=80, defense=90, speed=45, hitpoint=[30, -25], variety=['Rock', 'Water'])\n",
      "Monster(name='Cloyster', index=90, attack=95, defense=180, speed=85, hitpoint=[50, 50], variety=['Water', 'Ice'])\n",
      "Monster(name='Rapidash', index=77, attack=100, defense=70, speed=80, hitpoint=[65, -52], variety=['Fire'])\n",
      "Monster(name='Muk', index=88, attack=105, defense=75, speed=65, hitpoint=[105, -18], variety=['Poison', 'Dark'])\n",
      "Monster(name='Beedrill', index=14, attack=80, defense=40, speed=45, hitpoint=[65, -52], variety=['Bug', 'Poison'])\n",
      "\n",
      "Monster(name='Victreebel', index=70, attack=105, defense=65, speed=100, hitpoint=[80, -16], variety=['Grass', 'Poison'])\n",
      "Monster(name='Goldeen', index=117, attack=67, defense=60, speed=50, hitpoint=[45, -40], variety=['Water'])\n",
      "Monster(name='Cloyster', index=90, attack=95, defense=180, speed=85, hitpoint=[50, 50], variety=['Water', 'Ice'])\n",
      "Monster(name='Charmeleon', index=4, attack=64, defense=58, speed=65, hitpoint=[58, -68], variety=['Fire'])\n",
      "Monster(name='Clefable', index=35, attack=70, defense=73, speed=85, hitpoint=[95, -19], variety=['Fairy'])\n",
      "Monster(name='Mewtwo', index=149, attack=110, defense=90, speed=154, hitpoint=[106, 106], variety=['Psychic'])\n",
      "\n"
     ]
    }
   ],
   "source": [
    "winners = random_battle(strongest_team, challenger_team_num=10000)\n",
    "print(f\"Challenger Win Rate: {len(winners)} / 10000\")\n",
    "print()\n",
    "for w in winners:\n",
    "    for p in w: print(p)\n",
    "    print()"
   ]
  },
  {
   "cell_type": "code",
   "execution_count": 25,
   "metadata": {},
   "outputs": [
    {
     "name": "stdout",
     "output_type": "stream",
     "text": [
      "\n",
      "======== Team Battle =======\n",
      "\n",
      "Team1\n",
      "Monster(name='Kingler', index=98, attack=130, defense=115, speed=50, hitpoint=[55, 55], variety=['Water'])\n",
      "Monster(name='Gyarados', index=129, attack=125, defense=79, speed=100, hitpoint=[95, 95], variety=['Water', 'Flying'])\n",
      "Monster(name='Dragonite', index=148, attack=134, defense=95, speed=100, hitpoint=[91, 91], variety=['Dragon', 'Flying'])\n",
      "Monster(name='Cloyster', index=90, attack=95, defense=180, speed=85, hitpoint=[50, 50], variety=['Water', 'Ice'])\n",
      "Monster(name='Machamp', index=67, attack=130, defense=80, speed=65, hitpoint=[90, 90], variety=['Fighting'])\n",
      "Monster(name='Mewtwo', index=149, attack=110, defense=90, speed=154, hitpoint=[106, 106], variety=['Psychic'])\n",
      "\n",
      "Team2\n",
      "Monster(name='Machamp', index=67, attack=130, defense=80, speed=65, hitpoint=[90, 90], variety=['Fighting'])\n",
      "Monster(name='Victreebel', index=70, attack=105, defense=65, speed=100, hitpoint=[80, 80], variety=['Grass', 'Poison'])\n",
      "Monster(name='Kangaskhan', index=114, attack=95, defense=80, speed=40, hitpoint=[105, 105], variety=['Normal'])\n",
      "Monster(name='Rhydon', index=111, attack=130, defense=120, speed=45, hitpoint=[105, 105], variety=['Ground', 'Rock'])\n",
      "Monster(name='Zubat', index=40, attack=45, defense=35, speed=40, hitpoint=[40, 40], variety=['Poison', 'Flying'])\n",
      "Monster(name='Electabuzz', index=124, attack=83, defense=57, speed=85, hitpoint=[65, 65], variety=['Electric'])\n",
      "\n",
      "\n",
      "======= Battle 1 =======\n",
      "\n",
      "Kingler vs Machamp\n",
      "Monster(name='Kingler', index=98, attack=130, defense=115, speed=50, hitpoint=[55, 55], variety=['Water'])\n",
      "Monster(name='Machamp', index=67, attack=130, defense=80, speed=65, hitpoint=[90, 90], variety=['Fighting'])\n",
      "team1 Kingler win\n",
      "Team1 remain: 6\n",
      "Team2 remain: 5\n",
      "\n",
      "Kingler vs Victreebel\n",
      "Monster(name='Kingler', index=98, attack=130, defense=115, speed=50, hitpoint=[55, 14], variety=['Water'])\n",
      "Monster(name='Victreebel', index=70, attack=105, defense=65, speed=100, hitpoint=[80, 80], variety=['Grass', 'Poison'])\n",
      "team2 Victreebel win\n",
      "Team1 remain: 5\n",
      "Team2 remain: 5\n",
      "\n",
      "Gyarados vs Victreebel\n",
      "Monster(name='Gyarados', index=129, attack=125, defense=79, speed=100, hitpoint=[95, 95], variety=['Water', 'Flying'])\n",
      "Monster(name='Victreebel', index=70, attack=105, defense=65, speed=100, hitpoint=[80, 80], variety=['Grass', 'Poison'])\n",
      "team1 Gyarados win\n",
      "Team1 remain: 5\n",
      "Team2 remain: 4\n",
      "\n",
      "Gyarados vs Kangaskhan\n",
      "Monster(name='Gyarados', index=129, attack=125, defense=79, speed=100, hitpoint=[95, 65], variety=['Water', 'Flying'])\n",
      "Monster(name='Kangaskhan', index=114, attack=95, defense=80, speed=40, hitpoint=[105, 105], variety=['Normal'])\n",
      "team1 Gyarados win\n",
      "Team1 remain: 5\n",
      "Team2 remain: 3\n",
      "\n",
      "Gyarados vs Rhydon\n",
      "Monster(name='Gyarados', index=129, attack=125, defense=79, speed=100, hitpoint=[95, 48], variety=['Water', 'Flying'])\n",
      "Monster(name='Rhydon', index=111, attack=130, defense=120, speed=45, hitpoint=[105, 105], variety=['Ground', 'Rock'])\n",
      "team2 Rhydon win\n",
      "Team1 remain: 4\n",
      "Team2 remain: 3\n",
      "\n",
      "Dragonite vs Rhydon\n",
      "Monster(name='Dragonite', index=148, attack=134, defense=95, speed=100, hitpoint=[91, 91], variety=['Dragon', 'Flying'])\n",
      "Monster(name='Rhydon', index=111, attack=130, defense=120, speed=45, hitpoint=[105, 77], variety=['Ground', 'Rock'])\n",
      "team2 Rhydon win\n",
      "Team1 remain: 3\n",
      "Team2 remain: 3\n",
      "\n",
      "Cloyster vs Rhydon\n",
      "Monster(name='Cloyster', index=90, attack=95, defense=180, speed=85, hitpoint=[50, 50], variety=['Water', 'Ice'])\n",
      "Monster(name='Rhydon', index=111, attack=130, defense=120, speed=45, hitpoint=[105, 51], variety=['Ground', 'Rock'])\n",
      "team2 Rhydon win\n",
      "Team1 remain: 2\n",
      "Team2 remain: 3\n",
      "\n",
      "Machamp vs Rhydon\n",
      "Monster(name='Machamp', index=67, attack=130, defense=80, speed=65, hitpoint=[90, -18], variety=['Fighting'])\n",
      "Monster(name='Rhydon', index=111, attack=130, defense=120, speed=45, hitpoint=[105, 9], variety=['Ground', 'Rock'])\n",
      "team2 Rhydon win\n",
      "Team1 remain: 1\n",
      "Team2 remain: 3\n",
      "\n",
      "Mewtwo vs Rhydon\n",
      "Monster(name='Mewtwo', index=149, attack=110, defense=90, speed=154, hitpoint=[106, 106], variety=['Psychic'])\n",
      "Monster(name='Rhydon', index=111, attack=130, defense=120, speed=45, hitpoint=[105, 9], variety=['Ground', 'Rock'])\n",
      "team2 Rhydon win\n",
      "Team1 remain: 0\n",
      "Team2 remain: 3\n",
      "\n",
      "Team2 win\n",
      "1 battles run first\n"
     ]
    }
   ],
   "source": [
    "if len(winners) > 0:\n",
    "    team_battle(strongest_team, winners[0], verbose=True)"
   ]
  },
  {
   "cell_type": "markdown",
   "metadata": {},
   "source": [
    "この戦いから，Cloysterに対抗できるのはサイドンだけでないことが分かる．  \n",
    "Cloysterからダメージを受けないSlowbroなどのポケモンは，ダメージこそ与えられないがCloysterとドローすることができ，Cloysterを退けられる．  \n",
    "では，Cloysterが前半でやられないよう，最後に持ってくるのはどうか"
   ]
  },
  {
   "cell_type": "code",
   "execution_count": 26,
   "metadata": {},
   "outputs": [
    {
     "name": "stdout",
     "output_type": "stream",
     "text": [
      "Challenger Win Rate: 0 / 1000\n",
      "\n"
     ]
    }
   ],
   "source": [
    "reversed_strongest_team = [strongest_team[i] for i in [1,2,3,4,5,0]]\n",
    "\n",
    "winners = random_battle(reversed_strongest_team)\n",
    "print(f\"Challenger Win Rate: {len(winners)} / 1000\")\n",
    "print()\n",
    "for w in winners:\n",
    "    for p in w: print(p)\n",
    "    print()"
   ]
  },
  {
   "cell_type": "code",
   "execution_count": 27,
   "metadata": {
    "scrolled": true
   },
   "outputs": [],
   "source": [
    "if len(winners) > 0:\n",
    "    team_battle(reversed_strongest_team, winners[0], verbose=True)"
   ]
  },
  {
   "cell_type": "markdown",
   "metadata": {},
   "source": [
    "順番変えても負けるもんは負けた"
   ]
  },
  {
   "cell_type": "markdown",
   "metadata": {},
   "source": [
    "TeamTrainingアルゴリズム\n",
    "\n",
    "1. 最初のチームをランダムで作り，Tとする\n",
    "2. チームTがK回連勝するまで次を繰り返す\n",
    "    1. Tがランダムバトルを行う\n",
    "    2. ランダムバトルでTが負けた場合\n",
    "        1. Tに勝ったチームをTとする\n",
    "        2. 連勝カウントをリセットする\n",
    "3. Tを出力する\n",
    "\n",
    "\n",
    "- 良いところ\n",
    "    - リーズナブルな時間で解が求まる\n",
    "    - どんなバトルのルールにも適用できる\n",
    "    - 実装が簡単でシンプル\n",
    "- 悪いところ\n",
    "    - 本当に最強かどうかはわからない\n",
    "    - kの値を大きくすると時間がかかる\n",
    "    - いつ終わるかわからない\n",
    "        - チームはランダムに選ばれる\n",
    "        - 3すくみのような状態が発生するとループし続ける\n",
    "        - SpeedBattleのように，勝者に決定性があれば収束する"
   ]
  },
  {
   "cell_type": "code",
   "execution_count": 28,
   "metadata": {},
   "outputs": [],
   "source": [
    "def pteam(team):\n",
    "    for p in team: print(p)\n",
    "    print()\n",
    "\n",
    "def team_training(k=10, battle_num=10, battle=SpeedBattle, verbose=False):\n",
    "    pokeidx = range(len(pokeList))\n",
    "    team = [pokeList[p] for p in random.sample(pokeidx,6)]\n",
    "\n",
    "    if verbose: \n",
    "        print(\"======== Initial Team ========\")\n",
    "        pteam(team)\n",
    "\n",
    "    consecutive_win_num = 0\n",
    "    team_count = 1\n",
    "    while consecutive_win_num < k:\n",
    "        \n",
    "        rival = [pokeList[p] for p in random.sample(pokeidx,6)]\n",
    "        (team_win, rival_win) = team_battle(team, rival, battle=battle, battle_num=battle_num)\n",
    "        \n",
    "        if team_win < rival_win: \n",
    "            team = rival\n",
    "\n",
    "            if verbose:\n",
    "                print(f\"======== {team_count}-th New Team =======\")\n",
    "                pteam(team)\n",
    "\n",
    "            consecutive_win_num = 0\n",
    "            team_count += 1\n",
    "        else: \n",
    "            consecutive_win_num += 1\n",
    "    \n",
    "    if verbose:\n",
    "        print(f\"======== {team_count-1}-th team is the strongest team ========\")\n",
    "        pteam(team)\n",
    "\n",
    "    return team, team_count-1"
   ]
  },
  {
   "cell_type": "code",
   "execution_count": 29,
   "metadata": {},
   "outputs": [
    {
     "name": "stdout",
     "output_type": "stream",
     "text": [
      "======== 65-th team is the strongest team ========\n",
      "Monster(name='Sandshrew', index=26, attack=75, defense=85, speed=30, hitpoint=[50, 50], variety=['Ground', 'Steel'])\n",
      "Monster(name='Pidgeot', index=17, attack=80, defense=75, speed=70, hitpoint=[83, 83], variety=['Normal', 'Flying'])\n",
      "Monster(name='Kingler', index=98, attack=130, defense=115, speed=50, hitpoint=[55, 55], variety=['Water'])\n",
      "Monster(name='Cloyster', index=90, attack=95, defense=180, speed=85, hitpoint=[50, 50], variety=['Water', 'Ice'])\n",
      "Monster(name='Nidorino', index=32, attack=72, defense=57, speed=55, hitpoint=[61, 61], variety=['Poison'])\n",
      "Monster(name='Geodude', index=73, attack=80, defense=100, speed=30, hitpoint=[40, 40], variety=['Rock', 'Ground', 'Electric'])\n",
      "\n",
      "Training Team Elapsed Time:  0.1655871868133545\n"
     ]
    }
   ],
   "source": [
    "start_time = time.time()\n",
    "strongest_team, team_count = team_training(k=100)\n",
    "end_time = time.time()\n",
    "\n",
    "print(f\"======== {team_count-1}-th team is the strongest team ========\")\n",
    "\n",
    "pteam(strongest_team)\n",
    "\n",
    "print(\"Training Team Elapsed Time: \", end_time - start_time)"
   ]
  },
  {
   "cell_type": "markdown",
   "metadata": {},
   "source": [
    "TeamTrainingアルゴリズムではk=10000の場合だといつまで経っても収束しない．  \n",
    "そもそもタイプの問題があるので，どんなチームにも勝てるチーム，というのは存在しない．  \n",
    "例えば，3つのチームが3すくみの関係にある場合，各イテレーションでそれぞれ苦手なチームが出現したらいつまで経っても終わらない．  \n",
    "そこで，最強チームを複数選び出すようアルゴリズムを改良する  \n",
    "<br><br>\n",
    "S-TeamTrainingアルゴリズム\n",
    "1. 最初に$S$個のチームをランダムで作り，$T_1, T_2, ..., T_S$とする\n",
    "2. チーム$T_1, T_2, ..., T_S$のいずれかが勝利することが連続で$K$回起こるまで次を繰り返す\n",
    "    1. $T_1, T_2, ..., T_S$がそれぞれランダムに選ばれた対戦相手$T_N$とバトルを行う\n",
    "    2. ランダムバトルで$T_1, T_2, ..., T_S$のうち，$\\frac{S}{R}$のチーム($R>0$)が，$T_N$に勝てなかった場合\n",
    "        1. $T_1, T_2, ..., T_S$で総当たり戦を行う\n",
    "        2. $T_1, T_2, ..., T_S$で最も勝利回数が少なかったチームを$T_N$と入れ替える\n",
    "        3. 連勝カウントをリセットする\n",
    "3. $T_1, T_2, ..., T_S$を出力する\n",
    "\n",
    "<br>\n",
    "- アルゴリズムのいいところ\n",
    "    - Kの値を大きくしても，Sの値を一緒に大きくすれば現実的な時間で解が求まりやすくなる\n",
    "- アルゴリズムのよくないところ\n",
    "    - 実装がやや複雑\n",
    "    - Rを大きくすると時間がかかる\n",
    "    - 「最強」は決められない．"
   ]
  },
  {
   "cell_type": "code",
   "execution_count": 30,
   "metadata": {},
   "outputs": [],
   "source": [
    "def pteams(teams):\n",
    "    for i, team in enumerate(teams):\n",
    "        print(f\"team{i+1}\")\n",
    "        pteam(team)\n",
    "\n",
    "def domestic_battle(teams, battle):\n",
    "    teams_win_counts = []\n",
    "    for t1 in range(len(teams)):\n",
    "        team_win_count = 0\n",
    "        for t2 in range(t1+1, len(teams)):\n",
    "            (t1_win, t2_win) = team_battle(teams[t1], teams[t2], battle=battle)\n",
    "            if t1_win > t2_win: team_win_count += 1\n",
    "        teams_win_counts.append(team_win_count)\n",
    "\n",
    "    return teams_win_counts\n",
    "        \n",
    "def s_team_training(s=3, k=10, r=1, initial_team=None, battle_num=10, battle=SpeedBattle, verbose=False):\n",
    "    pokeidx = range(len(pokeList))\n",
    "    get_team = lambda : [pokeList[p] for p in random.sample(pokeidx, 6)]\n",
    "    \n",
    "    if initial_team is not None:\n",
    "        teams = [initial_team[i] for i in range(s)]\n",
    "    else:\n",
    "        teams = [get_team() for i in range(s)]\n",
    "\n",
    "    if verbose: \n",
    "        print(\"======== Initial Teams ========\")\n",
    "        pteams(teams)\n",
    "\n",
    "    consecutive_win_num = 0\n",
    "    team_count = 1\n",
    "    while consecutive_win_num < k:\n",
    "        \n",
    "        rival = [pokeList[p] for p in random.sample(pokeidx,6)]\n",
    "        \n",
    "        results = []\n",
    "        for team in teams:\n",
    "            (team_win, rival_win) = team_battle(team, rival, battle=battle, battle_num=battle_num)\n",
    "            results.append(team_win <= rival_win)\n",
    "            \n",
    "        \n",
    "        if sum(results) >= round(s / r):\n",
    "            \n",
    "            teams_win_counts = domestic_battle(teams, battle)\n",
    "            \n",
    "            teams[np.argmin(teams_win_counts)] = rival\n",
    "\n",
    "            if verbose:\n",
    "                print(f\"======== {team_count}-th New Teams =======\")\n",
    "                pteams(teams)\n",
    "\n",
    "            consecutive_win_num = 0\n",
    "            team_count += 1\n",
    "        else: \n",
    "            consecutive_win_num += 1\n",
    "    \n",
    "    if verbose:\n",
    "        print(f\"======== {team_count-1}-th teams are the strongest teams ========\")\n",
    "        pteams(teams)\n",
    "\n",
    "    return teams, team_count-1"
   ]
  },
  {
   "cell_type": "code",
   "execution_count": 31,
   "metadata": {
    "scrolled": false
   },
   "outputs": [
    {
     "name": "stdout",
     "output_type": "stream",
     "text": [
      "Elapsed Time for s-Team Training Algorithm of k=10: 1.9358270168304443[sec] \n",
      "\n",
      "======== 2-th teams are the strongest teams ========\n",
      "team1\n",
      "Monster(name='Victreebel', index=70, attack=105, defense=65, speed=100, hitpoint=[80, -14], variety=['Grass', 'Poison'])\n",
      "Monster(name='Nidorina', index=29, attack=62, defense=67, speed=55, hitpoint=[70, -1], variety=['Poison'])\n",
      "Monster(name='Rhydon', index=111, attack=130, defense=120, speed=45, hitpoint=[105, 75], variety=['Ground', 'Rock'])\n",
      "Monster(name='Mew', index=150, attack=100, defense=100, speed=100, hitpoint=[100, 100], variety=['Psychic'])\n",
      "Monster(name='Ivysaur', index=1, attack=62, defense=63, speed=80, hitpoint=[60, 60], variety=['Grass', 'Poison'])\n",
      "Monster(name='Golem', index=75, attack=110, defense=130, speed=55, hitpoint=[80, 80], variety=['Rock', 'Ground', 'Electric'])\n",
      "\n",
      "team2\n",
      "Monster(name='Onix', index=94, attack=45, defense=160, speed=30, hitpoint=[35, 35], variety=['Rock', 'Ground'])\n",
      "Monster(name='Drowzee', index=95, attack=48, defense=45, speed=90, hitpoint=[60, 0], variety=['Psychic'])\n",
      "Monster(name='Omastar', index=138, attack=60, defense=125, speed=115, hitpoint=[70, 0], variety=['Rock', 'Water'])\n",
      "Monster(name='Rhydon', index=111, attack=130, defense=120, speed=45, hitpoint=[105, 75], variety=['Ground', 'Rock'])\n",
      "Monster(name='Gyarados', index=129, attack=125, defense=79, speed=100, hitpoint=[95, 95], variety=['Water', 'Flying'])\n",
      "Monster(name='Venonat', index=47, attack=55, defense=50, speed=40, hitpoint=[60, 60], variety=['Bug', 'Poison'])\n",
      "\n",
      "team3\n",
      "Monster(name='Graveler', index=74, attack=95, defense=115, speed=45, hitpoint=[55, -13], variety=['Rock', 'Ground', 'Electric'])\n",
      "Monster(name='Dragonite', index=148, attack=134, defense=95, speed=100, hitpoint=[91, 91], variety=['Dragon', 'Flying'])\n",
      "Monster(name='Lickitung', index=107, attack=55, defense=75, speed=60, hitpoint=[90, 90], variety=['Normal'])\n",
      "Monster(name='Seel', index=85, attack=45, defense=55, speed=70, hitpoint=[65, 65], variety=['Water'])\n",
      "Monster(name='Nidoking', index=33, attack=92, defense=77, speed=75, hitpoint=[81, 81], variety=['Poison', 'Ground'])\n",
      "Monster(name='Arbok', index=23, attack=85, defense=69, speed=65, hitpoint=[60, 60], variety=['Poison'])\n",
      "\n"
     ]
    }
   ],
   "source": [
    "try:\n",
    "    # raise Exception # For creating new pickle data\n",
    "    with open('data/strongest_teams.pkl', 'rb') as f:\n",
    "        strongest_teams = pickle.load(f)\n",
    "        print('normal result is loaded from the pickle file')\n",
    "except:\n",
    "    k = 10\n",
    "    \n",
    "    start_time = time.time()\n",
    "    strongest_teams, team_count = s_team_training(k=k, battle=pf.battle)\n",
    "    end_time = time.time()\n",
    "\n",
    "    print(f\"Elapsed Time for s-Team Training Algorithm of k={k}: {end_time-start_time}[sec] \\n\")\n",
    "    print(f\"======== {team_count}-th teams are the strongest teams ========\")\n",
    "    pteams(strongest_teams)\n",
    "    \n",
    "    with open('data/strongest_teams.pkl', mode='wb') as f:\n",
    "        pickle.dump(strongest_teams, f)"
   ]
  },
  {
   "cell_type": "code",
   "execution_count": 32,
   "metadata": {},
   "outputs": [
    {
     "data": {
      "text/plain": [
       "[0, 1, 0]"
      ]
     },
     "execution_count": 32,
     "metadata": {},
     "output_type": "execute_result"
    }
   ],
   "source": [
    "domestic_battle(strongest_teams, SpeedBattle)"
   ]
  },
  {
   "cell_type": "code",
   "execution_count": 33,
   "metadata": {},
   "outputs": [
    {
     "name": "stdout",
     "output_type": "stream",
     "text": [
      "[142 100   0]\n"
     ]
    }
   ],
   "source": [
    "results = np.zeros(3, dtype='i')\n",
    "for i in range(100):\n",
    "    results += domestic_battle(strongest_teams, pf.battle)\n",
    "print(results)"
   ]
  },
  {
   "cell_type": "markdown",
   "metadata": {},
   "source": [
    "team0やっぱり強いみたい"
   ]
  },
  {
   "cell_type": "code",
   "execution_count": 34,
   "metadata": {},
   "outputs": [
    {
     "data": {
      "text/plain": [
       "[Monster(name='Victreebel', index=70, attack=105, defense=65, speed=100, hitpoint=[80, -21], variety=['Grass', 'Poison']),\n",
       " Monster(name='Nidorina', index=29, attack=62, defense=67, speed=55, hitpoint=[70, -57], variety=['Poison']),\n",
       " Monster(name='Rhydon', index=111, attack=130, defense=120, speed=45, hitpoint=[105, 105], variety=['Ground', 'Rock']),\n",
       " Monster(name='Mew', index=150, attack=100, defense=100, speed=100, hitpoint=[100, 100], variety=['Psychic']),\n",
       " Monster(name='Ivysaur', index=1, attack=62, defense=63, speed=80, hitpoint=[60, 60], variety=['Grass', 'Poison']),\n",
       " Monster(name='Golem', index=75, attack=110, defense=130, speed=55, hitpoint=[80, 80], variety=['Rock', 'Ground', 'Electric'])]"
      ]
     },
     "execution_count": 34,
     "metadata": {},
     "output_type": "execute_result"
    }
   ],
   "source": [
    "strongest_teams[0]"
   ]
  },
  {
   "cell_type": "code",
   "execution_count": 35,
   "metadata": {},
   "outputs": [
    {
     "name": "stdout",
     "output_type": "stream",
     "text": [
      "Monster(name='Cloyster', index=90, attack=95, defense=180, speed=85, hitpoint=[50, 50], variety=['Water', 'Ice'])\n",
      "Monster(name='Kingler', index=98, attack=130, defense=115, speed=50, hitpoint=[55, 55], variety=['Water'])\n",
      "Monster(name='Gyarados', index=129, attack=125, defense=79, speed=100, hitpoint=[95, -25], variety=['Water', 'Flying'])\n",
      "Monster(name='Mewtwo', index=149, attack=110, defense=90, speed=154, hitpoint=[106, 36], variety=['Psychic'])\n",
      "Monster(name='Dragonite', index=148, attack=134, defense=95, speed=100, hitpoint=[91, 71], variety=['Dragon', 'Flying'])\n",
      "Monster(name='Mew', index=150, attack=100, defense=100, speed=100, hitpoint=[100, -1], variety=['Psychic'])\n",
      "\n"
     ]
    },
    {
     "data": {
      "text/plain": [
       "(500, 4)"
      ]
     },
     "execution_count": 35,
     "metadata": {},
     "output_type": "execute_result"
    }
   ],
   "source": [
    "normal_result_team = normal_ranking[:6]\n",
    "pteam(normal_result_team)\n",
    "team_battle(normal_result_team, strongest_teams[1], battle_num=1000)"
   ]
  },
  {
   "cell_type": "markdown",
   "metadata": {},
   "source": [
    "それでもやっぱり最強チームには勝てない"
   ]
  },
  {
   "cell_type": "markdown",
   "metadata": {},
   "source": [
    "初期チームを最強チームにしてみる？"
   ]
  },
  {
   "cell_type": "code",
   "execution_count": 37,
   "metadata": {},
   "outputs": [
    {
     "name": "stdout",
     "output_type": "stream",
     "text": [
      "Elapsed Time for s-Team Training Algorithm of k=10000: 128.13062024116516[sec] \n",
      "\n",
      "======== 0-th teams are the strongest teams ========\n",
      "team1\n",
      "Monster(name='Mewtwo', index=149, attack=110, defense=90, speed=154, hitpoint=[106, 106], variety=['Psychic'])\n",
      "Monster(name='Cloyster', index=90, attack=95, defense=180, speed=85, hitpoint=[50, 50], variety=['Water', 'Ice'])\n",
      "Monster(name='Dragonite', index=148, attack=134, defense=95, speed=100, hitpoint=[91, 91], variety=['Dragon', 'Flying'])\n",
      "Monster(name='Kingler', index=98, attack=130, defense=115, speed=50, hitpoint=[55, 55], variety=['Water'])\n",
      "Monster(name='Gyarados', index=129, attack=125, defense=79, speed=100, hitpoint=[95, 95], variety=['Water', 'Flying'])\n",
      "Monster(name='Mew', index=150, attack=100, defense=100, speed=100, hitpoint=[100, 100], variety=['Psychic'])\n",
      "\n",
      "team2\n",
      "Monster(name='Cloyster', index=90, attack=95, defense=180, speed=85, hitpoint=[50, 50], variety=['Water', 'Ice'])\n",
      "Monster(name='Gyarados', index=129, attack=125, defense=79, speed=100, hitpoint=[95, 95], variety=['Water', 'Flying'])\n",
      "Monster(name='Mew', index=150, attack=100, defense=100, speed=100, hitpoint=[100, 100], variety=['Psychic'])\n",
      "Monster(name='Dragonite', index=148, attack=134, defense=95, speed=100, hitpoint=[91, 91], variety=['Dragon', 'Flying'])\n",
      "Monster(name='Kingler', index=98, attack=130, defense=115, speed=50, hitpoint=[55, 55], variety=['Water'])\n",
      "Monster(name='Mewtwo', index=149, attack=110, defense=90, speed=154, hitpoint=[106, 106], variety=['Psychic'])\n",
      "\n",
      "team3\n",
      "Monster(name='Kingler', index=98, attack=130, defense=115, speed=50, hitpoint=[55, 55], variety=['Water'])\n",
      "Monster(name='Cloyster', index=90, attack=95, defense=180, speed=85, hitpoint=[50, 50], variety=['Water', 'Ice'])\n",
      "Monster(name='Dragonite', index=148, attack=134, defense=95, speed=100, hitpoint=[91, 91], variety=['Dragon', 'Flying'])\n",
      "Monster(name='Mewtwo', index=149, attack=110, defense=90, speed=154, hitpoint=[106, 106], variety=['Psychic'])\n",
      "Monster(name='Gyarados', index=129, attack=125, defense=79, speed=100, hitpoint=[95, 95], variety=['Water', 'Flying'])\n",
      "Monster(name='Mew', index=150, attack=100, defense=100, speed=100, hitpoint=[100, 100], variety=['Psychic'])\n",
      "\n"
     ]
    }
   ],
   "source": [
    "s = 3\n",
    "k = 10000\n",
    "initial_team = [normal_result_team.copy() for i in range(s)]\n",
    "for team in initial_team: random.shuffle(team)\n",
    "\n",
    "start_time = time.time()\n",
    "strongest_teams, team_count = s_team_training(k=k, initial_team=initial_team, battle=pf.battle)\n",
    "end_time = time.time()\n",
    "\n",
    "print(f\"Elapsed Time for s-Team Training Algorithm of k={k}: {end_time-start_time}[sec] \\n\")\n",
    "print(f\"======== {team_count}-th teams are the strongest teams ========\")\n",
    "pteams(strongest_teams)"
   ]
  },
  {
   "cell_type": "markdown",
   "metadata": {},
   "source": [
    "N時間かけてアルゴリズムを回してみても結局最強チームは最強チームっぽい  "
   ]
  },
  {
   "cell_type": "markdown",
   "metadata": {},
   "source": [
    "## If we know the enemy team\n",
    "- とりあえず一番強いやつを重要視したほうが良いかも\n",
    "- 大体パルシェンで勝てる気がする\n",
    "- 相手一体一体に対して，天敵ポケモンを6体，同じ順番でぶつけてやる\n",
    "- すでに天敵ポケモンがチームにいれば，次のランクの天敵ポケモンを配置\n",
    "- 全員相手しているのでは大変なので，有利なタイプ，相手にダメージを与えられることがわかっているポケモンから選ぶ\n",
    "    - 攻撃力，防御力，HPによる指標を作っても良いかも\n",
    "    - 同率はnormal_ranking順\n",
    "    ポケモンそれぞれに天敵となるポケモンの表をあらかじめ作っておけば定数オーダーで作れる"
   ]
  },
  {
   "cell_type": "markdown",
   "metadata": {},
   "source": [
    "## If we can add same monsters in a team\n",
    "やっパルシェン？  \n",
    "しかしパルシェン対策にサイドンを入れる必要ありそう"
   ]
  },
  {
   "cell_type": "markdown",
   "metadata": {},
   "source": [
    "## If we know the enemy team and can add same monsters in a team"
   ]
  }
 ],
 "metadata": {
  "kernelspec": {
   "display_name": "Python 3",
   "language": "python",
   "name": "python3"
  },
  "language_info": {
   "codemirror_mode": {
    "name": "ipython",
    "version": 3
   },
   "file_extension": ".py",
   "mimetype": "text/x-python",
   "name": "python",
   "nbconvert_exporter": "python",
   "pygments_lexer": "ipython3",
   "version": "3.6.5"
  }
 },
 "nbformat": 4,
 "nbformat_minor": 2
}
