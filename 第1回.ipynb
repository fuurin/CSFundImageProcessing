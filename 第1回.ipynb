{
 "cells": [
  {
   "cell_type": "markdown",
   "metadata": {},
   "source": [
    "yagodiezdonoso@gmail.com  \n",
    "CS B Tohoku  \n",
    "徳山研の803に普段はいらっしゃる"
   ]
  },
  {
   "cell_type": "markdown",
   "metadata": {},
   "source": [
    "ガイダンス，先生の紹介＋Pythonの基礎  \n",
    "Anacondaは使いたくなかったのでvenv + jupyter notebook"
   ]
  },
  {
   "cell_type": "markdown",
   "metadata": {},
   "source": [
    "OpenCVのチュートリアル  \n",
    "https://www.sejuku.net/blog/54272  \n",
    "Qiita  \n",
    "https://qiita.com/fukuit/items/7fe137ac07654556cf87"
   ]
  },
  {
   "cell_type": "markdown",
   "metadata": {},
   "source": [
    "宿題は誰かとやるときは一緒にやった人の名前をコードに書き入れること  \n",
    "コードの内容は質問を受けることもある．  \n",
    "参考にした質問サイトなども書いておくと良い"
   ]
  },
  {
   "cell_type": "markdown",
   "metadata": {},
   "source": [
    "day2: modelling?  \n",
    "day3: Morphological operators, blob detectors, automatic handwritten kanji detection, OpenCV  \n",
    "day4: feature detectors, feature matching/tracking, applications for video processing  \n",
    "day5: deep learning, brief introduction to ai, image classification, secmentation, no practice in this class, essay, and so on  "
   ]
  },
  {
   "cell_type": "code",
   "execution_count": 1,
   "metadata": {},
   "outputs": [
    {
     "name": "stdout",
     "output_type": "stream",
     "text": [
      "Hello World\n"
     ]
    }
   ],
   "source": [
    "print(\"Hello World\")"
   ]
  },
  {
   "cell_type": "markdown",
   "metadata": {},
   "source": [
    "プログラムによってはsys argvを使って，コマンドライン上から引数を渡すこともある．  \n",
    "https://note.nkmk.me/python-command-line-arguments/"
   ]
  },
  {
   "cell_type": "code",
   "execution_count": 10,
   "metadata": {},
   "outputs": [],
   "source": [
    "import sys\n",
    "# sys.argv[1] # The First Command Line Argument"
   ]
  },
  {
   "cell_type": "code",
   "execution_count": 19,
   "metadata": {},
   "outputs": [
    {
     "name": "stdout",
     "output_type": "stream",
     "text": [
      "x: 5\n",
      "y: 5\n",
      "count up x\n",
      "x: 6\n",
      "y: 5\n"
     ]
    }
   ],
   "source": [
    "# 変数のコピーは「値のコピー」\n",
    "x = 5\n",
    "y = x\n",
    "\n",
    "print(\"x:\", x)\n",
    "print(\"y:\", y)\n",
    "\n",
    "print(\"count up x\")\n",
    "x = x+1\n",
    "\n",
    "print(\"x:\", x)\n",
    "print(\"y:\", y)"
   ]
  },
  {
   "cell_type": "code",
   "execution_count": 3,
   "metadata": {},
   "outputs": [],
   "source": [
    "# 変数はimmutable. したがって\n",
    "# x++\n",
    "# なんてものはない"
   ]
  },
  {
   "cell_type": "code",
   "execution_count": 4,
   "metadata": {
    "scrolled": true
   },
   "outputs": [
    {
     "name": "stdout",
     "output_type": "stream",
     "text": [
      "a: [1, 2, 3]\n",
      "b: [1, 2, 3]\n",
      "\n",
      "count up a[0]\n",
      "a: [2, 2, 3]\n",
      "b: [2, 2, 3]\n",
      "\n",
      "count up a[1]\n",
      "a: [2, 3, 3]\n",
      "b: [2, 3, 3]\n",
      "c: [2, 2, 3]\n"
     ]
    }
   ],
   "source": [
    "# 配列のコピーは「参照のコピー」\n",
    "a = [1,2,3]\n",
    "b = a\n",
    "\n",
    "print(\"a:\", a)\n",
    "print(\"b:\", b)\n",
    "\n",
    "print(\"\\ncount up a[0]\")\n",
    "a[0] += 1\n",
    "\n",
    "print(\"a:\", a)\n",
    "print(\"b:\", b)\n",
    "\n",
    "c = a.copy() # 値のコピー(ディープコピー)\n",
    "print(\"\\ncount up a[1]\")\n",
    "a[1] += 1\n",
    "\n",
    "print(\"a:\", a)\n",
    "print(\"b:\", b)\n",
    "print(\"c:\", c)"
   ]
  },
  {
   "cell_type": "code",
   "execution_count": 8,
   "metadata": {},
   "outputs": [
    {
     "name": "stdout",
     "output_type": "stream",
     "text": [
      "2\n",
      "-1\n"
     ]
    }
   ],
   "source": [
    "import numpy as np\n",
    "L = np.array([5,3,7,-1,122,15,-3,2,55,16,4,5])\n",
    "\n",
    "# negative value count\n",
    "print(len(L[L<0]))\n",
    "\n",
    "# first negative value search\n",
    "print(L[L<0][0])"
   ]
  },
  {
   "cell_type": "code",
   "execution_count": 20,
   "metadata": {},
   "outputs": [
    {
     "name": "stdout",
     "output_type": "stream",
     "text": [
      "True\n",
      "False\n"
     ]
    }
   ],
   "source": [
    "myList = ['c', 'g', 'a', 'm', 'h', 'a7']\n",
    "\n",
    "# check exist of 'a'\n",
    "print('a' in myList)\n",
    "\n",
    "# check exist of 'b'\n",
    "print('b' in myList)"
   ]
  },
  {
   "cell_type": "code",
   "execution_count": 21,
   "metadata": {},
   "outputs": [],
   "source": [
    "# python debugging ways\n",
    "# import pdb; pdb.set_trace()\n",
    "# print(target)"
   ]
  },
  {
   "cell_type": "code",
   "execution_count": 27,
   "metadata": {},
   "outputs": [
    {
     "data": {
      "text/plain": [
       "['def']"
      ]
     },
     "execution_count": 27,
     "metadata": {},
     "output_type": "execute_result"
    }
   ],
   "source": [
    "# check sharing string\n",
    "l1 = ['abc', 'def', 'ghi']\n",
    "l2 = ['a', 'b', 'r', 'afc', 'def']\n",
    "\n",
    "list(set(l1) & set(l2))"
   ]
  },
  {
   "cell_type": "code",
   "execution_count": 30,
   "metadata": {},
   "outputs": [
    {
     "name": "stdout",
     "output_type": "stream",
     "text": [
      "There are 2 negative numbers in the list.\n"
     ]
    }
   ],
   "source": [
    "# Homework\n",
    "# Counts negative numbers in a list\n",
    "def negativeNumbers(lst):\n",
    "    lst = np.array(lst)\n",
    "    return len(lst[lst<0])\n",
    "\n",
    "lst = [5,3,7,-1,122,15,-3,2,55,16,4,5]\n",
    "print(\"There are %d negative numbers in the list.\" % negativeNumbers(lst))"
   ]
  },
  {
   "cell_type": "code",
   "execution_count": 33,
   "metadata": {},
   "outputs": [
    {
     "name": "stdout",
     "output_type": "stream",
     "text": [
      "There are 2 pairs of same boolean value in the list.\n",
      "There are 0 pairs of same boolean value in the list.\n"
     ]
    }
   ],
   "source": [
    "# Count True, True Or False, False\n",
    "def sameBooleans(lst):\n",
    "    if(len(lst) < 2): return 0\n",
    "    counter = 0\n",
    "    for idx in range(len(lst) - 1):\n",
    "        if lst[idx] == lst[idx+1]:\n",
    "            counter += 1\n",
    "    return counter\n",
    "\n",
    "blist1 = [True, False, True, True, False, False, True]\n",
    "blist2 = [True]\n",
    "\n",
    "print(\"There are %d pairs of same boolean value in blist1.\" % sameBooleans(blist1))\n",
    "print(\"There are %d pairs of same boolean value in blist2.\" % sameBooleans(blist2))"
   ]
  },
  {
   "cell_type": "code",
   "execution_count": 48,
   "metadata": {},
   "outputs": [
    {
     "name": "stdout",
     "output_type": "stream",
     "text": [
      "glist1 is growing\n",
      "glist2 is not growing\n"
     ]
    }
   ],
   "source": [
    "# Check whether a list is always growing\n",
    "def growing(lst):\n",
    "    prev = lst[0]\n",
    "    lst = lst[1:]\n",
    "    for n in lst:\n",
    "        if prev > n: return False\n",
    "        prev = n\n",
    "    return True\n",
    "\n",
    "glist1 = [1,3,5,5,7,9,10]\n",
    "glist2 = [0,1,2,6,1,8,9]\n",
    "\n",
    "print(\"glist1 is\", \"growing\" if growing(glist1) else \"not growing\")\n",
    "print(\"glist2 is\", \"growing\" if growing(glist2) else \"not growing\")"
   ]
  },
  {
   "cell_type": "code",
   "execution_count": 69,
   "metadata": {},
   "outputs": [
    {
     "name": "stdout",
     "output_type": "stream",
     "text": [
      "The length of the fibonnacci of flist1: 9 whole the list is fibonnacci\n",
      "The length of the fibonnacci of flist2: 6 \n",
      "The length of the fibonnacci of flist3: 0 \n",
      "The length of the fibonnacci of flist4: 1 \n"
     ]
    }
   ],
   "source": [
    "# Check whether the given list is a Fibonnacci．\n",
    "# 途中で途切れていれば，どこまでFibonnacciが続いてるかを出力\n",
    "def fibonnacciLength(lst):\n",
    "    fibo = [1, 1]\n",
    "    counter = 0\n",
    "    for n in lst:\n",
    "        if fibo[-1] != n: return counter\n",
    "        counter += 1\n",
    "        if counter >= 2:\n",
    "            fibo.append(fibo[counter-1] + fibo[counter-2])\n",
    "    return counter\n",
    "\n",
    "flist1 = [1,1,2,3,5,8,13,21,34]\n",
    "flist2 = [1,1,2,3,5,8,14,21,34]\n",
    "flist3 = [0,1,2,3,5,8,13,21,34]\n",
    "flist4 = [1,0,2,3,5,8,13,21,34]\n",
    "\n",
    "flist_num = fibonnacciLength(flist1)\n",
    "print(\"The length of the fibonnacci of flist1:\", flist_num, \"whole the list is fibonnacci\" if len(flist1) == flist_num else \"\")\n",
    "flist_num = fibonnacciLength(flist2)\n",
    "print(\"The length of the fibonnacci of flist2:\", flist_num, \"whole the list is fibonnacci\" if len(flist2) == flist_num else \"\")\n",
    "flist_num = fibonnacciLength(flist3)\n",
    "print(\"The length of the fibonnacci of flist3:\", flist_num, \"whole the list is fibonnacci\" if len(flist3) == flist_num else \"\")\n",
    "flist_num = fibonnacciLength(flist4)\n",
    "print(\"The length of the fibonnacci of flist4:\", flist_num, \"whole the list is fibonnacci\" if len(flist4) == flist_num else \"\")"
   ]
  },
  {
   "cell_type": "code",
   "execution_count": 47,
   "metadata": {},
   "outputs": [
    {
     "name": "stdout",
     "output_type": "stream",
     "text": [
      "The lists lst1 and lst2 are same\n",
      "The lists lst1 and lst3 are not same\n"
     ]
    }
   ],
   "source": [
    "# check if two lists are equal\n",
    "lst1 = [1,2,3]\n",
    "lst2 = [1,2,3]\n",
    "lst3 = [1,1,3]\n",
    "print(\"The lists lst1 and lst2 are\", \"same\" if(lst1 == lst2) else \"not same\")\n",
    "print(\"The lists lst1 and lst3 are\", \"same\" if(lst1 == lst3) else \"not same\")"
   ]
  },
  {
   "cell_type": "code",
   "execution_count": 62,
   "metadata": {},
   "outputs": [
    {
     "name": "stdout",
     "output_type": "stream",
     "text": [
      "Average of L:  19.166666666666668\n"
     ]
    }
   ],
   "source": [
    "# AVERAGE\n",
    "L = np.array([5,3,7,-1,122,15,-3,2,55,16,4,5])\n",
    "print(\"Average of L: \", L.mean())"
   ]
  },
  {
   "cell_type": "code",
   "execution_count": 76,
   "metadata": {},
   "outputs": [
    {
     "name": "stdout",
     "output_type": "stream",
     "text": [
      "There is a same string at the same position in l1 and l2\n",
      "There is 'not' a same string at the same positionin l1 and l3\n"
     ]
    }
   ],
   "source": [
    "# Check If there is a same string at the same position\n",
    "l1 = ['abc', 'def', 'ghi']\n",
    "l2 = ['a', 'b', 'ghi', 'afc', 'def']\n",
    "l3 = ['c', 'ghi', 'z']\n",
    "\n",
    "def sameStringAtSamePosition(lst1, lst2):\n",
    "    for n1, n2 in zip(lst1, lst2):\n",
    "        if n1 == n2: return True\n",
    "    return False\n",
    "    \n",
    "print(\"There is %sa same string at the same position in l1 and l2\" % (\"\" if sameStringAtSamePosition(l1, l2) else \"not\"))\n",
    "print(\"There is %sa same string at the same positionin l1 and l3\" % (\"\" if sameStringAtSamePosition(l1, l3) else \"'not' \"))"
   ]
  },
  {
   "cell_type": "code",
   "execution_count": 60,
   "metadata": {},
   "outputs": [
    {
     "name": "stdout",
     "output_type": "stream",
     "text": [
      "invert l1 ['ghi', 'def', 'abc']\n",
      "invert l2 ['def', 'afc', 'r', 'b', 'a']\n"
     ]
    }
   ],
   "source": [
    "# Invert list\n",
    "l1 = ['abc', 'def', 'ghi']\n",
    "l2 = ['a', 'b', 'r', 'afc', 'def']\n",
    "\n",
    "l1.reverse()\n",
    "print(\"invert l1:\", l1)\n",
    "l2.reverse()\n",
    "print(\"invert l2:\", l2)"
   ]
  }
 ],
 "metadata": {
  "kernelspec": {
   "display_name": "Python 3",
   "language": "python",
   "name": "python3"
  },
  "language_info": {
   "codemirror_mode": {
    "name": "ipython",
    "version": 3
   },
   "file_extension": ".py",
   "mimetype": "text/x-python",
   "name": "python",
   "nbconvert_exporter": "python",
   "pygments_lexer": "ipython3",
   "version": "3.7.0"
  }
 },
 "nbformat": 4,
 "nbformat_minor": 2
}
