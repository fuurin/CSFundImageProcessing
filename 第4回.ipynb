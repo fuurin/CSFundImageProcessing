{
 "cells": [
  {
   "cell_type": "markdown",
   "metadata": {},
   "source": [
    "# Computer Vision"
   ]
  },
  {
   "cell_type": "markdown",
   "metadata": {},
   "source": [
    "ハフ変換のアルゴリズム  \n",
    "https://qiita.com/YSRKEN/items/ee94c7c22599c2374722  \n",
    "高精度高負荷の直線や円を検出するアルゴリズム  \n",
    "これを使って文字認識の時角度を修正する"
   ]
  },
  {
   "cell_type": "markdown",
   "metadata": {},
   "source": [
    "モルフォロジー演算  \n",
    "[モルフォロジー演算とは](https://www.souya.biz/blog/2018/02/14/%E3%83%A2%E3%83%AB%E3%83%95%E3%82%A9%E3%83%AD%E3%82%B8%E3%83%BC%E6%BC%94%E7%AE%97-%E3%81%A8%E3%81%AF/)\n",
    "[モルフォロジー演算について，OpenCV,Python](http://pynote.hatenablog.com/entry/opencv-morpology)  \n",
    "膨張もしくは縮小を行なって図形の検出を行いやすくする．  \n",
    "そのアルゴリズムでは近傍の画素の多数決をとる"
   ]
  },
  {
   "cell_type": "markdown",
   "metadata": {},
   "source": [
    "ガウシアンカーネル->ガウシアン関数  \n",
    "自然な畳み込み，平滑化に利用する  \n",
    "https://algorithm.joho.info/image-processing/gaussian-filter/"
   ]
  },
  {
   "cell_type": "markdown",
   "metadata": {},
   "source": [
    "Homework  \n",
    "Given 10 example images (already pre-processed), find out which of the 4 given blob detectors works best.  \n",
    "\n",
    "Main Goal: Segment individual Kanji.  \n",
    "Secondary Goal: Segment ima Kanji  \n",
    "Design experiments, Evaluation measures are critical, false positives, false negatives.  \n",
    "評価基準が難しい  \n",
    "Submit the code files that you have used/modified, also submit your report in pdf/odt/doc format. Zip everything into one single file.  "
   ]
  },
  {
   "cell_type": "markdown",
   "metadata": {},
   "source": [
    "Blob検出の3手法について  \n",
    "http://scikit-image.org/docs/dev/auto_examples/features_detection/plot_blob.html  \n",
    "\n",
    "### Laplacian of Gaussian (LoG)\n",
    "もっとも正確で遅いアプローチ．ガウシアン画像のラプラシアンの標準偏差を逐次増加させ，それらを3次元データ(x,y,LoG(x,y) かな?)にスタックしていく．ブロブはその3次元データの極大値である．大きいブロブであるほど，畳み込みで大きなカーネルを利用する必要があるため，検出するのに時間がかかる．暗いバックグラウンド上の明るいブロブのみを検出できる．  \n",
    "[リファレンス](\n",
    "http://scikit-image.org/docs/dev/api/skimage.feature.html#skimage.feature.blob_log)  \n",
    "実際結構時間かかった\n",
    "[LoGフィルタとは](https://algorithm.joho.info/image-processing/laplacian-of-gaussian-filter/)\n",
    "ガウシアンフィルタとラプラシアンフィルタを合わせたフィルタ．  \n",
    "LoGフィルタの計算式は\n",
    "$$ LoG(x,y) = \\frac{x^2 + y^2 - \\sigma ^2}{2 \\pi \\sigma ^ 6} \\exp (- \\frac{x^2 + y^2}{2 \\sigma^2}) $$\n",
    "で与えられ，ガウシアンフィルタの式を2階微分することで求まる．\n",
    "\n",
    "\n",
    "### Defference of Gaussian (DoG)\n",
    "LoGよりも高速な近似アプローチである．画像は逐次増加する標準偏差にしたがってぼやかされ，2つの逐次的にぼやかされた画像が3次元データとしてスタックされていく．この手法は，LoGと同様に大きなブロブになるほど検出に時間がかかる．こちらも暗いバックグラウンドの上の明るいブロブを検出する．  \n",
    "[リファレンス](http://scikit-image.org/docs/dev/api/skimage.feature.html#skimage.feature.blob_dog)  \n",
    "\n",
    "### Determinant of Hessian (DoH)\n",
    "もっとも高速なアプローチ.画像のヘッセ行列の行列式による行列の最大値を探すことでブロブを検出する．実装では畳み込みではなく箱型のフィルタを利用するため，検出スピードはブロブの大きさに関係ない．これも同様に暗いバックグラウンド状の明るいブロブを検出する．欠点としては，小さいブロブ(<3px)をうまく検出することができない．  \n",
    "[リファレンス](http://scikit-image.org/docs/dev/api/skimage.feature.html#skimage.feature.blob_doh)  "
   ]
  }
 ],
 "metadata": {
  "kernelspec": {
   "display_name": "Python 3",
   "language": "python",
   "name": "python3"
  },
  "language_info": {
   "codemirror_mode": {
    "name": "ipython",
    "version": 3
   },
   "file_extension": ".py",
   "mimetype": "text/x-python",
   "name": "python",
   "nbconvert_exporter": "python",
   "pygments_lexer": "ipython3",
   "version": "3.7.0"
  }
 },
 "nbformat": 4,
 "nbformat_minor": 2
}
