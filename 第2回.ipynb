{
 "cells": [
  {
   "cell_type": "markdown",
   "metadata": {},
   "source": [
    "MODELLING  \n",
    "その前にTuple，Named Tuple, Dictionaries"
   ]
  },
  {
   "cell_type": "code",
   "execution_count": 1,
   "metadata": {},
   "outputs": [
    {
     "data": {
      "text/plain": [
       "[9, 8, 7, 6, 5, 4, 3, 2, 1, 0]"
      ]
     },
     "execution_count": 1,
     "metadata": {},
     "output_type": "execute_result"
    }
   ],
   "source": [
    "# リストの反転\n",
    "a = range(10)\n",
    "# from, until, step\n",
    "list(a[::-1])"
   ]
  },
  {
   "cell_type": "code",
   "execution_count": 2,
   "metadata": {},
   "outputs": [
    {
     "name": "stdout",
     "output_type": "stream",
     "text": [
      "First List: ['lists', 'I', 'am']\n",
      "Second List: ['a', 'leed', 'I']\n",
      "OUTPUT: True\n"
     ]
    }
   ],
   "source": [
    "l1 = [\"lists\", \"I\", \"am\"]\n",
    "l2 = [\"a\", \"leed\", \"I\"]\n",
    "\n",
    "def listShareString(l1, l2):\n",
    "    return len(set(l1) & set(l2)) > 0\n",
    "\n",
    "print(\"First List:\", l1)\n",
    "print(\"Second List:\", l2)\n",
    "\n",
    "print(\"OUTPUT:\", listShareString(l1, l2))"
   ]
  },
  {
   "cell_type": "code",
   "execution_count": 3,
   "metadata": {
    "scrolled": true
   },
   "outputs": [
    {
     "name": "stdout",
     "output_type": "stream",
     "text": [
      "1 3\n",
      "1 2\n",
      "2 3\n"
     ]
    },
    {
     "data": {
      "text/plain": [
       "12"
      ]
     },
     "execution_count": 3,
     "metadata": {},
     "output_type": "execute_result"
    }
   ],
   "source": [
    "def factorial(n):\n",
    "    if n < 0: raise ValueError(\"input 0 or positive number\")\n",
    "    return 1 if n <= 1 else n * factorial(n-1)\n",
    "\n",
    "# print([factorial(i) for i in range(3,1000)])\n",
    "# factorial(2959) # recursive limit\n",
    "\n",
    "def _factorial_for_memory(f, t):\n",
    "    print(f, t)\n",
    "    dist = t - f\n",
    "    if dist == 1: return f * t\n",
    "    return _factorial_for_memory(f, t - (dist - 1)) * _factorial_for_memory(f + (dist - 1), t)\n",
    "\n",
    "def factorial_for_memory(n): \n",
    "    return _factorial_for_memory(1, n)\n",
    "\n",
    "factorial_for_memory(3)"
   ]
  },
  {
   "cell_type": "markdown",
   "metadata": {},
   "source": [
    "1 5\n",
    "1 2, 3 5\n",
    "2, "
   ]
  },
  {
   "cell_type": "code",
   "execution_count": 4,
   "metadata": {},
   "outputs": [
    {
     "data": {
      "text/plain": [
       "[(0, 1, 2), (0, 2, 1), (1, 0, 2), (1, 2, 0), (2, 0, 1), (2, 1, 0)]"
      ]
     },
     "execution_count": 4,
     "metadata": {},
     "output_type": "execute_result"
    }
   ],
   "source": [
    "# 全ての組み合わせを生成\n",
    "import itertools\n",
    "list(itertools.permutations(range(3)))"
   ]
  },
  {
   "cell_type": "markdown",
   "metadata": {},
   "source": [
    "ソート\n",
    "- selection sort: 最大値を後ろに追いやっていく O(n^2)\n",
    "- bubble sort: バブルソート O(n^2)\n",
    "- merge sort: 2つに分けて要素が1つになったら隣のブロックとマージしていく O(n logn)\n",
    "- timsort: python のソート， O(n logn)"
   ]
  },
  {
   "cell_type": "markdown",
   "metadata": {},
   "source": [
    "時間計って，データ数と時間の関係を図で表して，一番速い奴がどれかを決めて，なぜそれが速いのか考察して，提出：yagodiezdoncso@gmail.com  \n",
    "コードはファイルをそれぞれ分けて提出\n",
    "レポートはPDFかなんかで提出"
   ]
  },
  {
   "cell_type": "code",
   "execution_count": 70,
   "metadata": {},
   "outputs": [],
   "source": [
    "import time\n",
    "import random\n",
    "\n",
    "def measure_sort(lengths_of_lists, algorithm, max_int=10000):\n",
    "    elapsed_times = []\n",
    "    for length in lengths_of_lists:\n",
    "        alist = [random.randint(0, max_int) for i in range(length)]\n",
    "        start = time.time()\n",
    "        algorithm(alist)\n",
    "        end = time.time()\n",
    "        elapsed_times.append(end - start)\n",
    "    \n",
    "    return [lengths_of_lists, elapsed_times]\n",
    "\n",
    "lengths = [10, 20, 30, 50, 100, 200, 500, 800, 1500, 2500]"
   ]
  },
  {
   "cell_type": "code",
   "execution_count": 71,
   "metadata": {},
   "outputs": [],
   "source": [
    "# copied from\n",
    "# http://interactivepython.org/runestone/static/pythonds/SortSearch/TheSelectionSort.html\n",
    "def selectionSort(alist):\n",
    "    for fillslot in range(len(alist)-1,0,-1):\n",
    "        positionOfMax=0\n",
    "        for location in range(1,fillslot+1):\n",
    "            if alist[location]>alist[positionOfMax]:\n",
    "                positionOfMax = location\n",
    "\n",
    "        temp = alist[fillslot]\n",
    "        alist[fillslot] = alist[positionOfMax]\n",
    "        alist[positionOfMax] = temp"
   ]
  },
  {
   "cell_type": "code",
   "execution_count": 72,
   "metadata": {},
   "outputs": [],
   "source": [
    "# copied from\n",
    "# http://interactivepython.org/runestone/static/pythonds/SortSearch/TheBubbleSort.html\n",
    "def bubbleSort(alist):\n",
    "    for passnum in range(len(alist)-1,0,-1):\n",
    "        for i in range(passnum):\n",
    "            if alist[i]>alist[i+1]:\n",
    "                temp = alist[i]\n",
    "                alist[i] = alist[i+1]\n",
    "                alist[i+1] = temp"
   ]
  },
  {
   "cell_type": "code",
   "execution_count": 73,
   "metadata": {},
   "outputs": [],
   "source": [
    "# copied from\n",
    "# https://www.pythoncentral.io/merge-sort-implementation-guide/\n",
    "def mergeSort(alist):\n",
    "    if len(alist)>1:\n",
    "        mid = len(alist)//2\n",
    "        lefthalf = alist[:mid]\n",
    "        righthalf = alist[mid:]\n",
    "\n",
    "        mergeSort(lefthalf)\n",
    "        mergeSort(righthalf)\n",
    "\n",
    "        i=0\n",
    "        j=0\n",
    "        k=0\n",
    "\n",
    "        while i < len(lefthalf) and j < len(righthalf):\n",
    "            if lefthalf[i] < righthalf[j]:\n",
    "                alist[k]=lefthalf[i]\n",
    "                i=i+1\n",
    "            else:\n",
    "                alist[k]=righthalf[j]\n",
    "                j=j+1\n",
    "                k=k+1\n",
    "\n",
    "        while i < len(lefthalf):\n",
    "            alist[k]=lefthalf[i]\n",
    "            i=i+1\n",
    "            k=k+1\n",
    "\n",
    "        while j < len(righthalf):\n",
    "            alist[k]=righthalf[j]\n",
    "            j=j+1\n",
    "            k=k+1"
   ]
  },
  {
   "cell_type": "code",
   "execution_count": 74,
   "metadata": {},
   "outputs": [],
   "source": [
    "def timSort(alist):\n",
    "    alist.sort()\n",
    "    return alist"
   ]
  },
  {
   "cell_type": "code",
   "execution_count": 86,
   "metadata": {},
   "outputs": [
    {
     "data": {
      "image/png": "[encoded data removed]",
      "text/plain": [
       "<Figure size 432x288 with 1 Axes>"
      ]
     },
     "metadata": {
      "needs_background": "light"
     },
     "output_type": "display_data"
    }
   ],
   "source": [
    "import matplotlib.pyplot as plt\n",
    "\n",
    "selection_sort_times = measure_sort(lengths, selectionSort)\n",
    "bubble_sort_times = measure_sort(lengths, bubbleSort)\n",
    "merge_sort_times = measure_sort(lengths, mergeSort)\n",
    "tim_sort_times = measure_sort(lengths, timSort)\n",
    "\n",
    "plt.plot(*selection_sort_times)\n",
    "plt.plot(*bubble_sort_times)\n",
    "plt.plot(*merge_sort_times)\n",
    "plt.plot(*tim_sort_times)\n",
    "plt.title(\"Relations between length of lists and the elapsed time\")\n",
    "plt.xlabel(\"Lengths of Lists\")\n",
    "plt.ylabel(\"Elapsed Time [sec]\")\n",
    "plt.legend([\"selection sort\", \"bubble sort\", \"merge sort\", \"tim sort\"])\n",
    "plt.show()"
   ]
  },
  {
   "cell_type": "markdown",
   "metadata": {},
   "source": [
    "merge sort and tim sort are $O(n logn)$.  \n",
    "So they are considerably faster than bubble sort and selection sort whose orders are $O(n^2)$"
   ]
  },
  {
   "cell_type": "markdown",
   "metadata": {},
   "source": [
    "# Tuple"
   ]
  },
  {
   "cell_type": "code",
   "execution_count": 42,
   "metadata": {},
   "outputs": [],
   "source": [
    "myTuple = (\"Winston\", 25, 15.23, True, [\"reading\", \"cricket\"]) # Immutable"
   ]
  },
  {
   "cell_type": "code",
   "execution_count": 63,
   "metadata": {},
   "outputs": [],
   "source": [
    "from collections import namedtuple as nt\n",
    "\n",
    "playerQualiteies = nt('playerQualities', 'power spling stamina')"
   ]
  },
  {
   "cell_type": "markdown",
   "metadata": {},
   "source": [
    "Create a list of 3d points (random [-1, 1]^3)  \n",
    "Change negatives to zero"
   ]
  },
  {
   "cell_type": "code",
   "execution_count": 79,
   "metadata": {},
   "outputs": [
    {
     "name": "stdout",
     "output_type": "stream",
     "text": [
      "[(0.1400892581959572, 0.7860663311634741, 0.9359282324496989), (-0.6520962606764493, 0.8342084234679001, 0.6723917768666858), (-0.38795935302826967, -0.45356666158053227, -0.4525720529687902), (-0.3107525695267572, 0.4469061642016747, -0.7191158071239949), (-0.10878543000013807, -0.6898060088202094, 0.362713708612425), (0.6527560240652013, 0.6396682080151708, 0.08611804614015472), (-0.39679327250727225, -0.8668864541233277, -0.580640501243703), (0.3774382943658754, -0.2955309692750838, -0.547076482222129), (-0.21196228715756793, -0.6911585854808797, 0.7992688843060953), (-0.7044128976464283, -0.020586402776478607, 0.7088869829524598)] \n",
      "\n",
      "[(0.1400892581959572, 0.7860663311634741, 0.9359282324496989), (0, 0.8342084234679001, 0.6723917768666858), (0, 0, 0), (0, 0.4469061642016747, 0), (0, 0, 0.362713708612425), (0.6527560240652013, 0.6396682080151708, 0.08611804614015472), (0, 0, 0), (0.3774382943658754, 0, 0), (0, 0, 0.7992688843060953), (0, 0, 0.7088869829524598)]\n"
     ]
    }
   ],
   "source": [
    "import numpy as np\n",
    "unif = np.random.uniform\n",
    "num_points = 10\n",
    "\n",
    "points = [(unif(-1, 1), unif(-1, 1), unif(-1, 1)) for i in range(num_points)]\n",
    "print(points, '\\n')\n",
    "\n",
    "positive_points = [(max(0, x), max(0, y), max(0, z)) for x, y, z in points]\n",
    "print(positive_points)"
   ]
  },
  {
   "cell_type": "markdown",
   "metadata": {},
   "source": [
    "# Dictionary(Map)\n",
    "定数オーダで欲しいデータが手に入るよ  \n",
    ".items()でイテレートできるよ"
   ]
  },
  {
   "cell_type": "code",
   "execution_count": 91,
   "metadata": {},
   "outputs": [
    {
     "name": "stdout",
     "output_type": "stream",
     "text": [
      "0 -> 7\n",
      "1 -> 7\n",
      "2 -> 7\n",
      "3 -> 8\n",
      "4 -> 5\n",
      "5 -> 6\n",
      "6 -> 3\n",
      "7 -> 3\n",
      "8 -> 2\n",
      "9 -> 3\n"
     ]
    }
   ],
   "source": [
    "d = {}\n",
    "for i in range(10):\n",
    "    d[i] = np.random.randint(0, 10)\n",
    "\n",
    "for n, i in d.items():\n",
    "    print(n, \"->\", i)"
   ]
  }
 ],
 "metadata": {
  "kernelspec": {
   "display_name": "Python 3",
   "language": "python",
   "name": "python3"
  },
  "language_info": {
   "codemirror_mode": {
    "name": "ipython",
    "version": 3
   },
   "file_extension": ".py",
   "mimetype": "text/x-python",
   "name": "python",
   "nbconvert_exporter": "python",
   "pygments_lexer": "ipython3",
   "version": "3.7.0"
  }
 },
 "nbformat": 4,
 "nbformat_minor": 2
}
